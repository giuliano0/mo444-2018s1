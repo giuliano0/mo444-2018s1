{
 "cells": [
  {
   "cell_type": "markdown",
   "metadata": {},
   "source": [
    "# Trying headless nets with SVM and LogReg"
   ]
  },
  {
   "cell_type": "code",
   "execution_count": 2,
   "metadata": {},
   "outputs": [],
   "source": [
    "import os\n",
    "import time\n",
    "import shutil\n",
    "import pickle\n",
    "import numpy as np\n",
    "import pandas as pd\n",
    "import tensorflow as tf\n",
    "import keras\n",
    "\n",
    "from functools import partial\n",
    "\n",
    "from tqdm import tqdm\n",
    "\n",
    "from matplotlib import pyplot as plt\n",
    "\n",
    "from keras import backend as K\n",
    "from keras.preprocessing import image\n",
    "from keras.applications import VGG19, InceptionV3, ResNet50, Xception\n",
    "from keras.preprocessing.image import ImageDataGenerator\n",
    "from keras import optimizers\n",
    "from keras.models import Sequential, Model, load_model\n",
    "from keras.layers import Dropout, Dense, Flatten, GlobalAveragePooling2D, GlobalMaxPooling2D\n",
    "from keras.callbacks import Callback, LearningRateScheduler\n",
    "\n",
    "from sklearn.svm import SVC\n",
    "from sklearn.linear_model import LogisticRegression\n",
    "from sklearn.ensemble import VotingClassifier\n",
    "from sklearn.metrics import accuracy_score, f1_score, make_scorer\n",
    "from sklearn.model_selection import cross_val_score, cross_validate, StratifiedShuffleSplit\n",
    "\n",
    "from skimage.transform import resize\n"
   ]
  },
  {
   "cell_type": "code",
   "execution_count": 3,
   "metadata": {},
   "outputs": [],
   "source": [
    "os.chdir('/home/giuliano/git/mo444/lab4/')"
   ]
  },
  {
   "cell_type": "markdown",
   "metadata": {},
   "source": [
    "## This section contains code related to the trained model I load later on"
   ]
  },
  {
   "cell_type": "code",
   "execution_count": 4,
   "metadata": {},
   "outputs": [],
   "source": [
    "train_dir = 'data/train/'\n",
    "test_dir = 'data/test/'\n",
    "val_dir = 'data/val/'\n",
    "\n",
    "params = {\n",
    "    'arch': 'inceptionv3',\n",
    "    'image_size': (299, 299),\n",
    "    'receptive_field': (299, 299, 3),\n",
    "    'batch_size': 32,\n",
    "    'n_classes': 83,\n",
    "    'n_epochs': 20,\n",
    "}"
   ]
  },
  {
   "cell_type": "code",
   "execution_count": 6,
   "metadata": {},
   "outputs": [],
   "source": [
    "net = None\n",
    "arch = params['arch'].lower()\n",
    "\n",
    "if arch == 'vgg19':\n",
    "    params['image_size'] = (224, 224)\n",
    "    params['receptive_field'] = (224, 224, 3)\n",
    "\n",
    "    net = VGG19(\n",
    "        include_top=False,\n",
    "        weights='imagenet',\n",
    "        input_shape=params['receptive_field']\n",
    "    )\n",
    "elif arch == 'inceptionv3':\n",
    "    net = InceptionV3(\n",
    "        include_top=False,\n",
    "        weights='imagenet',\n",
    "        input_shape=params['receptive_field']\n",
    "    )\n",
    "elif arch == 'resnet50':\n",
    "    params['image_size'] = (224, 224)\n",
    "    params['receptive_field'] = (224, 224, 3)\n",
    "\n",
    "    net = ResNet50(\n",
    "        include_top=False,\n",
    "        weights='imagenet',\n",
    "        input_shape=params['receptive_field']\n",
    "    )\n",
    "elif arch == 'xception':\n",
    "    net = Xception(\n",
    "        include_top=False,\n",
    "        weights='imagenet',\n",
    "        input_shape=params['receptive_field']\n",
    "    )\n",
    "else:\n",
    "    raise ValueError('Architecture name is unknown')\n"
   ]
  },
  {
   "cell_type": "code",
   "execution_count": null,
   "metadata": {},
   "outputs": [],
   "source": [
    "for layer in net.layers:\n",
    "    layer.trainable = False\n",
    "\n",
    "# 12 or 17 is okay for inception\n",
    "#for layer in net.layers[-12:]:\n",
    "#    layer.trainable = True"
   ]
  },
  {
   "cell_type": "code",
   "execution_count": 8,
   "metadata": {},
   "outputs": [
    {
     "name": "stdout",
     "output_type": "stream",
     "text": [
      "_________________________________________________________________\n",
      "Layer (type)                 Output Shape              Param #   \n",
      "=================================================================\n",
      "inception_v3 (Model)         (None, 8, 8, 2048)        21802784  \n",
      "_________________________________________________________________\n",
      "global_average_pooling2d_1 ( (None, 2048)              0         \n",
      "=================================================================\n",
      "Total params: 21,802,784\n",
      "Trainable params: 0\n",
      "Non-trainable params: 21,802,784\n",
      "_________________________________________________________________\n"
     ]
    }
   ],
   "source": [
    "# Keras handles bottleneck models\n",
    "bottleneck_model = Sequential()\n",
    "\n",
    "bottleneck_model.add(net)\n",
    "bottleneck_model.add(GlobalAveragePooling2D())\n",
    "\n",
    "bottleneck_model.summary()"
   ]
  },
  {
   "cell_type": "markdown",
   "metadata": {},
   "source": [
    "## Using the trained model and its bottleneck\n",
    "Henceforth:\n",
    " - Load the trained model (Inception + GAP + Dense/Softmax)\n",
    " - Create a secondary model using only the inner Inception net\n",
    " - Try a prediction on both\n",
    " - Write the code for prediction over the whole validation set for both models\n",
    " - Use this data as input features for two SVMs\n",
    " - Evaluate SVMs' predictions\n",
    " - Try to combine them and evaluate that instead\n",
    " - Try one class SVMs instead, repeat"
   ]
  },
  {
   "cell_type": "code",
   "execution_count": 5,
   "metadata": {},
   "outputs": [
    {
     "name": "stdout",
     "output_type": "stream",
     "text": [
      "_________________________________________________________________\n",
      "Layer (type)                 Output Shape              Param #   \n",
      "=================================================================\n",
      "inception_v3 (Model)         (None, 8, 8, 2048)        21802784  \n",
      "_________________________________________________________________\n",
      "global_avg_pool (GlobalAvera (None, 2048)              0         \n",
      "_________________________________________________________________\n",
      "classifier (Dense)           (None, 83)                170067    \n",
      "=================================================================\n",
      "Total params: 21,972,851\n",
      "Trainable params: 170,067\n",
      "Non-trainable params: 21,802,784\n",
      "_________________________________________________________________\n"
     ]
    }
   ],
   "source": [
    "full_model = load_model('models/model5/inception_v3_spoton.model.h5')\n",
    "\n",
    "full_model.summary()"
   ]
  },
  {
   "cell_type": "code",
   "execution_count": null,
   "metadata": {},
   "outputs": [],
   "source": [
    "# Reference code (Chollet's)\n",
    "#bottleneck_model = Model(input=base_model.input, output=base_model.get_layer('block4_pool').output)\n",
    "\n",
    "# This is the Inception v3 network I used to train my current model\n",
    "net = full_model.layers[0]\n",
    "\n",
    "# Now we build another model ontop of it for the bottleneck features using a GAP layer\n",
    "x = GlobalAveragePooling2D()(net.get_layer('mixed10').output) # 310 is the last inception layer\n",
    "bottleneck_model = Model(net.get_layer('input_1').input, x, name='inception_v3_bottleneck')\n",
    "\n",
    "# This list is as long as Inception's\n",
    "bottleneck_model.summary()"
   ]
  },
  {
   "cell_type": "markdown",
   "metadata": {},
   "source": [
    "`svm_bottleneck` should connect to the output of `bottleneck_model`, thus training based on image features.\n",
    "\n",
    "`svm_net` should connect to the output of `full_model`, thus training on the output of the deep model."
   ]
  },
  {
   "cell_type": "code",
   "execution_count": 7,
   "metadata": {},
   "outputs": [],
   "source": [
    "svm_bottleneck = SVC(\n",
    "    C=1.0,\n",
    "    gamma='auto',\n",
    "    probability=True,\n",
    "    tol=0.001,\n",
    "    verbose=False,\n",
    "    decision_function_shape='ovr'\n",
    ")\n",
    "\n",
    "svm_net = SVC(\n",
    "    C=1.0,\n",
    "    gamma='auto',\n",
    "    probability=False,\n",
    "    tol=0.001,\n",
    "    verbose=False,\n",
    "    decision_function_shape='ovr'\n",
    ")"
   ]
  },
  {
   "cell_type": "markdown",
   "metadata": {},
   "source": [
    "## Data loading/augmentation\n",
    "Includes:\n",
    " - DataImageGenerators for training and validation\n",
    " - Helper function to extract maximum square crops during data augmentation\n",
    " - Feature extraction over both training and validation samples"
   ]
  },
  {
   "cell_type": "code",
   "execution_count": 8,
   "metadata": {},
   "outputs": [
    {
     "name": "stdout",
     "output_type": "stream",
     "text": [
      "Found 8300 images belonging to 83 classes.\n",
      "Found 6022 images belonging to 83 classes.\n"
     ]
    }
   ],
   "source": [
    "# Because net was trained for imagenet, I should normalise the input using:\n",
    "# mean = [0.485, 0.456, 0.406] and std = [0.229, 0.224, 0.225]\n",
    "# However, results came even without it, so I am sticking to no normalisation\n",
    "# until I find it necessary.\n",
    "\n",
    "def max_square_crop(image, location='random'):\n",
    "    '''\n",
    "    Returns a square crop of maximum dimensions within _image_.\n",
    "    The crop location can be 'random' (default) or 'centre'.\n",
    "    Yep, centre, fuck America.\n",
    "    '''\n",
    "    # Input is a numpy 3D array\n",
    "    height, width, _ = image.shape\n",
    "    side = np.min((height, width))\n",
    "    h_band = height - side\n",
    "    w_band = width - side\n",
    "    \n",
    "    if location == 'centre':\n",
    "        raise NotImplementedError('Sorry, central crop not implemented yet. Yes, lazy me.')\n",
    "\n",
    "    rand_row = np.random.randint(0, h_band + 1)\n",
    "    rand_col = np.random.randint(0, w_band + 1)\n",
    "    \n",
    "    square_crop = image[rand_row:(rand_row + side),\n",
    "                        rand_col:(rand_col + side), :]\n",
    "    \n",
    "    return square_crop\n",
    "\n",
    "\n",
    "preproc_crop = partial(max_square_crop, location='random')\n",
    "\n",
    "train_datagen = ImageDataGenerator(\n",
    "    rescale=1./255,\n",
    "    rotation_range=10,\n",
    "    width_shift_range=0.1,\n",
    "    height_shift_range=0.1,\n",
    "    horizontal_flip=True,\n",
    "    fill_mode='nearest',\n",
    "    zoom_range=0.2,\n",
    "    preprocessing_function=preproc_crop\n",
    ")\n",
    "\n",
    "validation_datagen = ImageDataGenerator(\n",
    "    rescale=1./255,\n",
    "    preprocessing_function=preproc_crop\n",
    ")\n",
    "\n",
    "if (os.getcwd()[-4:] != 'lab4'):\n",
    "    os.chdir('..')\n",
    "\n",
    "train_generator = train_datagen.flow_from_directory(\n",
    "    train_dir,\n",
    "    target_size=params['image_size'],\n",
    "    batch_size=params['batch_size'],\n",
    "    class_mode='categorical'\n",
    ")\n",
    "\n",
    "validation_generator = validation_datagen.flow_from_directory(\n",
    "    val_dir,\n",
    "    target_size=params['image_size'],\n",
    "    batch_size=params['batch_size'],\n",
    "    class_mode='categorical'\n",
    ")"
   ]
  },
  {
   "cell_type": "code",
   "execution_count": 40,
   "metadata": {},
   "outputs": [
    {
     "name": "stderr",
     "output_type": "stream",
     "text": [
      "/home/giuliano/git/mo444/lib/python3.6/site-packages/skimage/transform/_warps.py:84: UserWarning: The default mode, 'constant', will be changed to 'reflect' in skimage 0.15.\n",
      "  warn(\"The default mode, 'constant', will be changed to 'reflect' in \"\n"
     ]
    },
    {
     "data": {
      "text/plain": [
       "<matplotlib.image.AxesImage at 0x7f4ad9640128>"
      ]
     },
     "execution_count": 40,
     "metadata": {},
     "output_type": "execute_result"
    },
    {
     "data": {
      "image/png": "[encoded data removed]",
      "text/plain": [
       "<Figure size 432x288 with 1 Axes>"
      ]
     },
     "metadata": {},
     "output_type": "display_data"
    }
   ],
   "source": [
    "fn = train_generator.filenames[0]\n",
    "\n",
    "img = plt.imread(os.path.join(train_dir, fn))\n",
    "label = os.path.dirname(fn)\n",
    "\n",
    "img = preproc_crop(img)\n",
    "img = resize(img, params['image_size'], order=0)\n",
    "\n",
    "plt.imshow(img)"
   ]
  },
  {
   "cell_type": "markdown",
   "metadata": {},
   "source": [
    "### Use the network bottleneck to generate a feature dataset (train and validation)"
   ]
  },
  {
   "cell_type": "code",
   "execution_count": 41,
   "metadata": {},
   "outputs": [
    {
     "name": "stdout",
     "output_type": "stream",
     "text": [
      "Found 8300 images belonging to 83 classes.\n"
     ]
    },
    {
     "name": "stderr",
     "output_type": "stream",
     "text": [
      "  0%|          | 0/8300 [00:00<?, ?it/s]/home/giuliano/git/mo444/lib/python3.6/site-packages/skimage/transform/_warps.py:84: UserWarning: The default mode, 'constant', will be changed to 'reflect' in skimage 0.15.\n",
      "  warn(\"The default mode, 'constant', will be changed to 'reflect' in \"\n",
      "100%|██████████| 8300/8300 [05:15<00:00, 26.30it/s]\n"
     ]
    },
    {
     "name": "stdout",
     "output_type": "stream",
     "text": [
      "done\n"
     ]
    },
    {
     "data": {
      "text/plain": [
       "(8300, 8300)"
      ]
     },
     "execution_count": 41,
     "metadata": {},
     "output_type": "execute_result"
    }
   ],
   "source": [
    "# Using no augmentation for SVM, just the features\n",
    "svm_generator = validation_datagen.flow_from_directory(\n",
    "    train_dir,\n",
    "    target_size=params['image_size'],\n",
    "    batch_size=1, #params['batch_size']\n",
    "    class_mode='categorical'\n",
    ")\n",
    "\n",
    "samples_per_class = 100\n",
    "batch_size = 1 #params['batch_size']\n",
    "n_epochs = int(np.ceil(samples_per_class * params['n_classes'] / batch_size))\n",
    "#train_x = np.empty((0, 2048))\n",
    "#train_y = np.empty((0, 83))\n",
    "\n",
    "train_x = []\n",
    "train_y = []\n",
    "\n",
    "for fn in tqdm(svm_generator.filenames):\n",
    "    img = plt.imread(os.path.join(train_dir, fn))\n",
    "    label = os.path.dirname(fn)\n",
    "    \n",
    "    img = preproc_crop(img)\n",
    "    img = resize(img, params['image_size'], order=0)\n",
    "    #img /= 255.\n",
    "    \n",
    "    img_feats = bottleneck_model.predict(np.expand_dims(img, axis=0))\n",
    "    \n",
    "    train_x.append(img_feats)\n",
    "    train_y.append(label)\n",
    "\n",
    "'''\n",
    "for epoch in tqdm(range(n_epochs)):\n",
    "    batch, labels = svm_generator.next()\n",
    "    batch_features = bottleneck_model.predict_on_batch(batch)\n",
    "    \n",
    "    train_x = np.append(train_x, batch_features, axis=0)\n",
    "    train_y = np.append(train_y, labels, axis=0)\n",
    "'''\n",
    "\n",
    "train_x = np.array([x.flatten() for x in train_x])\n",
    "train_y = np.array([int(x) for x in train_y])\n",
    "\n",
    "print('done')\n",
    "#train_x.shape, train_y.shape\n",
    "len(train_x), len(train_y)"
   ]
  },
  {
   "cell_type": "code",
   "execution_count": 42,
   "metadata": {},
   "outputs": [
    {
     "name": "stdout",
     "output_type": "stream",
     "text": [
      "Found 6022 images belonging to 83 classes.\n"
     ]
    },
    {
     "name": "stderr",
     "output_type": "stream",
     "text": [
      "  0%|          | 0/6022 [00:00<?, ?it/s]/home/giuliano/git/mo444/lib/python3.6/site-packages/skimage/transform/_warps.py:84: UserWarning: The default mode, 'constant', will be changed to 'reflect' in skimage 0.15.\n",
      "  warn(\"The default mode, 'constant', will be changed to 'reflect' in \"\n",
      "100%|██████████| 6022/6022 [03:45<00:00, 26.71it/s]"
     ]
    },
    {
     "name": "stdout",
     "output_type": "stream",
     "text": [
      "done\n"
     ]
    },
    {
     "name": "stderr",
     "output_type": "stream",
     "text": [
      "\n"
     ]
    },
    {
     "data": {
      "text/plain": [
       "(6022, 6022)"
      ]
     },
     "execution_count": 42,
     "metadata": {},
     "output_type": "execute_result"
    }
   ],
   "source": [
    "# Using no augmentation for SVM, just the features\n",
    "svm_generator = validation_datagen.flow_from_directory(\n",
    "    val_dir,\n",
    "    target_size=params['image_size'],\n",
    "    batch_size=1, #params['batch_size']\n",
    "    class_mode='categorical'\n",
    ")\n",
    "\n",
    "samples_per_class_val = 73\n",
    "n_epochs = int(np.ceil(samples_per_class_val * params['n_classes'] / params['batch_size']))\n",
    "#val_x = np.empty((0, 2048))\n",
    "#val_y = np.empty((0, 83))\n",
    "\n",
    "val_x = []\n",
    "val_y = []\n",
    "\n",
    "for fn in tqdm(svm_generator.filenames):\n",
    "    img = plt.imread(os.path.join(val_dir, fn))\n",
    "    label = os.path.dirname(fn)\n",
    "    \n",
    "    img = preproc_crop(img)\n",
    "    img = resize(img, params['image_size'], order=0)\n",
    "    #img /= 255.\n",
    "    \n",
    "    img_feats = bottleneck_model.predict(np.expand_dims(img, axis=0))\n",
    "    \n",
    "    val_x.append(img_feats)\n",
    "    val_y.append(label)\n",
    "\n",
    "'''\n",
    "for epoch in tqdm(range(n_epochs)):\n",
    "    batch, labels = svm_generator.next()\n",
    "    batch_features = bottleneck_model.predict_on_batch(batch)\n",
    "    \n",
    "    val_x = np.append(val_x, batch_features, axis=0)\n",
    "    val_y = np.append(val_y, labels, axis=0)\n",
    "'''\n",
    "\n",
    "val_x = np.array([x.flatten() for x in val_x])\n",
    "val_y = np.array([int(x) for x in val_y])\n",
    "\n",
    "print('done')\n",
    "#val_x.shape, val_y.shape\n",
    "len(val_x), len(val_y)"
   ]
  },
  {
   "cell_type": "code",
   "execution_count": null,
   "metadata": {},
   "outputs": [],
   "source": [
    "# old code for old generator loop\n",
    "'''\n",
    "train_1hot = train_y.copy()\n",
    "val_1hot = val_y.copy()\n",
    "\n",
    "train_y = np.argmax(train_y, axis=1)\n",
    "val_y = np.argmax(val_y, axis=1)\n",
    "\n",
    "len(train_y), len(train_labels)\n",
    "'''"
   ]
  },
  {
   "cell_type": "markdown",
   "metadata": {},
   "source": [
    "### Checking bottleneck features dataset distribution (should be uniform for the train)"
   ]
  },
  {
   "cell_type": "code",
   "execution_count": 43,
   "metadata": {},
   "outputs": [
    {
     "name": "stdout",
     "output_type": "stream",
     "text": [
      "Estimated p =  0.012048192771084338\n"
     ]
    },
    {
     "data": {
      "text/plain": [
       "(0.012048192771084338, 0.0)"
      ]
     },
     "execution_count": 43,
     "metadata": {},
     "output_type": "execute_result"
    },
    {
     "data": {
      "image/png": "[encoded data removed]",
      "text/plain": [
       "<Figure size 432x288 with 1 Axes>"
      ]
     },
     "metadata": {},
     "output_type": "display_data"
    }
   ],
   "source": [
    "#class_distrib_train = np.array(np.sum(train_1hot, axis=0)).flatten()\n",
    "class_distrib_train = np.histogram(train_y, bins=np.arange(0, 1 + params['n_classes']))[0]\n",
    "\n",
    "plt.bar(np.arange(len(class_distrib_train)), class_distrib_train/np.sum(class_distrib_train))\n",
    "plt.savefig('img/bottleneck_train_distrib.png')\n",
    "print('Estimated p = ', 1/83)\n",
    "\n",
    "class_density_train = class_distrib_train / np.sum(class_distrib_train)\n",
    "\n",
    "np.mean(class_density_train), np.std(class_density_train)"
   ]
  },
  {
   "cell_type": "code",
   "execution_count": 44,
   "metadata": {},
   "outputs": [
    {
     "name": "stdout",
     "output_type": "stream",
     "text": [
      "Estimated p =  0.012048192771084338\n"
     ]
    },
    {
     "data": {
      "text/plain": [
       "(0.012048192771084336, 0.003849287576673688)"
      ]
     },
     "execution_count": 44,
     "metadata": {},
     "output_type": "execute_result"
    },
    {
     "data": {
      "image/png": "[encoded data removed]",
      "text/plain": [
       "<Figure size 432x288 with 1 Axes>"
      ]
     },
     "metadata": {},
     "output_type": "display_data"
    }
   ],
   "source": [
    "#class_distrib_val = np.array(np.sum(val_1hot, axis=0)).flatten()\n",
    "class_distrib_val = np.histogram(val_y, bins=np.arange(0, 1 + params['n_classes']))[0]\n",
    "\n",
    "plt.bar(np.arange(len(class_distrib_val)), class_distrib_val/np.sum(class_distrib_val))\n",
    "plt.savefig('img/bottleneck_val_distrib.png')\n",
    "print('Estimated p = ', 1/83)\n",
    "\n",
    "class_density_val = class_distrib_val / np.sum(class_distrib_val)\n",
    "\n",
    "np.mean(class_density_val), np.std(class_density_val)"
   ]
  },
  {
   "cell_type": "code",
   "execution_count": 45,
   "metadata": {},
   "outputs": [],
   "source": [
    "np.savez('models/bottleneck_datasets.npz', train_x, train_y, val_x, val_y)"
   ]
  },
  {
   "cell_type": "markdown",
   "metadata": {},
   "source": [
    "## Training the SVMs\n",
    "\n",
    "### Load dataset (in case of a cold start)"
   ]
  },
  {
   "cell_type": "code",
   "execution_count": 19,
   "metadata": {},
   "outputs": [
    {
     "data": {
      "text/plain": [
       "((8300, 2048), (8300,), (6022, 2048), (6022,))"
      ]
     },
     "execution_count": 19,
     "metadata": {},
     "output_type": "execute_result"
    }
   ],
   "source": [
    "data = np.load('models/bottleneck_datasets.npz')\n",
    "\n",
    "train_x = data['arr_0']\n",
    "train_y = data['arr_1']\n",
    "val_x = data['arr_2']\n",
    "val_y = data['arr_3']\n",
    "\n",
    "train_x.shape, train_y.shape, val_x.shape, val_y.shape"
   ]
  },
  {
   "cell_type": "markdown",
   "metadata": {},
   "source": [
    "### Dimensionality reduction (in case 2048 features is too much) via PCA and LDA"
   ]
  },
  {
   "cell_type": "code",
   "execution_count": 46,
   "metadata": {},
   "outputs": [],
   "source": [
    "from sklearn.svm import LinearSVC\n",
    "from sklearn.decomposition import PCA\n",
    "from sklearn.discriminant_analysis import LinearDiscriminantAnalysis"
   ]
  },
  {
   "cell_type": "code",
   "execution_count": 88,
   "metadata": {},
   "outputs": [
    {
     "data": {
      "text/plain": [
       "PCA(copy=True, iterated_power='auto', n_components=600, random_state=None,\n",
       "  svd_solver='auto', tol=0.0, whiten=False)"
      ]
     },
     "execution_count": 88,
     "metadata": {},
     "output_type": "execute_result"
    }
   ],
   "source": [
    "# 95% energy was in 600 dimensions or so\n",
    "pca = PCA(n_components=600)\n",
    "\n",
    "pca.fit(train_x)"
   ]
  },
  {
   "cell_type": "code",
   "execution_count": 64,
   "metadata": {},
   "outputs": [
    {
     "data": {
      "text/plain": [
       "(0.9504769, 2048)"
      ]
     },
     "execution_count": 64,
     "metadata": {},
     "output_type": "execute_result"
    },
    {
     "data": {
      "image/png": "[encoded data removed]",
      "text/plain": [
       "<Figure size 432x288 with 1 Axes>"
      ]
     },
     "metadata": {},
     "output_type": "display_data"
    }
   ],
   "source": [
    "n_feats = 600\n",
    "\n",
    "plt.plot(range(len(pca.explained_variance_ratio_[:n_feats])), pca.explained_variance_ratio_[:n_feats])\n",
    "\n",
    "np.sum(pca.explained_variance_ratio_[:n_feats]), len(pca.explained_variance_)"
   ]
  },
  {
   "cell_type": "code",
   "execution_count": 87,
   "metadata": {},
   "outputs": [
    {
     "data": {
      "text/plain": [
       "LinearDiscriminantAnalysis(n_components=68, priors=None, shrinkage=None,\n",
       "              solver='svd', store_covariance=False, tol=0.0001)"
      ]
     },
     "execution_count": 87,
     "metadata": {},
     "output_type": "execute_result"
    }
   ],
   "source": [
    "# 95% of energy in 68 dimensions or so\n",
    "lda = LinearDiscriminantAnalysis(n_components=68)\n",
    "\n",
    "lda.fit(train_x, train_y)"
   ]
  },
  {
   "cell_type": "code",
   "execution_count": 86,
   "metadata": {},
   "outputs": [
    {
     "data": {
      "text/plain": [
       "(0.9522358786282047, 82)"
      ]
     },
     "execution_count": 86,
     "metadata": {},
     "output_type": "execute_result"
    },
    {
     "data": {
      "image/png": "[encoded data removed]",
      "text/plain": [
       "<Figure size 432x288 with 1 Axes>"
      ]
     },
     "metadata": {},
     "output_type": "display_data"
    }
   ],
   "source": [
    "n_feats = 68\n",
    "\n",
    "plt.plot(range(len(lda.explained_variance_ratio_[:n_feats])), lda.explained_variance_ratio_[:n_feats])\n",
    "\n",
    "np.sum(lda.explained_variance_ratio_[:n_feats]), len(lda.explained_variance_ratio_)"
   ]
  },
  {
   "cell_type": "code",
   "execution_count": 105,
   "metadata": {},
   "outputs": [
    {
     "data": {
      "text/plain": [
       "((8300, 600), (8300, 68))"
      ]
     },
     "execution_count": 105,
     "metadata": {},
     "output_type": "execute_result"
    }
   ],
   "source": [
    "train_x_pca = pca.transform(train_x)\n",
    "train_x_lda = lda.transform(train_x)\n",
    "\n",
    "train_x_pca.shape, train_x_lda.shape"
   ]
  },
  {
   "cell_type": "markdown",
   "metadata": {},
   "source": [
    "### SVM 5-fold Crossvalidation w/ acc and f1 (all features, pca or lda)"
   ]
  },
  {
   "cell_type": "code",
   "execution_count": 96,
   "metadata": {},
   "outputs": [
    {
     "name": "stdout",
     "output_type": "stream",
     "text": [
      "finished in 1133.87s\n",
      "Models took an average 331s to train and another 47s to score\n",
      "Average accuracy was 0.954 +- 0.001 during training\n",
      "Average accuracy was 0.943 +- 0.006 during testing\n",
      "Average F1 was 0.954 +- 0.001 during training\n",
      "Average F1 was 0.942 +- 0.006 during testing\n"
     ]
    },
    {
     "name": "stderr",
     "output_type": "stream",
     "text": [
      "[Parallel(n_jobs=3)]: Done   5 out of   5 | elapsed: 18.9min finished\n"
     ]
    }
   ],
   "source": [
    "# f1_micro, f1_macro, f1_weighted\n",
    "scoring = {'accuracy': 'accuracy', 'f1': 'f1_macro'}\n",
    "\n",
    "svm_bottleneck = SVC(\n",
    "    C=1.0,\n",
    "    gamma='auto',\n",
    "    probability=True,\n",
    "    tol=0.001,\n",
    "    verbose=False,\n",
    "    decision_function_shape='ovr'\n",
    ")\n",
    "\n",
    "'''\n",
    "svm_bottleneck = LinearSVC(\n",
    "    penalty='l2',\n",
    "    loss='squared_hinge',\n",
    "    tol=0.0001,\n",
    "    C=1.0,\n",
    "    multi_class='ovr',\n",
    "    verbose=0,\n",
    "    max_iter=1000\n",
    ")\n",
    "'''\n",
    "\n",
    "t0 = time.time()\n",
    "scores = cross_validate(svm_bottleneck, train_x, train_y, scoring=scoring, cv=5, return_train_score=True, n_jobs=3, verbose=1)\n",
    "# with dimensionality reduction\n",
    "#scores = cross_validate(svm_bottleneck, train_x_pca, train_y, scoring=scoring, cv=5, return_train_score=True, n_jobs=3, verbose=1)\n",
    "#scores = cross_validate(svm_bottleneck, train_x_lda, train_y, scoring=scoring, cv=5, return_train_score=True, n_jobs=3, verbose=1)\n",
    "\n",
    "print('finished in %.2fs' % (time.time() - t0))\n",
    "\n",
    "print('Models took an average %ds to train and another %ds to score' % (np.mean(scores['fit_time']), np.mean(scores['score_time'])))\n",
    "print('Average accuracy was %.3f +- %.3f during training' % (np.mean(scores['train_accuracy']), np.std(scores['train_accuracy'])))\n",
    "print('Average accuracy was %.3f +- %.3f during testing' % (np.mean(scores['test_accuracy']), np.std(scores['test_accuracy'])))\n",
    "print('Average F1 was %.3f +- %.3f during training' % (np.mean(scores['train_f1']), np.std(scores['train_f1'])))\n",
    "print('Average F1 was %.3f +- %.3f during testing' % (np.mean(scores['test_f1']), np.std(scores['test_f1'])))"
   ]
  },
  {
   "cell_type": "markdown",
   "metadata": {},
   "source": [
    "### RBF SVM XVal results (5 fold, 3 threads)\n",
    "\n",
    "#### **LDA (68 features) [BEST]**\n",
    "- finished in 69.03s\n",
    "- Models took an average 21s to train and another 2s to score\n",
    "- Average accuracy was 0.996 +- 0.001 during training\n",
    "- Average accuracy was 0.971 +- 0.003 during testing\n",
    "- Average F1 was 0.996 +- 0.001 during training\n",
    "- Average F1 was 0.971 +- 0.003 during testing\n",
    "\n",
    "#### PCA (600 features)\n",
    "- finished in 263.25s\n",
    "- Models took an average 65s to train and another 13s to score\n",
    "- Average accuracy was 0.966 +- 0.002 during training\n",
    "- Average accuracy was 0.945 +- 0.004 during testing\n",
    "- Average F1 was 0.966 +- 0.002 during training\n",
    "- Average F1 was 0.944 +- 0.004 during testing\n",
    "\n",
    "#### No reduction\n",
    "- finished in 1133.87s\n",
    "- Models took an average 331s to train and another 47s to score\n",
    "- Average accuracy was 0.954 +- 0.001 during training\n",
    "- Average accuracy was 0.943 +- 0.006 during testing\n",
    "- Average F1 was 0.954 +- 0.001 during training\n",
    "- Average F1 was 0.942 +- 0.006 during testing"
   ]
  },
  {
   "cell_type": "markdown",
   "metadata": {},
   "source": [
    "### Linear SVM XVal results (5 fold, 3 threads)\n",
    "\n",
    "#### **LDA (68 features) [BEST]**\n",
    "- finished in 27.52s\n",
    "- Models took an average 13s to train and another 0s to score\n",
    "- Average accuracy was 0.994 +- 0.001 during training\n",
    "- Average accuracy was 0.973 +- 0.005 during testing\n",
    "- Average F1 was 0.994 +- 0.001 during training\n",
    "- Average F1 was 0.973 +- 0.005 during testing\n",
    "\n",
    "#### PCA (600 features)\n",
    "- finished in 66.86s\n",
    "- Models took an average 33s to train and another 0s to score\n",
    "- Average accuracy was 1.000 +- 0.000 during training\n",
    "- Average accuracy was 0.926 +- 0.005 during testing\n",
    "- Average F1 was 1.000 +- 0.000 during training\n",
    "- Average F1 was 0.926 +- 0.005 during testing\n",
    "\n",
    "#### No reduction\n",
    "- finished in 70.06s\n",
    "- Models took an average 35s to train and another 0s to score\n",
    "- Average accuracy was 1.000 +- 0.000 during training\n",
    "- Average accuracy was 0.935 +- 0.005 during testing\n",
    "- Average F1 was 1.000 +- 0.000 during training\n",
    "- Average F1 was 0.935 +- 0.005 during testing"
   ]
  },
  {
   "cell_type": "markdown",
   "metadata": {},
   "source": [
    "## le SVM train (RBF for probs, LDA feats)"
   ]
  },
  {
   "cell_type": "code",
   "execution_count": null,
   "metadata": {},
   "outputs": [],
   "source": [
    "from keras.utils import plot_model\n",
    "plot_model(bottleneck_model, to_file='inceptionv3_notop.png')\n",
    "plot_model(full_model, to_file='inceptionv3_full.png')"
   ]
  },
  {
   "cell_type": "code",
   "execution_count": null,
   "metadata": {},
   "outputs": [],
   "source": [
    "net.summary()"
   ]
  },
  {
   "cell_type": "code",
   "execution_count": 115,
   "metadata": {},
   "outputs": [
    {
     "name": "stdout",
     "output_type": "stream",
     "text": [
      "finished in 27.5s\n"
     ]
    },
    {
     "data": {
      "text/plain": [
       "(0.9302557289936898, 0.9254161237188564)"
      ]
     },
     "execution_count": 115,
     "metadata": {},
     "output_type": "execute_result"
    }
   ],
   "source": [
    "'''\n",
    "svm_bottleneck = SVC(\n",
    "    C=1.0,\n",
    "    gamma='auto',\n",
    "    probability=True,\n",
    "    tol=0.001,\n",
    "    verbose=False,\n",
    "    decision_function_shape='ovr'\n",
    ")\n",
    "'''\n",
    "svm_bottleneck = LinearSVC(\n",
    "    penalty='l2',\n",
    "    loss='squared_hinge',\n",
    "    tol=0.0001,\n",
    "    C=1.0,\n",
    "    multi_class='ovr',\n",
    "    verbose=0,\n",
    "    max_iter=1000\n",
    ")\n",
    "\n",
    "\n",
    "t0 = time.time()\n",
    "#svm_bottleneck.fit(train_x_lda, train_y) # 86 89\n",
    "svm_bottleneck.fit(train_x_pca, train_y) # 95 94\n",
    "#svm_bottleneck.fit(train_x, train_y) # 94 94\n",
    "print('finished in %.1fs' % (time.time() - t0))\n",
    "\n",
    "#val_x_lda = lda.transform(val_x)\n",
    "#svm_preds = svm_bottleneck.predict(val_x_lda)\n",
    "val_x_pca = pca.transform(val_x)\n",
    "svm_preds = svm_bottleneck.predict(val_x_pca)\n",
    "#svm_preds = svm_bottleneck.predict(val_x)\n",
    "\n",
    "accuracy_score(val_y, svm_preds), f1_score(val_y, svm_preds, average='macro')"
   ]
  },
  {
   "cell_type": "code",
   "execution_count": null,
   "metadata": {},
   "outputs": [],
   "source": [
    "'''\n",
    "cv = 5\n",
    "scores = {\n",
    "    'fit_time' = [],\n",
    "    'train_accuracy' = [0],\n",
    "    'test_accuracy' = [],\n",
    "    'train_f1' = [0],\n",
    "    'test_f1' = [],\n",
    "}\n",
    "classifiers = []\n",
    "sss = StratifiedShuffleSplit(n_splits=5, test_size=0.2)\n",
    "\n",
    "t0 = time.time()\n",
    "\n",
    "for train_idx, val_idx in sss.split(train_x, train_y):\n",
    "    Xt, yt = train_x[train_idx], train_y[train_idx]\n",
    "    Xv, yv = val_x[val_idx], val_y[val_idx]\n",
    "    \n",
    "    cls = SVC(\n",
    "        C=1.0, gamma='auto',\n",
    "        probability=True,\n",
    "        tol=0.001, verbose=False,\n",
    "        decision_function_shape='ovr'\n",
    "    )\n",
    "    \n",
    "    t0 = time.time()\n",
    "    cls.fit(Xt, yt)\n",
    "    train_time = time.time() - t0\n",
    "    \n",
    "    cls_tpreds = cls.predict(Xv)\n",
    "    cls_acc = accuracy_score(yv, cls_preds)\n",
    "    cls_f1 = f1_score(yv, cls_preds, average='macro')\n",
    "    \n",
    "    scores['fit_time'].append(train_time)\n",
    "    scores['test_accuracy'].append(cls_acc)\n",
    "    scores['test_f1'].append(cls_f1)\n",
    "'''\n",
    "\n",
    "#sss = StratifiedShuffleSplit(n_splits=5, test_size=0.5)\n",
    "#for "
   ]
  },
  {
   "cell_type": "code",
   "execution_count": 278,
   "metadata": {},
   "outputs": [
    {
     "name": "stdout",
     "output_type": "stream",
     "text": [
      "finished in 424.39s\n"
     ]
    }
   ],
   "source": [
    "# fit on train data\n",
    "t0 = time.time()\n",
    "svm_bottleneck.fit(train_x, train_y)\n",
    "print('finished in %.2fs' % (time.time() - t0))"
   ]
  },
  {
   "cell_type": "code",
   "execution_count": 279,
   "metadata": {},
   "outputs": [
    {
     "name": "stdout",
     "output_type": "stream",
     "text": [
      "finished in 132.46s\n"
     ]
    }
   ],
   "source": [
    "t0 = time.time()\n",
    "preds = svm_bottleneck.predict(val_x)\n",
    "print('finished in %.2fs' % (time.time() - t0))"
   ]
  },
  {
   "cell_type": "code",
   "execution_count": 282,
   "metadata": {},
   "outputs": [
    {
     "name": "stdout",
     "output_type": "stream",
     "text": [
      "finished in 136.37s\n"
     ]
    }
   ],
   "source": [
    "t0 = time.time()\n",
    "preds_prob = svm_bottleneck.predict_proba(val_x)\n",
    "print('finished in %.2fs' % (time.time() - t0))"
   ]
  },
  {
   "cell_type": "code",
   "execution_count": 286,
   "metadata": {},
   "outputs": [
    {
     "data": {
      "text/plain": [
       "array([0.00284991, 0.00257874, 0.00213553, 0.00470087, 0.00294736,\n",
       "       0.00295121, 0.00193655, 0.00099957, 0.00174083, 0.00150259,\n",
       "       0.00188458, 0.00126948, 0.00301752, 0.00130223, 0.00177268,\n",
       "       0.00406965, 0.00253043, 0.00329443, 0.00236877, 0.00766749,\n",
       "       0.00477115, 0.00204207, 0.00622745, 0.0049074 , 0.00721435,\n",
       "       0.00266479, 0.00221388, 0.00177658, 0.00169909, 0.00284939,\n",
       "       0.00297427, 0.00256683, 0.00284138, 0.00649074, 0.00333738,\n",
       "       0.00175484, 0.00194171, 0.00318364, 0.00313523, 0.01438967,\n",
       "       0.00322329, 0.00296094, 0.00182582, 0.0013066 , 0.0134804 ,\n",
       "       0.00126216, 0.00279906, 0.00339908, 0.00690571, 0.00178551,\n",
       "       0.00429368, 0.00221464, 0.00413542, 0.00216499, 0.00181059,\n",
       "       0.00192824, 0.00253742, 0.00223066, 0.00302232, 0.00303709,\n",
       "       0.00251439, 0.0092489 , 0.00296002, 0.00275809, 0.73455844,\n",
       "       0.0019207 , 0.00200178, 0.00207657, 0.00359526, 0.00706717,\n",
       "       0.002811  , 0.00162065, 0.0029259 , 0.00160498, 0.00233743,\n",
       "       0.00440473, 0.00095755, 0.00527326, 0.00199105, 0.00314246,\n",
       "       0.00170393, 0.00185911, 0.00184074])"
      ]
     },
     "execution_count": 286,
     "metadata": {},
     "output_type": "execute_result"
    }
   ],
   "source": [
    "preds_prob[0]"
   ]
  },
  {
   "cell_type": "code",
   "execution_count": 227,
   "metadata": {},
   "outputs": [
    {
     "name": "stdout",
     "output_type": "stream",
     "text": [
      "finished in 132.25s\n",
      "finished in 0.00s\n",
      "finished in 0.00s\n"
     ]
    },
    {
     "data": {
      "text/plain": [
       "(0.9225210758731434, 0.9228099555159774)"
      ]
     },
     "execution_count": 227,
     "metadata": {},
     "output_type": "execute_result"
    }
   ],
   "source": [
    "# test on validation data\n",
    "t0 = time.time()\n",
    "preds = svm_bottleneck.predict(val_x)\n",
    "print('finished in %.2fs' % (time.time() - t0))\n",
    "\n",
    "t0 = time.time()\n",
    "acc = accuracy_score(val_y, preds)\n",
    "print('finished in %.2fs' % (time.time() - t0))\n",
    "\n",
    "t0 = time.time()\n",
    "f1 = f1_score(val_y, preds, average='macro')\n",
    "print('finished in %.2fs' % (time.time() - t0))\n",
    "\n",
    "acc, f1"
   ]
  },
  {
   "cell_type": "code",
   "execution_count": 275,
   "metadata": {},
   "outputs": [],
   "source": [
    "# saving a backup of the previously trained svm just in case\n",
    "svm_bottleneck_bottleneck = svm_bottleneck"
   ]
  },
  {
   "cell_type": "markdown",
   "metadata": {},
   "source": [
    "## Test set"
   ]
  },
  {
   "cell_type": "code",
   "execution_count": 156,
   "metadata": {},
   "outputs": [],
   "source": [
    "testdf = pd.read_csv('data/MO444_dogs_test.txt', sep=' ', names=('original_filename', 'hashed_filename', 'label_idx'))\n",
    "\n",
    "#testdf"
   ]
  },
  {
   "cell_type": "code",
   "execution_count": 157,
   "metadata": {},
   "outputs": [],
   "source": [
    "for idx in testdf.index:\n",
    "    hashed_fn = testdf.iloc[idx]['hashed_filename']\n",
    "    testdf.at[idx, 'hashed_filename'] = '/'.join(hashed_fn.split('/')[-1:])\n",
    "\n",
    "#testdf"
   ]
  },
  {
   "cell_type": "code",
   "execution_count": 158,
   "metadata": {},
   "outputs": [],
   "source": [
    "for idx in testdf.index:\n",
    "    original_fn = testdf.iloc[idx]['original_filename']\n",
    "    testdf.at[idx, 'original_filename'] = original_fn.split('/')[3].split('.')[1]\n",
    "\n",
    "#testdf"
   ]
  },
  {
   "cell_type": "code",
   "execution_count": 159,
   "metadata": {},
   "outputs": [],
   "source": [
    "testdf.columns = ['label', 'hashed_filename', 'label_idx']"
   ]
  },
  {
   "cell_type": "code",
   "execution_count": 160,
   "metadata": {},
   "outputs": [],
   "source": [
    "filenames = list(np.array(testdf['hashed_filename']))"
   ]
  },
  {
   "cell_type": "code",
   "execution_count": 168,
   "metadata": {},
   "outputs": [],
   "source": [
    "#labels = np.array(testdf['label_idx'])"
   ]
  },
  {
   "cell_type": "code",
   "execution_count": 177,
   "metadata": {},
   "outputs": [
    {
     "name": "stderr",
     "output_type": "stream",
     "text": [
      "  0%|          | 0/5420 [00:00<?, ?it/s]/home/giuliano/git/mo444/lib/python3.6/site-packages/skimage/transform/_warps.py:84: UserWarning: The default mode, 'constant', will be changed to 'reflect' in skimage 0.15.\n",
      "  warn(\"The default mode, 'constant', will be changed to 'reflect' in \"\n",
      "100%|██████████| 5420/5420 [04:30<00:00, 20.04it/s]"
     ]
    },
    {
     "name": "stdout",
     "output_type": "stream",
     "text": [
      "done\n"
     ]
    },
    {
     "name": "stderr",
     "output_type": "stream",
     "text": [
      "\n"
     ]
    },
    {
     "data": {
      "text/plain": [
       "(5420, 5420)"
      ]
     },
     "execution_count": 177,
     "metadata": {},
     "output_type": "execute_result"
    }
   ],
   "source": [
    "samples_per_class = 100\n",
    "batch_size = 1 #params['batch_size']\n",
    "n_epochs = int(np.ceil(samples_per_class * params['n_classes'] / batch_size))\n",
    "#train_x = np.empty((0, 2048))\n",
    "#train_y = np.empty((0, 83))\n",
    "\n",
    "test_x = []\n",
    "test_y = np.array(testdf['label_idx'])\n",
    "\n",
    "for fn in tqdm(filenames):\n",
    "    img = plt.imread(os.path.join(test_dir, fn))\n",
    "    \n",
    "    img = preproc_crop(img)\n",
    "    img = resize(img, params['image_size'], order=0)\n",
    "    \n",
    "    img_feats = bottleneck_model.predict(np.expand_dims(img, axis=0))\n",
    "    \n",
    "    test_x.append(img_feats)\n",
    "\n",
    "'''\n",
    "for epoch in tqdm(range(n_epochs)):\n",
    "    batch, labels = svm_generator.next()\n",
    "    batch_features = bottleneck_model.predict_on_batch(batch)\n",
    "    \n",
    "    train_x = np.append(train_x, batch_features, axis=0)\n",
    "    train_y = np.append(train_y, labels, axis=0)\n",
    "'''\n",
    "\n",
    "test_x = np.array([x.flatten() for x in test_x])\n",
    "test_y = np.array([int(x) for x in test_y])\n",
    "\n",
    "print('done')\n",
    "#train_x.shape, train_y.shape\n",
    "len(test_x), len(test_y)"
   ]
  },
  {
   "cell_type": "code",
   "execution_count": 178,
   "metadata": {},
   "outputs": [
    {
     "name": "stdout",
     "output_type": "stream",
     "text": [
      "finished in 509.3s\n",
      "0.8239787446031219 0.8688594736860151\n",
      "0.950016605778811 0.947622671445991\n",
      "0.9456991032879442 0.9434218480184767\n"
     ]
    }
   ],
   "source": [
    "svms = [SVC(C=1.0, gamma='auto', probability=True, tol=0.001, verbose=False, decision_function_shape='ovr') for _ in range(3)]\n",
    "\n",
    "t0 = time.time()\n",
    "svms[0].fit(train_x_lda, train_y) # \n",
    "svms[1].fit(train_x_pca, train_y) # \n",
    "svms[2].fit(train_x, train_y)     # \n",
    "print('finished in %.1fs' % (time.time() - t0))\n",
    "\n",
    "test_x_lda = lda.transform(test_x)\n",
    "test_x_pca = pca.transform(test_x)\n",
    "\n",
    "lda_preds  = svms[0].predict(val_x_lda)\n",
    "pca_preds  = svms[1].predict(val_x_pca)\n",
    "nodr_preds = svms[2].predict(val_x)\n",
    "\n",
    "print(accuracy_score(val_y, lda_preds), f1_score(val_y, lda_preds, average='macro'))\n",
    "print(accuracy_score(val_y, pca_preds), f1_score(val_y, pca_preds, average='macro'))\n",
    "print(accuracy_score(val_y, nodr_preds), f1_score(val_y, nodr_preds, average='macro'))"
   ]
  },
  {
   "cell_type": "markdown",
   "metadata": {},
   "source": [
    "## Ensembling (f*** this)"
   ]
  },
  {
   "cell_type": "code",
   "execution_count": null,
   "metadata": {},
   "outputs": [],
   "source": [
    "# RBF SVC variance estimated s^2 = (0.003)^2\n",
    "\n",
    "def inverse_variance_weighting(predictions, variances):\n",
    "    if len(predictions) != len(variances):\n",
    "        print('Precictions-variances mismatch.')\n",
    "        sys.exit(0)\n",
    "    \n",
    "    aa = np.sum(np.divide(predictions, variances))\n",
    "    bb = 1 / np.sum(variances)\n",
    "    \n",
    "    return aa / bb"
   ]
  },
  {
   "cell_type": "code",
   "execution_count": null,
   "metadata": {},
   "outputs": [],
   "source": [
    "voting_clf = VotingClassifier([full_model, svm_bottleneck])"
   ]
  },
  {
   "cell_type": "markdown",
   "metadata": {},
   "source": [
    "So it remains to:\n",
    " - **[DONE]** Save pics relative to class distributions in generated datasets\n",
    " - Report crossval of svm classifier\n",
    " - Report svm validation stats on fully trained svm\n",
    " - **[WORKING]** Combine net and svm results somewhat (using label from svm and probs from net or both as probs)\n",
    " - Maybe produce a dataset of all images (using generator w/ no augmentation\n",
    " - Standardise feats before training svm\n",
    " - Svm ontop of net output (probs)"
   ]
  },
  {
   "cell_type": "markdown",
   "metadata": {},
   "source": [
    "## Data plotting (training/validation) for the inner net and all else"
   ]
  },
  {
   "cell_type": "code",
   "execution_count": 48,
   "metadata": {},
   "outputs": [
    {
     "data": {
      "text/html": [
       "<div>\n",
       "<style scoped>\n",
       "    .dataframe tbody tr th:only-of-type {\n",
       "        vertical-align: middle;\n",
       "    }\n",
       "\n",
       "    .dataframe tbody tr th {\n",
       "        vertical-align: top;\n",
       "    }\n",
       "\n",
       "    .dataframe thead th {\n",
       "        text-align: right;\n",
       "    }\n",
       "</style>\n",
       "<table border=\"1\" class=\"dataframe\">\n",
       "  <thead>\n",
       "    <tr style=\"text-align: right;\">\n",
       "      <th></th>\n",
       "      <th>loss</th>\n",
       "      <th>val_loss</th>\n",
       "      <th>categorical_accuracy</th>\n",
       "      <th>val_categorical_accuracy</th>\n",
       "    </tr>\n",
       "  </thead>\n",
       "  <tbody>\n",
       "    <tr>\n",
       "      <th>0</th>\n",
       "      <td>1.646185</td>\n",
       "      <td>0.328177</td>\n",
       "      <td>0.656265</td>\n",
       "      <td>0.915809</td>\n",
       "    </tr>\n",
       "    <tr>\n",
       "      <th>1</th>\n",
       "      <td>0.634889</td>\n",
       "      <td>0.268416</td>\n",
       "      <td>0.830602</td>\n",
       "      <td>0.920458</td>\n",
       "    </tr>\n",
       "    <tr>\n",
       "      <th>2</th>\n",
       "      <td>0.540507</td>\n",
       "      <td>0.298440</td>\n",
       "      <td>0.848675</td>\n",
       "      <td>0.901694</td>\n",
       "    </tr>\n",
       "    <tr>\n",
       "      <th>3</th>\n",
       "      <td>0.482357</td>\n",
       "      <td>0.264598</td>\n",
       "      <td>0.853855</td>\n",
       "      <td>0.914646</td>\n",
       "    </tr>\n",
       "    <tr>\n",
       "      <th>4</th>\n",
       "      <td>0.440917</td>\n",
       "      <td>0.259387</td>\n",
       "      <td>0.866627</td>\n",
       "      <td>0.918632</td>\n",
       "    </tr>\n",
       "    <tr>\n",
       "      <th>5</th>\n",
       "      <td>0.393683</td>\n",
       "      <td>0.286007</td>\n",
       "      <td>0.880000</td>\n",
       "      <td>0.912488</td>\n",
       "    </tr>\n",
       "    <tr>\n",
       "      <th>6</th>\n",
       "      <td>0.366481</td>\n",
       "      <td>0.269834</td>\n",
       "      <td>0.884337</td>\n",
       "      <td>0.918466</td>\n",
       "    </tr>\n",
       "    <tr>\n",
       "      <th>7</th>\n",
       "      <td>0.337267</td>\n",
       "      <td>0.281216</td>\n",
       "      <td>0.892410</td>\n",
       "      <td>0.914480</td>\n",
       "    </tr>\n",
       "    <tr>\n",
       "      <th>8</th>\n",
       "      <td>0.319434</td>\n",
       "      <td>0.285904</td>\n",
       "      <td>0.901928</td>\n",
       "      <td>0.912820</td>\n",
       "    </tr>\n",
       "    <tr>\n",
       "      <th>9</th>\n",
       "      <td>0.295072</td>\n",
       "      <td>0.270761</td>\n",
       "      <td>0.906627</td>\n",
       "      <td>0.915643</td>\n",
       "    </tr>\n",
       "    <tr>\n",
       "      <th>10</th>\n",
       "      <td>0.280208</td>\n",
       "      <td>0.288395</td>\n",
       "      <td>0.913855</td>\n",
       "      <td>0.912654</td>\n",
       "    </tr>\n",
       "    <tr>\n",
       "      <th>11</th>\n",
       "      <td>0.275883</td>\n",
       "      <td>0.272381</td>\n",
       "      <td>0.910723</td>\n",
       "      <td>0.916639</td>\n",
       "    </tr>\n",
       "    <tr>\n",
       "      <th>12</th>\n",
       "      <td>0.258776</td>\n",
       "      <td>0.267179</td>\n",
       "      <td>0.919157</td>\n",
       "      <td>0.918964</td>\n",
       "    </tr>\n",
       "    <tr>\n",
       "      <th>13</th>\n",
       "      <td>0.256759</td>\n",
       "      <td>0.296631</td>\n",
       "      <td>0.919398</td>\n",
       "      <td>0.916141</td>\n",
       "    </tr>\n",
       "  </tbody>\n",
       "</table>\n",
       "</div>"
      ],
      "text/plain": [
       "        loss  val_loss  categorical_accuracy  val_categorical_accuracy\n",
       "0   1.646185  0.328177              0.656265                  0.915809\n",
       "1   0.634889  0.268416              0.830602                  0.920458\n",
       "2   0.540507  0.298440              0.848675                  0.901694\n",
       "3   0.482357  0.264598              0.853855                  0.914646\n",
       "4   0.440917  0.259387              0.866627                  0.918632\n",
       "5   0.393683  0.286007              0.880000                  0.912488\n",
       "6   0.366481  0.269834              0.884337                  0.918466\n",
       "7   0.337267  0.281216              0.892410                  0.914480\n",
       "8   0.319434  0.285904              0.901928                  0.912820\n",
       "9   0.295072  0.270761              0.906627                  0.915643\n",
       "10  0.280208  0.288395              0.913855                  0.912654\n",
       "11  0.275883  0.272381              0.910723                  0.916639\n",
       "12  0.258776  0.267179              0.919157                  0.918964\n",
       "13  0.256759  0.296631              0.919398                  0.916141"
      ]
     },
     "execution_count": 48,
     "metadata": {},
     "output_type": "execute_result"
    }
   ],
   "source": [
    "# load saved data\n",
    "#historydf = pickle.load('')\n",
    "with open('models/model5/inception_v3_spoton.historydf.pickle', 'rb') as f:\n",
    "    historydf = pickle.load(f)\n",
    "\n",
    "historydf"
   ]
  },
  {
   "cell_type": "code",
   "execution_count": 50,
   "metadata": {},
   "outputs": [
    {
     "data": {
      "image/png": "[encoded data removed]",
      "text/plain": [
       "<Figure size 432x288 with 1 Axes>"
      ]
     },
     "metadata": {},
     "output_type": "display_data"
    },
    {
     "data": {
      "image/png": "[encoded data removed]",
      "text/plain": [
       "<Figure size 432x288 with 1 Axes>"
      ]
     },
     "metadata": {},
     "output_type": "display_data"
    }
   ],
   "source": [
    "acc = historydf['categorical_accuracy']\n",
    "val_acc = historydf['val_categorical_accuracy']\n",
    "loss = historydf['loss']\n",
    "val_loss = historydf['val_loss']\n",
    "\n",
    "epochs = range(len(acc))\n",
    " \n",
    "plt.plot(epochs, acc, 'b', label='Training acc')\n",
    "plt.plot(epochs, val_acc, 'r', label='Validation acc')\n",
    "plt.title('Training and validation accuracy')\n",
    "plt.legend()\n",
    "plt.savefig('img/inception_acc.png')\n",
    "\n",
    "plt.figure()\n",
    " \n",
    "plt.plot(epochs, loss, 'b', label='Training loss')\n",
    "plt.plot(epochs, val_loss, 'r', label='Validation loss')\n",
    "plt.title('Training and validation loss')\n",
    "plt.legend()\n",
    "plt.savefig('img/inception_loss.png')\n",
    " \n",
    "plt.show()"
   ]
  }
 ],
 "metadata": {
  "kernelspec": {
   "display_name": "Python 3",
   "language": "python",
   "name": "python3"
  },
  "language_info": {
   "codemirror_mode": {
    "name": "ipython",
    "version": 3
   },
   "file_extension": ".py",
   "mimetype": "text/x-python",
   "name": "python",
   "nbconvert_exporter": "python",
   "pygments_lexer": "ipython3",
   "version": "3.6.5"
  }
 },
 "nbformat": 4,
 "nbformat_minor": 2
}
