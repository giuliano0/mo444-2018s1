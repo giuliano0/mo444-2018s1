{
 "cells": [
  {
   "cell_type": "code",
   "execution_count": 5,
   "metadata": {},
   "outputs": [],
   "source": [
    "import re\n",
    "import glob\n",
    "import numpy as np\n",
    "\n",
    "from os import path\n",
    "from scipy import fftpack\n",
    "from matplotlib import pyplot as plt\n",
    "from multiprocessing import Pool"
   ]
  },
  {
   "cell_type": "code",
   "execution_count": 2,
   "metadata": {},
   "outputs": [],
   "source": [
    "ref_file_paths = glob.glob('../data/noise-features2-dwt/ref_spn_*')"
   ]
  },
  {
   "cell_type": "code",
   "execution_count": 3,
   "metadata": {},
   "outputs": [
    {
     "name": "stdout",
     "output_type": "stream",
     "text": [
      "['../data/noise-features2-dwt/ref_spn_iPhone-6.npy', '../data/noise-features2-dwt/ref_spn_Sony-NEX-7.npy', '../data/noise-features2-dwt/ref_spn_iPhone-4s.npy', '../data/noise-features2-dwt/ref_spn_Samsung-Galaxy-S4.npy', '../data/noise-features2-dwt/ref_spn_Samsung-Galaxy-Note3.npy', '../data/noise-features2-dwt/ref_spn_HTC-1-M7.npy', '../data/noise-features2-dwt/ref_spn_LG-Nexus-5x.npy', '../data/noise-features2-dwt/ref_spn_Motorola-Nexus-6.npy', '../data/noise-features2-dwt/ref_spn_Motorola-X.npy', '../data/noise-features2-dwt/ref_spn_Motorola-Droid-Maxx.npy']\n"
     ]
    }
   ],
   "source": [
    "print(ref_file_paths)"
   ]
  },
  {
   "cell_type": "code",
   "execution_count": 4,
   "metadata": {},
   "outputs": [
    {
     "name": "stdout",
     "output_type": "stream",
     "text": [
      "['iPhone-6', 'Sony-NEX-7', 'iPhone-4s', 'Samsung-Galaxy-S4', 'Samsung-Galaxy-Note3', 'HTC-1-M7', 'LG-Nexus-5x', 'Motorola-Nexus-6', 'Motorola-X', 'Motorola-Droid-Maxx']\n"
     ]
    }
   ],
   "source": [
    "p = re.compile('ref_spn_(.*?)\\.npy', re.IGNORECASE)\n",
    "class_names = []\n",
    "\n",
    "for rfp in ref_file_paths:\n",
    "    rfp = path.basename(rfp)\n",
    "    m = p.match(rfp)\n",
    "    class_names.append(m.group(1))\n",
    "\n",
    "print(class_names)\n"
   ]
  },
  {
   "cell_type": "code",
   "execution_count": 6,
   "metadata": {},
   "outputs": [],
   "source": [
    "spns = {}\n",
    "\n",
    "for class_name in class_names:\n",
    "    spn = np.load('../data/noise-features2-dwt/ref_spn_%s.npy' % class_name)\n",
    "    spns[class_name] = spn\n"
   ]
  },
  {
   "cell_type": "code",
   "execution_count": 16,
   "metadata": {},
   "outputs": [],
   "source": [
    "def fft_magnitude(image):\n",
    "    f = fftpack.fft2(image)\n",
    "    f = fftpack.fftshift(f)\n",
    "    f = np.abs(f)**2\n",
    "\n",
    "    return np.log(f)\n"
   ]
  },
  {
   "cell_type": "code",
   "execution_count": 47,
   "metadata": {},
   "outputs": [],
   "source": [
    "thread_pool = Pool(5)"
   ]
  },
  {
   "cell_type": "code",
   "execution_count": null,
   "metadata": {},
   "outputs": [],
   "source": [
    "ffts = thread_pool.map(fft_magnitude, spns.values())"
   ]
  },
  {
   "cell_type": "code",
   "execution_count": null,
   "metadata": {},
   "outputs": [],
   "source": [
    "for class_name, spn in spns.items():\n",
    "    plt.hist(spn[:,:,:3].ravel())\n",
    "    plt.title(class_name)\n",
    "    plt.show()"
   ]
  },
  {
   "cell_type": "code",
   "execution_count": 51,
   "metadata": {},
   "outputs": [],
   "source": [
    "def combined_fft(img):\n",
    "    nr, nc = img.shape[:2]\n",
    "    imgs = np.sum(img, axis=2)\n",
    "    \n",
    "    sf = np.stack([\n",
    "        fftpack.fftshift(fftpack.fft2(imgs)),\n",
    "        fftpack.fftshift(fftpack.fft2(img[:,:,0] - img[:,:,1])),\n",
    "        fftpack.fftshift(fftpack.fft2(img[:,:,1] - img[:,:,2])),\n",
    "        fftpack.fftshift(fftpack.fft2(img[:,:,2] - img[:,:,0])),\n",
    "        fftpack.fftshift(fftpack.fft2(img[:,:,3]))], axis=-1)\n",
    "    \n",
    "    return np.abs(sf)\n",
    "\n",
    "combfft = []\n",
    "\n",
    "for spn in spns.values():\n",
    "    combfft.append(combined_fft(spn))\n"
   ]
  },
  {
   "cell_type": "code",
   "execution_count": null,
   "metadata": {},
   "outputs": [],
   "source": [
    "for class_name, spec in zip(class_names, combfft):\n",
    "    plt.imshow(np.log(spec[:,:,3]))\n",
    "    #plt.hist(mag_spec[:,:,:3].ravel())\n",
    "    plt.title(class_name)\n",
    "    plt.show()\n",
    "    "
   ]
  },
  {
   "cell_type": "code",
   "execution_count": null,
   "metadata": {},
   "outputs": [],
   "source": [
    "for class_name, mag_spec in zip(class_names, ffts):\n",
    "    plt.imshow(mag_spec[:,:,1])\n",
    "    #plt.hist(mag_spec[:,:,:3].ravel())\n",
    "    plt.title(class_name)\n",
    "    plt.show()\n",
    "    "
   ]
  },
  {
   "cell_type": "code",
   "execution_count": 4,
   "metadata": {},
   "outputs": [],
   "source": [
    "from skimage import morphology\n",
    "from sklearn.preprocessing import MinMaxScaler"
   ]
  },
  {
   "cell_type": "code",
   "execution_count": null,
   "metadata": {},
   "outputs": [],
   "source": [
    "MinMaxScaler??"
   ]
  }
 ],
 "metadata": {
  "kernelspec": {
   "display_name": "Python 3",
   "language": "python",
   "name": "python3"
  },
  "language_info": {
   "codemirror_mode": {
    "name": "ipython",
    "version": 3
   },
   "file_extension": ".py",
   "mimetype": "text/x-python",
   "name": "python",
   "nbconvert_exporter": "python",
   "pygments_lexer": "ipython3",
   "version": "3.5.2"
  }
 },
 "nbformat": 4,
 "nbformat_minor": 2
}
