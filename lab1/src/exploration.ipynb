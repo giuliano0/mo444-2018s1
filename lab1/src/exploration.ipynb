{
 "cells": [
  {
   "cell_type": "code",
   "execution_count": 37,
   "metadata": {},
   "outputs": [],
   "source": [
    "%matplotlib inline\n",
    "\n",
    "import numpy as np\n",
    "import pandas as pd\n",
    "\n",
    "from matplotlib import pyplot as plt\n",
    "from matplotlib.gridspec import GridSpec"
   ]
  },
  {
   "cell_type": "markdown",
   "metadata": {},
   "source": [
    "Let's load the data as is"
   ]
  },
  {
   "cell_type": "code",
   "execution_count": 38,
   "metadata": {},
   "outputs": [],
   "source": [
    "data = pd.read_csv('../data/train.csv')"
   ]
  },
  {
   "cell_type": "markdown",
   "metadata": {},
   "source": [
    "Let's look at the variables"
   ]
  },
  {
   "cell_type": "code",
   "execution_count": 39,
   "metadata": {},
   "outputs": [
    {
     "name": "stdout",
     "output_type": "stream",
     "text": [
      "url\n",
      "timedelta\n",
      "n_tokens_title\n",
      "n_tokens_content\n",
      "n_unique_tokens\n",
      "n_non_stop_words\n",
      "n_non_stop_unique_tokens\n",
      "num_hrefs\n",
      "num_self_hrefs\n",
      "num_imgs\n",
      "num_videos\n",
      "average_token_length\n",
      "num_keywords\n",
      "data_channel_is_lifestyle\n",
      "data_channel_is_entertainment\n",
      "data_channel_is_bus\n",
      "data_channel_is_socmed\n",
      "data_channel_is_tech\n",
      "data_channel_is_world\n",
      "kw_min_min\n",
      "kw_max_min\n",
      "kw_avg_min\n",
      "kw_min_max\n",
      "kw_max_max\n",
      "kw_avg_max\n",
      "kw_min_avg\n",
      "kw_max_avg\n",
      "kw_avg_avg\n",
      "self_reference_min_shares\n",
      "self_reference_max_shares\n",
      "self_reference_avg_sharess\n",
      "weekday_is_monday\n",
      "weekday_is_tuesday\n",
      "weekday_is_wednesday\n",
      "weekday_is_thursday\n",
      "weekday_is_friday\n",
      "weekday_is_saturday\n",
      "weekday_is_sunday\n",
      "is_weekend\n",
      "LDA_00\n",
      "LDA_01\n",
      "LDA_02\n",
      "LDA_03\n",
      "LDA_04\n",
      "global_subjectivity\n",
      "global_sentiment_polarity\n",
      "global_rate_positive_words\n",
      "global_rate_negative_words\n",
      "rate_positive_words\n",
      "rate_negative_words\n",
      "avg_positive_polarity\n",
      "min_positive_polarity\n",
      "max_positive_polarity\n",
      "avg_negative_polarity\n",
      "min_negative_polarity\n",
      "max_negative_polarity\n",
      "title_subjectivity\n",
      "title_sentiment_polarity\n",
      "abs_title_subjectivity\n",
      "abs_title_sentiment_polarity\n",
      "shares\n"
     ]
    }
   ],
   "source": [
    "for col in data.columns:\n",
    "    print(col)"
   ]
  },
  {
   "cell_type": "markdown",
   "metadata": {},
   "source": [
    "_url_ and _timedelta_ are non predictive and _shares_ is our target."
   ]
  },
  {
   "cell_type": "markdown",
   "metadata": {},
   "source": [
    "From the dataset's description we know some of them are are expanded indicators like *weekday_is_weekdayname* variables and *data_channel_is_categoryname*, raw indicators, like *weekday_is_weekend*, integers, like word counts (there are several).\n",
    "\n",
    "These are to be treated with caution or even remapped to other features."
   ]
  },
  {
   "cell_type": "markdown",
   "metadata": {},
   "source": [
    "How are *shares* distributed?"
   ]
  },
  {
   "cell_type": "code",
   "execution_count": 40,
   "metadata": {},
   "outputs": [
    {
     "data": {
      "text/plain": [
       "<matplotlib.axes._subplots.AxesSubplot at 0x1fcde926320>"
      ]
     },
     "execution_count": 40,
     "metadata": {},
     "output_type": "execute_result"
    },
    {
     "data": {
      "image/png": "[encoded data removed]",
      "text/plain": [
       "<Figure size 432x288 with 1 Axes>"
      ]
     },
     "metadata": {},
     "output_type": "display_data"
    }
   ],
   "source": [
    "data['shares'].hist(bins=50)"
   ]
  },
  {
   "cell_type": "markdown",
   "metadata": {},
   "source": [
    "Welp, that's no good. Let's try again but let's see where the cut is:"
   ]
  },
  {
   "cell_type": "code",
   "execution_count": 41,
   "metadata": {},
   "outputs": [
    {
     "name": "stdout",
     "output_type": "stream",
     "text": [
      "30599 in range [     1,  13808)\n",
      "  734 in range [ 13808,  27616)\n",
      "  168 in range [ 27616,  41424)\n",
      "   83 in range [ 41424,  55232)\n",
      "   42 in range [ 55232,  69040)\n",
      "   26 in range [ 69040,  82848)\n",
      "   13 in range [ 82848,  96656)\n",
      "   16 in range [ 96656, 110464)\n",
      "    7 in range [110464, 124272)\n",
      "    3 in range [124272, 138080)\n",
      "    6 in range [138080, 151888)\n",
      "    1 in range [151888, 165696)\n",
      "    0 in range [165696, 179504)\n",
      "    1 in range [179504, 193312)\n",
      "    5 in range [193312, 207120)\n",
      "    3 in range [207120, 220928)\n",
      "    1 in range [220928, 234736)\n",
      "    0 in range [234736, 248544)\n",
      "    0 in range [248544, 262352)\n",
      "    0 in range [262352, 276160)\n",
      "    0 in range [276160, 289968)\n",
      "    1 in range [289968, 303776)\n",
      "    2 in range [303776, 317584)\n",
      "    0 in range [317584, 331392)\n",
      "    0 in range [331392, 345200)\n",
      "    0 in range [345200, 359008)\n",
      "    0 in range [359008, 372816)\n",
      "    0 in range [372816, 386624)\n",
      "    0 in range [386624, 400432)\n",
      "    0 in range [400432, 414240)\n",
      "    0 in range [414240, 428048)\n",
      "    1 in range [428048, 441856)\n",
      "    0 in range [441856, 455664)\n",
      "    0 in range [455664, 469472)\n",
      "    0 in range [469472, 483280)\n",
      "    0 in range [483280, 497088)\n",
      "    0 in range [497088, 510896)\n",
      "    0 in range [510896, 524704)\n",
      "    0 in range [524704, 538512)\n",
      "    0 in range [538512, 552320)\n",
      "    0 in range [552320, 566128)\n",
      "    0 in range [566128, 579936)\n",
      "    0 in range [579936, 593744)\n",
      "    0 in range [593744, 607552)\n",
      "    1 in range [607552, 621360)\n",
      "    0 in range [621360, 635168)\n",
      "    0 in range [635168, 648976)\n",
      "    1 in range [648976, 662784)\n",
      "    0 in range [662784, 676592)\n",
      "    1 in range [676592, 690400)\n"
     ]
    }
   ],
   "source": [
    "bins, intervals = np.histogram(data['shares'], bins=50)\n",
    "\n",
    "last_i = 1\n",
    "for (b, i) in zip(bins, intervals[1:]):\n",
    "    print('%5d in range [%6d, %6d)' % (b, last_i, i))\n",
    "    last_i = i\n"
   ]
  },
  {
   "cell_type": "markdown",
   "metadata": {},
   "source": [
    "The vanilla linear regressor accumulated a $10^8$ MSE. It may look like it's not converging but let's look that in depth.\n",
    "\n",
    "The above distribution shows there are $\\approx 30$ results that live in the $3 * 10^5$ range of shares. But linear models can't predict those ultra high shares (viral articles), so they stay inside their \"mean\" in the $10^3$s.\n",
    "\n",
    "So the loss is a $3 * 10^5 - 10^3$ which is very near the $10^5$ anyway. Now to get the MSE we sum these $10^1$ values near $10^5$ to a $10^6$, square them getting a $10^12$ and divide by the size of the dataset, $10^12 / 10^5 = 10^7$.\n",
    "\n",
    "Note note that $10^7 / 10^8 = 0.1$ which tells us we only need 10 share outliers in that magnitude to reach a $10^8$ error... and we have almost 30."
   ]
  },
  {
   "cell_type": "markdown",
   "metadata": {},
   "source": [
    "Let's cut the tail and see better what happens with the rest of the shares inside the first bin. No big deal, the remainder represents $3.52\\%$ of the data"
   ]
  },
  {
   "cell_type": "code",
   "execution_count": 42,
   "metadata": {},
   "outputs": [],
   "source": [
    "data_tail = data[data['shares'] > 13808]\n",
    "data = data[data['shares'] <= 13808]"
   ]
  },
  {
   "cell_type": "code",
   "execution_count": 43,
   "metadata": {},
   "outputs": [
    {
     "data": {
      "text/plain": [
       "<matplotlib.axes._subplots.AxesSubplot at 0x1fcdf7e7c50>"
      ]
     },
     "execution_count": 43,
     "metadata": {},
     "output_type": "execute_result"
    },
    {
     "data": {
      "image/png": "[encoded data removed]",
      "text/plain": [
       "<Figure size 432x288 with 1 Axes>"
      ]
     },
     "metadata": {},
     "output_type": "display_data"
    }
   ],
   "source": [
    "data['shares'].hist(bins=20)"
   ]
  },
  {
   "cell_type": "markdown",
   "metadata": {},
   "source": [
    "That's about right. We still got the vast majority there between 0 and 2000 shares, so let's take a glimpse at that range and come back to reality:"
   ]
  },
  {
   "cell_type": "code",
   "execution_count": 44,
   "metadata": {},
   "outputs": [
    {
     "data": {
      "image/png": "[encoded data removed]",
      "text/plain": [
       "<Figure size 432x288 with 1 Axes>"
      ]
     },
     "metadata": {},
     "output_type": "display_data"
    }
   ],
   "source": [
    "temp = data[data['shares'] <= 3000]['shares'].hist(bins=10)"
   ]
  },
  {
   "cell_type": "markdown",
   "metadata": {},
   "source": [
    "Now we easily see most of articles are shared between 700 and maybe 1500 times. Let's look at the mean and standard deviation:"
   ]
  },
  {
   "cell_type": "code",
   "execution_count": 45,
   "metadata": {},
   "outputs": [
    {
     "data": {
      "text/plain": [
       "count    24561.000000\n",
       "mean      1330.998249\n",
       "std        629.899695\n",
       "min          1.000000\n",
       "25%        861.000000\n",
       "50%       1200.000000\n",
       "75%       1700.000000\n",
       "max       3000.000000\n",
       "Name: shares, dtype: float64"
      ]
     },
     "execution_count": 45,
     "metadata": {},
     "output_type": "execute_result"
    }
   ],
   "source": [
    "data[data['shares'] <= 3000]['shares'].describe()"
   ]
  },
  {
   "cell_type": "markdown",
   "metadata": {},
   "source": [
    "And there you go, we still got $77\\%$ of our data and $68\\%$ of the shares are inside the interval $[700, 1960]$ \n",
    "\n",
    "Another good shot is to use percentiles to learn about the cut size in function of the amount of the dataset we want to keep. That's shown below:"
   ]
  },
  {
   "cell_type": "code",
   "execution_count": 46,
   "metadata": {},
   "outputs": [
    {
     "data": {
      "text/plain": [
       "[<matplotlib.lines.Line2D at 0x1fce1ceaac8>]"
      ]
     },
     "execution_count": 46,
     "metadata": {},
     "output_type": "execute_result"
    },
    {
     "data": {
      "image/png": "[encoded data removed]",
      "text/plain": [
       "<Figure size 432x288 with 1 Axes>"
      ]
     },
     "metadata": {},
     "output_type": "display_data"
    }
   ],
   "source": [
    "from scipy import percentile\n",
    "\n",
    "a_hundred = np.arange(1, 101, 1)\n",
    "percentiles = percentile(data['shares'], a_hundred)\n",
    "\n",
    "plt.plot(a_hundred, percentiles)"
   ]
  },
  {
   "cell_type": "markdown",
   "metadata": {},
   "source": [
    "Now on to some other questions. I'll be using this reduced dataset (no outliers, we will get to them later)\n",
    "\n",
    "How many shares (mean and std) the articles have in total and how is this distributed inside each weekday?"
   ]
  },
  {
   "cell_type": "code",
   "execution_count": 47,
   "metadata": {},
   "outputs": [
    {
     "name": "stdout",
     "output_type": "stream",
     "text": [
      "count    30599.000000\n",
      "mean      2226.959966\n",
      "std       2226.340581\n",
      "min          1.000000\n",
      "25%        932.000000\n",
      "50%       1400.000000\n",
      "75%       2500.000000\n",
      "max      13800.000000\n",
      "Name: shares, dtype: float64\n"
     ]
    },
    {
     "data": {
      "text/plain": [
       "<matplotlib.axes._subplots.AxesSubplot at 0x1fce1cfdb00>"
      ]
     },
     "execution_count": 47,
     "metadata": {},
     "output_type": "execute_result"
    },
    {
     "data": {
      "image/png": "[encoded data removed]",
      "text/plain": [
       "<Figure size 432x288 with 1 Axes>"
      ]
     },
     "metadata": {},
     "output_type": "display_data"
    }
   ],
   "source": [
    "print(data['shares'].describe())\n",
    "\n",
    "data[data['weekday_is_monday'] == 1]['shares'].hist(bins=10)"
   ]
  },
  {
   "cell_type": "code",
   "execution_count": 48,
   "metadata": {},
   "outputs": [
    {
     "data": {
      "image/png": "[encoded data removed]",
      "text/plain": [
       "<Figure size 1440x1008 with 8 Axes>"
      ]
     },
     "metadata": {},
     "output_type": "display_data"
    }
   ],
   "source": [
    "gs = GridSpec(3, 3)\n",
    "axes = []\n",
    "cols = ('weekday_is_monday', 'weekday_is_tuesday', 'weekday_is_wednesday', 'weekday_is_thursday', 'weekday_is_friday', 'weekday_is_saturday', 'weekday_is_sunday', 'is_weekend')\n",
    "i = j = 0\n",
    "\n",
    "fig = plt.figure(figsize=(20, 14))\n",
    "\n",
    "for col in cols:\n",
    "    sample = data[data[col] == 1]\n",
    "    ax = plt.subplot(gs[i,j])\n",
    "    \n",
    "    ax.set_title(col + ' distribution')\n",
    "    ax.set_ylim(0, 2500)\n",
    "    \n",
    "    sample['shares'].hist(bins=15, ax=ax)\n",
    "    axes.append(ax)\n",
    "    \n",
    "    j = j + 1\n",
    "    \n",
    "    if j >= 3:\n",
    "        j = 0\n",
    "        i = i + 1\n",
    "\n",
    "plt.show()        "
   ]
  },
  {
   "cell_type": "markdown",
   "metadata": {},
   "source": [
    "First things first: nobody shares stuff in the weekend. Also: Friday is considered weekend because *reasons*.\n",
    "\n",
    "Let's see how many articles were published per day, as we're already at it."
   ]
  },
  {
   "cell_type": "code",
   "execution_count": 49,
   "metadata": {},
   "outputs": [
    {
     "name": "stdout",
     "output_type": "stream",
     "text": [
      "weekday_is_monday       5148.0\n",
      "weekday_is_tuesday      5756.0\n",
      "weekday_is_wednesday    5713.0\n",
      "weekday_is_thursday     5632.0\n",
      "weekday_is_friday       4386.0\n",
      "weekday_is_saturday     1880.0\n",
      "weekday_is_sunday       2084.0\n",
      "is_weekend              3964.0\n",
      "dtype: float64\n"
     ]
    },
    {
     "data": {
      "text/plain": [
       "<matplotlib.axes._subplots.AxesSubplot at 0x1fce27d4f98>"
      ]
     },
     "execution_count": 49,
     "metadata": {},
     "output_type": "execute_result"
    },
    {
     "data": {
      "image/png": "[encoded data removed]",
      "text/plain": [
       "<Figure size 792x288 with 1 Axes>"
      ]
     },
     "metadata": {},
     "output_type": "display_data"
    }
   ],
   "source": [
    "print(np.sum(data[np.asarray(cols)], axis=0))\n",
    "\n",
    "np.sum(data[np.asarray(cols)], axis=0).plot(kind='bar', figsize=(11,4), title='Number of articles by day of publishing')"
   ]
  },
  {
   "cell_type": "markdown",
   "metadata": {},
   "source": [
    "The same impression holds, and there is no apparent reason the day of the week has any impact on the distribution of shares.\n",
    "\n",
    "Besides the observation on the weekend, of course, but even though they get less shares, their distribution resembles the distributions of the rest of the week days."
   ]
  },
  {
   "cell_type": "markdown",
   "metadata": {},
   "source": [
    "For the sake of sake, let's make a scaled version of this dataset and fit a `LinearRegression` object to it and look at the coefficients:"
   ]
  },
  {
   "cell_type": "code",
   "execution_count": 50,
   "metadata": {},
   "outputs": [
    {
     "name": "stdout",
     "output_type": "stream",
     "text": [
      "             weekday_is_sunday: -5365117992616362.000\n",
      "           weekday_is_saturday: -5365117992616336.000\n",
      "           weekday_is_thursday: -853019876829102.125\n",
      "            weekday_is_tuesday: -853019876829090.125\n",
      "          weekday_is_wednesday: -853019876829071.000\n",
      "             weekday_is_friday: -853019876828993.625\n",
      "             weekday_is_monday: -853019876828956.000\n",
      "              n_non_stop_words: -661198.272\n",
      "                        LDA_04: -612484.791\n",
      "                        LDA_01: -611790.962\n",
      "                        LDA_03: -611579.319\n",
      "                        LDA_02: -608020.203\n",
      "                        LDA_00: -607189.650\n",
      "      n_non_stop_unique_tokens: -289221.630\n",
      "                    kw_max_avg: -25867.158\n",
      "                    kw_avg_min: -9100.298\n",
      "                num_self_hrefs: -2656.343\n",
      "          average_token_length: -1817.925\n",
      "    global_rate_negative_words: -904.984\n",
      "                    kw_avg_max: -751.181\n",
      "    self_reference_avg_sharess: -499.811\n",
      "     global_sentiment_polarity: -484.847\n",
      "         min_positive_polarity: -391.854\n",
      "                    kw_min_avg: -378.093\n",
      "           data_channel_is_bus: -368.576\n",
      " data_channel_is_entertainment: -332.811\n",
      "         avg_positive_polarity: -189.505\n",
      "                    kw_min_max: -171.339\n",
      "                    kw_max_max: -169.634\n",
      "     data_channel_is_lifestyle: -163.978\n",
      "         data_channel_is_world: -88.710\n",
      "         min_negative_polarity: -50.341\n",
      "         max_negative_polarity: 12.623\n",
      "         max_positive_polarity: 55.446\n",
      "                n_tokens_title: 56.377\n",
      "         avg_negative_polarity: 96.742\n",
      "  abs_title_sentiment_polarity: 133.850\n",
      "      title_sentiment_polarity: 141.056\n",
      "            title_subjectivity: 148.376\n",
      "        abs_title_subjectivity: 164.960\n",
      "    global_rate_positive_words: 183.507\n",
      "          data_channel_is_tech: 237.858\n",
      "                    kw_min_min: 274.963\n",
      "                    num_videos: 313.325\n",
      "                  num_keywords: 323.000\n",
      "        data_channel_is_socmed: 399.830\n",
      "                      num_imgs: 448.355\n",
      "              n_tokens_content: 574.075\n",
      "           global_subjectivity: 724.719\n",
      "     self_reference_max_shares: 1226.987\n",
      "           rate_positive_words: 1348.163\n",
      "           rate_negative_words: 1527.143\n",
      "     self_reference_min_shares: 2206.706\n",
      "                     num_hrefs: 2981.852\n",
      "                    kw_max_min: 7771.340\n",
      "                    kw_avg_avg: 23490.945\n",
      "               n_unique_tokens: 294990.670\n",
      "                    is_weekend: 4512098115787742.000\n"
     ]
    }
   ],
   "source": [
    "from sklearn.linear_model import LinearRegression\n",
    "from sklearn.preprocessing import MinMaxScaler\n",
    "\n",
    "model = LinearRegression()\n",
    "scaler = MinMaxScaler()\n",
    "\n",
    "train_y = data['shares']\n",
    "train_X = data.drop('shares', axis=1)\n",
    "\n",
    "train_X.drop('url', axis=1, inplace=True)\n",
    "train_X.drop('timedelta', axis=1, inplace=True)\n",
    "\n",
    "train_X = pd.DataFrame(scaler.fit_transform(train_X), columns = train_X.columns)\n",
    "\n",
    "model.fit(train_X, train_y)\n",
    "\n",
    "for (col, w_i) in sorted(zip(train_X.columns, model.coef_), key=lambda x: x[1]):\n",
    "    print('%30s: %3.3f' % (col, w_i))\n",
    "    "
   ]
  },
  {
   "cell_type": "markdown",
   "metadata": {},
   "source": [
    "Let's see what's the error of this linear fit we made:"
   ]
  },
  {
   "cell_type": "code",
   "execution_count": 51,
   "metadata": {},
   "outputs": [
    {
     "name": "stdout",
     "output_type": "stream",
     "text": [
      "Test error for sklearn model is: 214422060.344\n"
     ]
    }
   ],
   "source": [
    "from sklearn.metrics import mean_squared_error as mse\n",
    "\n",
    "test_X = pd.read_csv('../data/test.csv')\n",
    "test_y = pd.read_csv('../data/test_target.csv')\n",
    "\n",
    "test_X.drop(['url', 'timedelta'], axis=1, inplace=True)\n",
    "\n",
    "predictions = model.predict(scaler.transform(test_X))\n",
    "\n",
    "print('Test error for sklearn model is: %.3f' % (mse(test_y, predictions)))"
   ]
  },
  {
   "cell_type": "markdown",
   "metadata": {},
   "source": [
    "Now the distribution of shares in test data."
   ]
  },
  {
   "cell_type": "code",
   "execution_count": 52,
   "metadata": {},
   "outputs": [
    {
     "name": "stdout",
     "output_type": "stream",
     "text": [
      "              shares\n",
      "count    7929.000000\n",
      "mean     3519.839450\n",
      "std     14638.795246\n",
      "min         5.000000\n",
      "25%       949.000000\n",
      "50%      1400.000000\n",
      "75%      2800.000000\n",
      "max    843300.000000\n"
     ]
    },
    {
     "data": {
      "image/png": "[encoded data removed]",
      "text/plain": [
       "<Figure size 432x288 with 1 Axes>"
      ]
     },
     "metadata": {},
     "output_type": "display_data"
    }
   ],
   "source": [
    "test_y.hist()\n",
    "\n",
    "print(test_y.describe())"
   ]
  },
  {
   "cell_type": "markdown",
   "metadata": {},
   "source": [
    "So the test **also** has outliers, or virals if you will.\n",
    "\n",
    "My first shot dealing with this is to first drop some of the features then devise more complex models.\n",
    "\n",
    "After all this, I'll try an ensemble: a classifier for the bulk data and another one for the tail, and something to glue them together.\n",
    "\n",
    "But first, let's cut the test at the same point we did with the train earlier and see the overall distribution, comparing the two:"
   ]
  },
  {
   "cell_type": "code",
   "execution_count": 53,
   "metadata": {},
   "outputs": [
    {
     "data": {
      "image/png": "[encoded data removed]",
      "text/plain": [
       "<Figure size 432x288 with 1 Axes>"
      ]
     },
     "metadata": {},
     "output_type": "display_data"
    }
   ],
   "source": [
    "plt.figure()\n",
    "plt.hist(data[data['shares'] <= 3000]['shares'], bins=10, density=True, alpha=0.5, color='r')\n",
    "plt.hist(test_y[test_y['shares'] <= 3000]['shares'], bins=10, density=True, alpha=0.5, color='b')\n",
    "plt.show()"
   ]
  },
  {
   "cell_type": "markdown",
   "metadata": {},
   "source": [
    "Oooookay, that seems very balanced.\n",
    "\n",
    "But are the tails?"
   ]
  },
  {
   "cell_type": "code",
   "execution_count": 57,
   "metadata": {},
   "outputs": [
    {
     "data": {
      "image/png": "[encoded data removed]",
      "text/plain": [
       "<Figure size 936x288 with 2 Axes>"
      ]
     },
     "metadata": {},
     "output_type": "display_data"
    }
   ],
   "source": [
    "f, (ax1, ax2) = plt.subplots(1, 2, figsize=(13, 4))\n",
    "ax1.hist(data_tail[data_tail['shares'] > 3000]['shares'], bins=10, density=True, alpha=0.5, color='r')\n",
    "ax2.hist(test_y[test_y['shares'] > 3000]['shares'], bins=10, density=True, alpha=0.5, color='b')\n",
    "plt.show()"
   ]
  },
  {
   "cell_type": "markdown",
   "metadata": {},
   "source": [
    "Hm, not so much. But who cares, train data has a broader sprectrum of share count, and test data appears to be entirely inside it."
   ]
  },
  {
   "cell_type": "code",
   "execution_count": 17,
   "metadata": {},
   "outputs": [
    {
     "data": {
      "text/plain": [
       "[<matplotlib.lines.Line2D at 0x1fcd4bc8f98>]"
      ]
     },
     "execution_count": 17,
     "metadata": {},
     "output_type": "execute_result"
    },
    {
     "data": {
      "image/png": "[encoded data removed]",
      "text/plain": [
       "<Figure size 432x288 with 1 Axes>"
      ]
     },
     "metadata": {},
     "output_type": "display_data"
    }
   ],
   "source": [
    "percentiles2 = percentile(train_y, a_hundred)\n",
    "\n",
    "plt.plot(a_hundred, percentiles2)"
   ]
  },
  {
   "cell_type": "markdown",
   "metadata": {},
   "source": [
    "Very similar plots than train_X's. No good."
   ]
  },
  {
   "cell_type": "markdown",
   "metadata": {},
   "source": [
    "Okay, let's see where does popularity lives, shall we?"
   ]
  },
  {
   "cell_type": "code",
   "execution_count": 36,
   "metadata": {},
   "outputs": [
    {
     "data": {
      "text/plain": [
       "count    30599.000000\n",
       "mean      2226.959966\n",
       "std       2226.340581\n",
       "min          1.000000\n",
       "25%        932.000000\n",
       "50%       1400.000000\n",
       "75%       2500.000000\n",
       "max      13800.000000\n",
       "Name: shares, dtype: float64"
      ]
     },
     "execution_count": 36,
     "metadata": {},
     "output_type": "execute_result"
    }
   ],
   "source": [
    "data['shares'].describe()"
   ]
  },
  {
   "cell_type": "markdown",
   "metadata": {},
   "source": [
    "Let's answer a question: where are the biggest residuals?\n",
    "\n",
    "Def: $residuals = predictions - actuals$\n",
    "\n",
    "For this task, let's take that sklearn model we trained before"
   ]
  },
  {
   "cell_type": "code",
   "execution_count": 58,
   "metadata": {},
   "outputs": [
    {
     "data": {
      "text/plain": [
       "853019877490468.8"
      ]
     },
     "execution_count": 58,
     "metadata": {},
     "output_type": "execute_result"
    }
   ],
   "source": [
    "model.intercept_"
   ]
  },
  {
   "cell_type": "code",
   "execution_count": null,
   "metadata": {},
   "outputs": [],
   "source": []
  },
  {
   "cell_type": "markdown",
   "metadata": {},
   "source": [
    "Remove *weekday_is_saturday* and *weekday_is_sunday*, and aggregate monday-friday in a new variable *is_weekday*.\n",
    "\n",
    "Now we have *is_weekday* and *is_weekend*.\n",
    "\n",
    "This reduces the indicator variables which are not very good for regression methods."
   ]
  },
  {
   "cell_type": "markdown",
   "metadata": {},
   "source": [
    "I have to decide what to do w.r.t. *kw_w/e_w/e* and *w/e_w/e_polarity* variables.\n",
    "\n",
    "They have both a min and a max but also an average, which encodes both information. Might be useless to keep all of them."
   ]
  },
  {
   "cell_type": "markdown",
   "metadata": {},
   "source": [
    "Now the outliers. Let's grab them and try to see if they have anything in common. In other words, let's try to predict if a given article will be viral."
   ]
  }
 ],
 "metadata": {
  "kernelspec": {
   "display_name": "Python 3",
   "language": "python",
   "name": "python3"
  },
  "language_info": {
   "codemirror_mode": {
    "name": "ipython",
    "version": 3
   },
   "file_extension": ".py",
   "mimetype": "text/x-python",
   "name": "python",
   "nbconvert_exporter": "python",
   "pygments_lexer": "ipython3",
   "version": "3.6.4"
  }
 },
 "nbformat": 4,
 "nbformat_minor": 2
}
