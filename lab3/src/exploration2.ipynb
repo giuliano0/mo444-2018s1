{
 "cells": [
  {
   "cell_type": "code",
   "execution_count": 13,
   "metadata": {},
   "outputs": [],
   "source": [
    "import numpy as np\n",
    "import pandas as pd\n",
    "import time\n",
    "\n",
    "from matplotlib import pyplot as plt\n",
    "\n",
    "from sklearn.manifold import TSNE\n",
    "from sklearn.decomposition import LatentDirichletAllocation as LDA, TruncatedSVD\n",
    "from sklearn.pipeline import make_pipeline\n",
    "from sklearn.feature_extraction.text import CountVectorizer, TfidfVectorizer\n",
    "from sklearn.cluster import KMeans, DBSCAN, MiniBatchKMeans\n",
    "from sklearn.preprocessing import Normalizer\n",
    "from sklearn.manifold import MDS\n",
    "from sklearn.metrics import silhouette_score, calinski_harabaz_score\n",
    "\n",
    "rng = np.random"
   ]
  },
  {
   "cell_type": "code",
   "execution_count": 2,
   "metadata": {},
   "outputs": [
    {
     "data": {
      "text/html": [
       "<div>\n",
       "<style scoped>\n",
       "    .dataframe tbody tr th:only-of-type {\n",
       "        vertical-align: middle;\n",
       "    }\n",
       "\n",
       "    .dataframe tbody tr th {\n",
       "        vertical-align: top;\n",
       "    }\n",
       "\n",
       "    .dataframe thead th {\n",
       "        text-align: right;\n",
       "    }\n",
       "</style>\n",
       "<table border=\"1\" class=\"dataframe\">\n",
       "  <thead>\n",
       "    <tr style=\"text-align: right;\">\n",
       "      <th></th>\n",
       "      <th>publish_date</th>\n",
       "      <th>headline_text</th>\n",
       "    </tr>\n",
       "  </thead>\n",
       "  <tbody>\n",
       "    <tr>\n",
       "      <th>17638</th>\n",
       "      <td>20030722</td>\n",
       "      <td>ethanol industry gets 10m top up</td>\n",
       "    </tr>\n",
       "    <tr>\n",
       "      <th>342397</th>\n",
       "      <td>20080918</td>\n",
       "      <td>council not backing breakwater cove development</td>\n",
       "    </tr>\n",
       "    <tr>\n",
       "      <th>573455</th>\n",
       "      <td>20110220</td>\n",
       "      <td>leaders offer sympathies to slain soldiers family</td>\n",
       "    </tr>\n",
       "    <tr>\n",
       "      <th>495323</th>\n",
       "      <td>20100308</td>\n",
       "      <td>police flying squad targeting alcohol fuelled</td>\n",
       "    </tr>\n",
       "    <tr>\n",
       "      <th>902836</th>\n",
       "      <td>20150122</td>\n",
       "      <td>circular quay reopens after suspicious object ...</td>\n",
       "    </tr>\n",
       "    <tr>\n",
       "      <th>156979</th>\n",
       "      <td>20051225</td>\n",
       "      <td>millions celebrate christmas in china</td>\n",
       "    </tr>\n",
       "    <tr>\n",
       "      <th>650264</th>\n",
       "      <td>20121204</td>\n",
       "      <td>nefa calls for guarantee no logging in nationa...</td>\n",
       "    </tr>\n",
       "    <tr>\n",
       "      <th>895503</th>\n",
       "      <td>20150805</td>\n",
       "      <td>high court hears appeal of miner travers duncan</td>\n",
       "    </tr>\n",
       "    <tr>\n",
       "      <th>32763</th>\n",
       "      <td>20030413</td>\n",
       "      <td>5 more sars deaths in hk</td>\n",
       "    </tr>\n",
       "    <tr>\n",
       "      <th>596033</th>\n",
       "      <td>20110830</td>\n",
       "      <td>allan praises outgoing gibbons</td>\n",
       "    </tr>\n",
       "  </tbody>\n",
       "</table>\n",
       "</div>"
      ],
      "text/plain": [
       "        publish_date                                      headline_text\n",
       "17638       20030722                   ethanol industry gets 10m top up\n",
       "342397      20080918    council not backing breakwater cove development\n",
       "573455      20110220  leaders offer sympathies to slain soldiers family\n",
       "495323      20100308      police flying squad targeting alcohol fuelled\n",
       "902836      20150122  circular quay reopens after suspicious object ...\n",
       "156979      20051225              millions celebrate christmas in china\n",
       "650264      20121204  nefa calls for guarantee no logging in nationa...\n",
       "895503      20150805    high court hears appeal of miner travers duncan\n",
       "32763       20030413                           5 more sars deaths in hk\n",
       "596033      20110830                     allan praises outgoing gibbons"
      ]
     },
     "execution_count": 2,
     "metadata": {},
     "output_type": "execute_result"
    }
   ],
   "source": [
    "headlines_df = pd.read_csv('../data/news_headlines.csv')\n",
    "\n",
    "headlines_df.shape\n",
    "headlines_df.loc[rng.choice(np.arange(len(headlines_df)), 10), :]"
   ]
  },
  {
   "cell_type": "code",
   "execution_count": 3,
   "metadata": {},
   "outputs": [
    {
     "name": "stdout",
     "output_type": "stream",
     "text": [
      "min date = 20030219\n",
      "max date = 20171231\n",
      "year 2003 length = 59343\n",
      "year 2004 length = 65975\n",
      "year 2005 length = 66320\n",
      "year 2006 length = 61568\n",
      "year 2007 length = 69431\n",
      "year 2008 length = 71591\n",
      "year 2009 length = 68867\n",
      "year 2010 length = 67715\n",
      "year 2011 length = 69919\n",
      "year 2012 length = 78547\n",
      "year 2013 length = 81016\n",
      "year 2014 length = 73361\n",
      "year 2015 length = 70004\n",
      "year 2016 length = 52162\n",
      "year 2017 length = 44182\n"
     ]
    },
    {
     "data": {
      "text/plain": [
       "dict_keys([2003, 2004, 2005, 2006, 2007, 2008, 2009, 2010, 2011, 2012, 2013, 2014, 2015, 2016, 2017])"
      ]
     },
     "execution_count": 3,
     "metadata": {},
     "output_type": "execute_result"
    }
   ],
   "source": [
    "# break dataset by year\n",
    "print('min date = %d\\nmax date = %d' % (np.min(headlines_df['publish_date']), np.max(headlines_df['publish_date'])))\n",
    "\n",
    "df_year = {}\n",
    "\n",
    "for y in np.arange(2003, 2018):\n",
    "    subdf = headlines_df[(headlines_df['publish_date'] >= y * 1e4) & (headlines_df['publish_date'] < (y + 1) * 1e4)]\n",
    "    df_year[y] = subdf\n",
    "    \n",
    "    print('year %d length = %d' % (y, len(subdf)))\n",
    "\n",
    "df_year.keys()"
   ]
  },
  {
   "cell_type": "code",
   "execution_count": 4,
   "metadata": {},
   "outputs": [],
   "source": [
    "n_comps = 200\n",
    "norm = 'l2'\n",
    "metric = 'minkowski'\n",
    "p = 2 # for Minkowski metric\n",
    "stop_words = 'english'\n",
    "\n",
    "subdf_year = 2017"
   ]
  },
  {
   "cell_type": "code",
   "execution_count": 5,
   "metadata": {},
   "outputs": [],
   "source": [
    "tsvd = TruncatedSVD(n_components=n_comps)\n",
    "norm = Normalizer(norm=norm)\n",
    "lsa_pipe = make_pipeline(tsvd, norm)"
   ]
  },
  {
   "cell_type": "code",
   "execution_count": 6,
   "metadata": {},
   "outputs": [],
   "source": [
    "counter_1gram = CountVectorizer(stop_words=stop_words)\n",
    "\n",
    "counter_1gram.fit(df_year[subdf_year]['headline_text'])\n",
    "\n",
    "vocab_1gram = pd.DataFrame.from_dict(counter_1gram.vocabulary_, orient='index')\n",
    "\n",
    "vocab_1gram.columns = ['count']\n",
    "#vocab_df.sort_values(by='count', ascending=False)"
   ]
  },
  {
   "cell_type": "code",
   "execution_count": 7,
   "metadata": {},
   "outputs": [],
   "source": [
    "counter_2gram = CountVectorizer(stop_words=stop_words, ngram_range=(2, 2))\n",
    "\n",
    "counter_2gram.fit(df_year[subdf_year]['headline_text'])\n",
    "\n",
    "vocab_2gram = pd.DataFrame.from_dict(counter_2gram.vocabulary_, orient='index')\n",
    "\n",
    "vocab_2gram.columns = ['count']"
   ]
  },
  {
   "cell_type": "code",
   "execution_count": 8,
   "metadata": {},
   "outputs": [],
   "source": [
    "counter_3gram = CountVectorizer(stop_words=stop_words, ngram_range=(3, 3))\n",
    "\n",
    "counter_3gram.fit(df_year[subdf_year]['headline_text'])\n",
    "\n",
    "vocab_3gram = pd.DataFrame.from_dict(counter_3gram.vocabulary_, orient='index')\n",
    "\n",
    "vocab_3gram.columns = ['count']"
   ]
  },
  {
   "cell_type": "code",
   "execution_count": 9,
   "metadata": {},
   "outputs": [
    {
     "name": "stdout",
     "output_type": "stream",
     "text": [
      "             count\n",
      "zygar        22526\n",
      "zverev       22525\n",
      "zuul         22524\n",
      "zushi        22523\n",
      "zurakowski   22522\n",
      "zuma         22521\n",
      "zuleta       22520\n",
      "zuckerbergs  22519\n",
      "zuckerberg   22518\n",
      "zucco        22517\n",
      "zschech      22516\n",
      "zou          22515\n",
      "zoos         22514\n",
      "zoologists   22513\n",
      "zookeeper    22512\n",
      "zoo          22511\n",
      "zonta        22510\n",
      "zones        22509\n",
      "zone         22508\n",
      "zonca        22507\n",
      "                      count\n",
      "zygar discusses      113006\n",
      "zverev loss          113005\n",
      "zverev indian        113004\n",
      "zverev australian    113003\n",
      "zuul spiked          113002\n",
      "zushi stealing       113001\n",
      "zurakowski wa        113000\n",
      "zuma survives        112999\n",
      "zuma south           112998\n",
      "zuma quit            112997\n",
      "zuma pledges         112996\n",
      "zuleta favourite     112995\n",
      "zuckerbergs vr       112994\n",
      "zuckerberg dropping  112993\n",
      "zucco vendetta       112992\n",
      "zschech jailed       112991\n",
      "zou mystery          112990\n",
      "zoos sniffer         112989\n",
      "zoos aquariums       112988\n",
      "zookeeper london     112987\n",
      "                               count\n",
      "zygar discusses opinion       110167\n",
      "zverev indian wells           110166\n",
      "zverev australian open        110165\n",
      "zuul spiked armoured          110164\n",
      "zushi stealing charges        110163\n",
      "zurakowski wa election        110162\n",
      "zuma survives 8th             110161\n",
      "zuma south africa             110160\n",
      "zuma pledges transform        110159\n",
      "zuleta favourite stars        110158\n",
      "zuckerbergs vr gamble         110157\n",
      "zuckerberg dropping lawsuits  110156\n",
      "zucco vendetta taste          110155\n",
      "zschech jailed dealing        110154\n",
      "zou mystery miner             110153\n",
      "zoos sniffer elephants        110152\n",
      "zookeeper london zoo          110151\n",
      "zookeeper freak accident      110150\n",
      "zookeeper death swedish       110149\n",
      "zoo welcomes baby             110148\n"
     ]
    }
   ],
   "source": [
    "print(vocab_1gram.sort_values(by='count', ascending=False)[:20])\n",
    "print(vocab_2gram.sort_values(by='count', ascending=False)[:20])\n",
    "print(vocab_3gram.sort_values(by='count', ascending=False)[:20])"
   ]
  },
  {
   "cell_type": "code",
   "execution_count": 10,
   "metadata": {},
   "outputs": [
    {
     "data": {
      "text/plain": [
       "((44182, 22527), (44182, 113007), (44182, 110168))"
      ]
     },
     "execution_count": 10,
     "metadata": {},
     "output_type": "execute_result"
    }
   ],
   "source": [
    "term_mat1g = counter_1gram.transform(df_year[2017]['headline_text'])\n",
    "term_mat2g = counter_2gram.transform(df_year[2017]['headline_text'])\n",
    "term_mat3g = counter_3gram.transform(df_year[2017]['headline_text'])\n",
    "\n",
    "term_mat1g.shape, term_mat2g.shape, term_mat3g.shape"
   ]
  },
  {
   "cell_type": "markdown",
   "metadata": {},
   "source": [
    "**MDS is taking forever** (try again @ home)"
   ]
  },
  {
   "cell_type": "code",
   "execution_count": null,
   "metadata": {},
   "outputs": [],
   "source": [
    "mds = MDS(metric=True, max_iter=300, n_jobs=4, dissimilarity='euclidean', eps=1e-3)\n",
    "\n",
    "mds.fit(lsa_pipe.fit_transform(term_mat1g))"
   ]
  },
  {
   "cell_type": "markdown",
   "metadata": {},
   "source": [
    "(n-grams contd)"
   ]
  },
  {
   "cell_type": "code",
   "execution_count": 12,
   "metadata": {},
   "outputs": [
    {
     "data": {
      "text/plain": [
       "((44182, 200), (44182, 200), (44182, 200))"
      ]
     },
     "execution_count": 12,
     "metadata": {},
     "output_type": "execute_result"
    }
   ],
   "source": [
    "feat1g = lsa_pipe.fit_transform(term_mat1g)\n",
    "feat2g = lsa_pipe.fit_transform(term_mat3g)\n",
    "feat3g = lsa_pipe.fit_transform(term_mat3g)\n",
    "\n",
    "feat1g.shape, feat2g.shape, feat3g.shape"
   ]
  },
  {
   "cell_type": "code",
   "execution_count": 36,
   "metadata": {},
   "outputs": [
    {
     "name": "stdout",
     "output_type": "stream",
     "text": [
      "k-Means k=10 completed in 1.8s\n",
      "k-Means k=11 completed in 1.5s\n",
      "k-Means k=12 completed in 1.7s\n",
      "k-Means k=13 completed in 2.0s\n",
      "k-Means k=14 completed in 1.4s\n",
      "k-Means k=15 completed in 1.8s\n",
      "k-Means k=16 completed in 1.5s\n",
      "k-Means k=17 completed in 2.0s\n",
      "k-Means k=18 completed in 1.8s\n",
      "k-Means k=19 completed in 1.9s\n",
      "k-Means k=20 completed in 2.1s\n",
      "k-Means k=21 completed in 2.1s\n",
      "k-Means k=22 completed in 1.5s\n",
      "k-Means k=23 completed in 1.9s\n",
      "k-Means k=24 completed in 2.5s\n",
      "k-Means k=25 completed in 2.0s\n",
      "k-Means k=26 completed in 2.0s\n",
      "k-Means k=27 completed in 2.2s\n",
      "k-Means k=28 completed in 3.1s\n",
      "k-Means k=29 completed in 2.3s\n",
      "k-Means k=30 completed in 2.5s\n",
      "done\n"
     ]
    }
   ],
   "source": [
    "data = feat2g\n",
    "k_values = np.arange(10, 31, 1)\n",
    "km_scores_df = pd.DataFrame(columns=('k', 'inertia', 'silhouette', 'cali-hara'))\n",
    "\n",
    "for k in k_values:\n",
    "    km = MiniBatchKMeans(n_clusters=k, batch_size=8000)\n",
    "    \n",
    "    t0 = time.time()\n",
    "    km.fit(data)\n",
    "    \n",
    "    print('k-Means k=%d completed in %.1fs' % (k, time.time() - t0))\n",
    "    \n",
    "    km_scores_df.loc[len(km_scores_df)] = [\n",
    "        k, km.inertia_,\n",
    "        silhouette_score(data, km.labels_, metric='euclidean', sample_size=int(0.2 * len(feat1g))),\n",
    "        calinski_harabaz_score(data, km.labels_)\n",
    "    ]\n",
    "\n",
    "print('done')"
   ]
  },
  {
   "cell_type": "code",
   "execution_count": 37,
   "metadata": {},
   "outputs": [
    {
     "data": {
      "image/png": "[encoded data removed]",
      "text/plain": [
       "<matplotlib.figure.Figure at 0x1a21ca5860>"
      ]
     },
     "metadata": {},
     "output_type": "display_data"
    }
   ],
   "source": [
    "plt.figure(figsize=(10,10))\n",
    "plt.subplot(3, 1, 1)\n",
    "plt.fill_between(km_scores_df['k'], km_scores_df['inertia'], color='green', alpha=0.4)\n",
    "plt.subplot(3, 1, 2)\n",
    "plt.fill_between(km_scores_df['k'], km_scores_df['silhouette'], color='blue', alpha=0.4)\n",
    "plt.subplot(3, 1, 3)\n",
    "plt.fill_between(km_scores_df['k'], km_scores_df['cali-hara'], color='red', alpha=0.4)\n",
    "plt.show()"
   ]
  },
  {
   "cell_type": "code",
   "execution_count": null,
   "metadata": {},
   "outputs": [],
   "source": [
    "# 1-grams: very high inertia, increasing silhouette max 0.08, cali-hara around 400\n",
    "# 2-grams: very high inertia, negative silhouette           , cali-hara decreasing, max ~120?\n",
    "# 3-grams: very high inertia, negative silhouette           , cali-hara decreasing, max ~130?"
   ]
  },
  {
   "cell_type": "code",
   "execution_count": null,
   "metadata": {},
   "outputs": [],
   "source": [
    "MiniBatchKMeans.fit??"
   ]
  }
 ],
 "metadata": {
  "kernelspec": {
   "display_name": "Python 3",
   "language": "python",
   "name": "python3"
  },
  "language_info": {
   "codemirror_mode": {
    "name": "ipython",
    "version": 3
   },
   "file_extension": ".py",
   "mimetype": "text/x-python",
   "name": "python",
   "nbconvert_exporter": "python",
   "pygments_lexer": "ipython3",
   "version": "3.6.4"
  }
 },
 "nbformat": 4,
 "nbformat_minor": 2
}
