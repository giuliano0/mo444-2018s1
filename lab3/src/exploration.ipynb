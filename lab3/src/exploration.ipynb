{
 "cells": [
  {
   "cell_type": "code",
   "execution_count": 1,
   "metadata": {},
   "outputs": [],
   "source": [
    "import numpy as np\n",
    "import pandas as pd\n",
    "import string\n",
    "import nltk\n",
    "import time\n",
    "\n",
    "from matplotlib import pyplot as plt\n",
    "\n",
    "from scipy import sparse\n",
    "\n",
    "from nltk.tokenize import word_tokenize\n",
    "from nltk.corpus import stopwords\n",
    "from nltk.util import ngrams\n",
    "from nltk.stem import SnowballStemmer\n",
    "\n",
    "from sklearn.cluster import KMeans, MeanShift, DBSCAN, estimate_bandwidth\n",
    "from sklearn.model_selection import GridSearchCV\n",
    "from sklearn.decomposition import TruncatedSVD, PCA\n",
    "from sklearn.preprocessing import Normalizer\n",
    "from sklearn.pipeline import make_pipeline\n",
    "from sklearn.feature_extraction.text import TfidfTransformer, TfidfVectorizer\n",
    "from sklearn.feature_extraction.text import CountVectorizer\n",
    "from sklearn.metrics import silhouette_score, calinski_harabaz_score\n",
    "\n",
    "rng = np.random"
   ]
  },
  {
   "cell_type": "code",
   "execution_count": 2,
   "metadata": {},
   "outputs": [
    {
     "name": "stdout",
     "output_type": "stream",
     "text": [
      "Total rows: 1000001\n",
      "10 random rows:\n"
     ]
    },
    {
     "data": {
      "text/html": [
       "<div>\n",
       "<style scoped>\n",
       "    .dataframe tbody tr th:only-of-type {\n",
       "        vertical-align: middle;\n",
       "    }\n",
       "\n",
       "    .dataframe tbody tr th {\n",
       "        vertical-align: top;\n",
       "    }\n",
       "\n",
       "    .dataframe thead th {\n",
       "        text-align: right;\n",
       "    }\n",
       "</style>\n",
       "<table border=\"1\" class=\"dataframe\">\n",
       "  <thead>\n",
       "    <tr style=\"text-align: right;\">\n",
       "      <th></th>\n",
       "      <th>publish_date</th>\n",
       "      <th>headline_text</th>\n",
       "    </tr>\n",
       "  </thead>\n",
       "  <tbody>\n",
       "    <tr>\n",
       "      <th>315577</th>\n",
       "      <td>20070911</td>\n",
       "      <td>too many meals not enough wheels expert forecasts</td>\n",
       "    </tr>\n",
       "    <tr>\n",
       "      <th>522859</th>\n",
       "      <td>20100526</td>\n",
       "      <td>no movement on roundtable chairman bartlett</td>\n",
       "    </tr>\n",
       "    <tr>\n",
       "      <th>343566</th>\n",
       "      <td>20080208</td>\n",
       "      <td>aus lead after davis cup first rubber</td>\n",
       "    </tr>\n",
       "    <tr>\n",
       "      <th>645582</th>\n",
       "      <td>20121213</td>\n",
       "      <td>halter honey</td>\n",
       "    </tr>\n",
       "    <tr>\n",
       "      <th>980078</th>\n",
       "      <td>20171022</td>\n",
       "      <td>catalan independence supporters react to artic...</td>\n",
       "    </tr>\n",
       "    <tr>\n",
       "      <th>747691</th>\n",
       "      <td>20131102</td>\n",
       "      <td>portugese police focus on dead hotel worker in...</td>\n",
       "    </tr>\n",
       "    <tr>\n",
       "      <th>993638</th>\n",
       "      <td>20170719</td>\n",
       "      <td>elijah doughty accused family safety concerns</td>\n",
       "    </tr>\n",
       "    <tr>\n",
       "      <th>12830</th>\n",
       "      <td>20030822</td>\n",
       "      <td>qld gains new federal electorate</td>\n",
       "    </tr>\n",
       "    <tr>\n",
       "      <th>413147</th>\n",
       "      <td>20091012</td>\n",
       "      <td>storm founder knew company was in trouble</td>\n",
       "    </tr>\n",
       "    <tr>\n",
       "      <th>568805</th>\n",
       "      <td>20110119</td>\n",
       "      <td>injured kallis named in sa world cup squad</td>\n",
       "    </tr>\n",
       "  </tbody>\n",
       "</table>\n",
       "</div>"
      ],
      "text/plain": [
       "        publish_date                                      headline_text\n",
       "315577      20070911  too many meals not enough wheels expert forecasts\n",
       "522859      20100526        no movement on roundtable chairman bartlett\n",
       "343566      20080208              aus lead after davis cup first rubber\n",
       "645582      20121213                                       halter honey\n",
       "980078      20171022  catalan independence supporters react to artic...\n",
       "747691      20131102  portugese police focus on dead hotel worker in...\n",
       "993638      20170719      elijah doughty accused family safety concerns\n",
       "12830       20030822                   qld gains new federal electorate\n",
       "413147      20091012          storm founder knew company was in trouble\n",
       "568805      20110119         injured kallis named in sa world cup squad"
      ]
     },
     "execution_count": 2,
     "metadata": {},
     "output_type": "execute_result"
    }
   ],
   "source": [
    "df = pd.read_csv('../data/news_headlines.csv')\n",
    "\n",
    "print('Total rows: %d\\n10 random rows:' % (len(df)))\n",
    "df.iloc[rng.choice(np.arange(len(df)), 10), :]"
   ]
  },
  {
   "cell_type": "code",
   "execution_count": 3,
   "metadata": {},
   "outputs": [],
   "source": [
    "stemmer = SnowballStemmer('english')\n",
    "\n",
    "for headline in df['headline_text']:\n",
    "    stemmed_words = [stemmer.stem(w) for w in word_tokenize(headline)]\n",
    "    headline = ' '.join(stemmed_words)\n"
   ]
  },
  {
   "cell_type": "code",
   "execution_count": 4,
   "metadata": {},
   "outputs": [
    {
     "name": "stdout",
     "output_type": "stream",
     "text": [
      "min date = 20030219\n",
      "max date = 20171231\n",
      "year 2003 length = 59343\n",
      "year 2004 length = 65975\n",
      "year 2005 length = 66320\n",
      "year 2006 length = 61568\n",
      "year 2007 length = 69431\n",
      "year 2008 length = 71591\n",
      "year 2009 length = 68867\n",
      "year 2010 length = 67715\n",
      "year 2011 length = 69919\n",
      "year 2012 length = 78547\n",
      "year 2013 length = 81016\n",
      "year 2014 length = 73361\n",
      "year 2015 length = 70004\n",
      "year 2016 length = 52162\n",
      "year 2017 length = 44182\n"
     ]
    },
    {
     "data": {
      "text/plain": [
       "dict_keys([2003, 2004, 2005, 2006, 2007, 2008, 2009, 2010, 2011, 2012, 2013, 2014, 2015, 2016, 2017])"
      ]
     },
     "execution_count": 4,
     "metadata": {},
     "output_type": "execute_result"
    }
   ],
   "source": [
    "# break dataset by year\n",
    "print('min date = %d\\nmax date = %d' % (np.min(df['publish_date']), np.max(df['publish_date'])))\n",
    "\n",
    "df_year = {}\n",
    "\n",
    "for y in np.arange(2003, 2018):\n",
    "    subdf = df[(df['publish_date'] >= y * 1e4) & (df['publish_date'] < (y + 1) * 1e4)]\n",
    "    df_year[y] = subdf\n",
    "    \n",
    "    print('year %d length = %d' % (y, len(subdf)))\n",
    "\n",
    "df_year.keys()"
   ]
  },
  {
   "cell_type": "markdown",
   "metadata": {},
   "source": [
    "total unique words in entire corpus (takes a bit to process): there are **80570** unique words without stemming and **the same** when using stemming. WAT\n",
    "\n",
    "``` Python\n",
    "len(set(word_tokenize(' '.join(df['headline_text']))))\n",
    "```"
   ]
  },
  {
   "cell_type": "code",
   "execution_count": 5,
   "metadata": {},
   "outputs": [],
   "source": [
    "# This one takes a little while\n",
    "def sanitise_words(a):\n",
    "    '''\n",
    "    Receives a array of words and sanitises it,\n",
    "    removing stop words, punctuation and numbers\n",
    "    (if that is the case).\n",
    "    '''\n",
    "    en_stopwords = set(stopwords.words('english'))\n",
    "    sanitised = []\n",
    "    \n",
    "    for w in a:\n",
    "        # stopwords do not include punctuation\n",
    "        # isalpha() is also excluding numbers\n",
    "        # use and (w.isalpha() or w.isnumeric)\n",
    "        if not w in en_stopwords and w.isalpha():\n",
    "            sanitised.append(w)\n",
    "    \n",
    "    return sanitised\n"
   ]
  },
  {
   "cell_type": "code",
   "execution_count": 6,
   "metadata": {},
   "outputs": [],
   "source": [
    "def word_histogram(df):\n",
    "    '''\n",
    "    Receives a pandas DataFrame as input (SHOULD RECEIVE AN ARRAY)\n",
    "    that may be formed by either words or sentences and caculates\n",
    "    a word histogram considering the whole of its corpus.\n",
    "    '''\n",
    "    words = np.array(df['headline_text'])\n",
    "    words = ' '.join(words)\n",
    "    words = word_tokenize(words)\n",
    "    words = sanitise_words(words)\n",
    "    word_hist = {}\n",
    "    \n",
    "    for w in words:\n",
    "        word_hist[w] = (word_hist.get(w) or 0) + 1\n",
    "        \n",
    "    return word_hist\n"
   ]
  },
  {
   "cell_type": "code",
   "execution_count": 6,
   "metadata": {},
   "outputs": [],
   "source": [
    "# just an example, don't need to run this cell\n",
    "whist = word_histogram(df)\n",
    "\n",
    "dfhist = pd.DataFrame.from_dict(whist, orient='index')\n",
    "dfhist.columns = ['count']\n",
    "dfhist = dfhist.sort_values('count', ascending=False)"
   ]
  },
  {
   "cell_type": "markdown",
   "metadata": {},
   "source": [
    "The basics:\n",
    "- Tokenise\n",
    "- Remove stop words\n",
    "- **Remove numbers?**\n",
    "- Remove punctuation\n",
    "- Remove prefixes and suffixes\n",
    "\n",
    "Wonders:\n",
    "- Can I use a synonym dictionary to identify equivalence between words? What about each word being synonym of 2 semantically different words? Any examples?\n"
   ]
  },
  {
   "cell_type": "markdown",
   "metadata": {},
   "source": [
    "# Feature extraction\n",
    "\n",
    "## TD-IDF\n",
    "The code below is almost a copy-paste from [this sklearn example](http://scikit-learn.org/stable/auto_examples/text/document_clustering.html#sphx-glr-auto-examples-text-document-clustering-py)"
   ]
  },
  {
   "cell_type": "code",
   "execution_count": 7,
   "metadata": {},
   "outputs": [],
   "source": [
    "counter = CountVectorizer()\n",
    "tfidft = TfidfTransformer(smooth_idf=True)\n",
    "tfidfv = TfidfVectorizer(stop_words='english')"
   ]
  },
  {
   "cell_type": "code",
   "execution_count": 8,
   "metadata": {},
   "outputs": [],
   "source": [
    "data = df_year[2017]['headline_text']"
   ]
  },
  {
   "cell_type": "code",
   "execution_count": 9,
   "metadata": {},
   "outputs": [],
   "source": [
    "term_matrix = counter.fit_transform(data)"
   ]
  },
  {
   "cell_type": "code",
   "execution_count": 15,
   "metadata": {},
   "outputs": [
    {
     "data": {
      "text/plain": [
       "(44182, 22527)"
      ]
     },
     "execution_count": 15,
     "metadata": {},
     "output_type": "execute_result"
    }
   ],
   "source": [
    "tfidf_vecs = tfidfv.fit_transform(data)\n",
    "\n",
    "tfidf_vecs.shape"
   ]
  },
  {
   "cell_type": "markdown",
   "metadata": {},
   "source": [
    "### Dimensionality reduction evaluation by PCA/SVD variance (BEFORE actual reduction)"
   ]
  },
  {
   "cell_type": "code",
   "execution_count": 16,
   "metadata": {},
   "outputs": [
    {
     "name": "stdout",
     "output_type": "stream",
     "text": [
      "SVD finished in 140.7s\n"
     ]
    }
   ],
   "source": [
    "n_comps = 2500\n",
    "tsvd = TruncatedSVD(n_components=n_comps) # WARNING: this uses ALL THE RAM for ultra high values, and like 40-50% at 2500\n",
    "\n",
    "t0 = time.time()\n",
    "tsvd.fit(tfidf_vecs)\n",
    "\n",
    "print('SVD finished in %.1fs' % (time.time() - t0))\n"
   ]
  },
  {
   "cell_type": "code",
   "execution_count": 18,
   "metadata": {},
   "outputs": [
    {
     "data": {
      "image/png": "[encoded data removed]",
      "text/plain": [
       "<Figure size 864x432 with 1 Axes>"
      ]
     },
     "metadata": {},
     "output_type": "display_data"
    }
   ],
   "source": [
    "plt.figure(figsize=(12, 6))\n",
    "plt.plot(np.arange(n_comps), np.cumsum(tsvd.explained_variance_))\n",
    "plt.title('Cumulative variance by SVD')\n",
    "plt.show()"
   ]
  },
  {
   "cell_type": "code",
   "execution_count": 19,
   "metadata": {},
   "outputs": [
    {
     "data": {
      "text/plain": [
       "(0.6288565816456811, 0.2065915282355343)"
      ]
     },
     "execution_count": 19,
     "metadata": {},
     "output_type": "execute_result"
    }
   ],
   "source": [
    "np.sum(tsvd.explained_variance_), np.sum(trunc.explained_variance_)"
   ]
  },
  {
   "cell_type": "code",
   "execution_count": 20,
   "metadata": {},
   "outputs": [
    {
     "data": {
      "image/png": "[encoded data removed]",
      "text/plain": [
       "<Figure size 1080x360 with 1 Axes>"
      ]
     },
     "metadata": {},
     "output_type": "display_data"
    }
   ],
   "source": [
    "plt.figure(figsize=(15, 5))\n",
    "plt.fill_between(np.arange(len(trunc.explained_variance_)), np.cumsum(trunc.explained_variance_), alpha=0.6, color='green', zorder=2)\n",
    "plt.fill_between(np.arange(len(tsvd.explained_variance_)), np.cumsum(tsvd.explained_variance_), alpha=0.4, color='blue', zorder=1)\n",
    "plt.title('Cumulative variance 300 vs many dims')\n",
    "plt.show()"
   ]
  },
  {
   "cell_type": "code",
   "execution_count": 66,
   "metadata": {},
   "outputs": [
    {
     "data": {
      "image/png": "[encoded data removed]",
      "text/plain": [
       "<Figure size 864x360 with 1 Axes>"
      ]
     },
     "metadata": {},
     "output_type": "display_data"
    }
   ],
   "source": [
    "x = np.arange(len(tsvd.explained_variance_))\n",
    "y_cdf = np.cumsum(tsvd.explained_variance_)\n",
    "\n",
    "[c1, c2] = np.polyfit(np.log(1 + x), y_cdf, 1)\n",
    "\n",
    "y_fit = c1 * np.log(1+x) + c2\n",
    "\n",
    "plt.figure(figsize=(12,5))\n",
    "plt.fill_between(x, y_cdf, color='green', alpha=0.4, label='truth')\n",
    "plt.plot(x, y_fit, color='red', label='log fit')\n",
    "plt.ylim(0, 0.7)\n",
    "plt.title('SVD cumulative variance versus log fit')\n",
    "plt.legend(loc='upper left')\n",
    "plt.show()\n"
   ]
  },
  {
   "cell_type": "markdown",
   "metadata": {},
   "source": [
    "The meaning of this plot: too little energy per dimension. This cumulative sucks. TD-IDF does not seem to be working well enough.\n",
    "\n",
    "The other plot only says the cumulative energy has even worse behaviour than expected by a log fit."
   ]
  },
  {
   "cell_type": "markdown",
   "metadata": {},
   "source": [
    "### Dimensionality reduction (LSA) and normalisation"
   ]
  },
  {
   "cell_type": "code",
   "execution_count": 17,
   "metadata": {},
   "outputs": [
    {
     "name": "stdout",
     "output_type": "stream",
     "text": [
      "Dimensionality reduction finished after 9.5s\n"
     ]
    }
   ],
   "source": [
    "trunc = TruncatedSVD(n_components=300)\n",
    "norm = Normalizer(norm='l2')\n",
    "lsa_pipe = make_pipeline(trunc, norm)\n",
    "\n",
    "t0 = time.time()\n",
    "tfidf_vecs = lsa_pipe.fit_transform(tfidf_vecs)\n",
    "\n",
    "print('Dimensionality reduction finished after %.1fs' % (time.time() - t0))\n"
   ]
  },
  {
   "cell_type": "markdown",
   "metadata": {},
   "source": [
    "## Word2Vec by gensim lib\n",
    "Tensorflow also has an implementation but it looks like it's supervised, and I don't want that."
   ]
  },
  {
   "cell_type": "code",
   "execution_count": null,
   "metadata": {},
   "outputs": [],
   "source": [
    "# TODO: word2vec feature extraction"
   ]
  },
  {
   "cell_type": "markdown",
   "metadata": {},
   "source": [
    "# Clustering\n",
    "\n",
    "## k-Means\n",
    "\n",
    "### Grid search"
   ]
  },
  {
   "cell_type": "code",
   "execution_count": 76,
   "metadata": {},
   "outputs": [
    {
     "name": "stdout",
     "output_type": "stream",
     "text": [
      "k-Means trained with k = 10 in 12.6s\n",
      "k-Means trained with k = 15 in 16.2s\n",
      "k-Means trained with k = 20 in 20.1s\n",
      "k-Means trained with k = 25 in 22.9s\n",
      "k-Means trained with k = 30 in 27.2s\n",
      "k-Means trained with k = 35 in 31.4s\n",
      "k-Means trained with k = 40 in 36.4s\n",
      "k-Means trained with k = 45 in 35.0s\n",
      "k-Means trained with k = 50 in 42.1s\n",
      "k-Means trained with k = 55 in 43.9s\n",
      "k-Means trained with k = 60 in 44.5s\n",
      "done\n"
     ]
    }
   ],
   "source": [
    "k_values = np.arange(10, 61, 5)\n",
    "km_scores_df = pd.DataFrame(columns=('k', 'inertia', 'silhouette', 'calinski_harabaz'))\n",
    "\n",
    "for k in k_values:\n",
    "    km = KMeans(n_clusters=k, n_jobs=4)\n",
    "    t0 = time.time()\n",
    "    \n",
    "    km.fit(tfidf_vecs)\n",
    "    \n",
    "    print('k-Means trained with k = %d in %.1fs' % (k, time.time() - t0))\n",
    "    \n",
    "    km_scores_df.loc[len(km_scores_df)] = [k, km.inertia_,\n",
    "        silhouette_score(tfidf_vecs, km.labels_, metric='euclidean', sample_size=200),\n",
    "        calinski_harabaz_score(tfidf_vecs, km.labels_)]\n",
    "\n",
    "print('done')\n"
   ]
  },
  {
   "cell_type": "markdown",
   "metadata": {},
   "source": [
    "### Scoring"
   ]
  },
  {
   "cell_type": "code",
   "execution_count": 77,
   "metadata": {},
   "outputs": [
    {
     "data": {
      "text/html": [
       "<div>\n",
       "<style scoped>\n",
       "    .dataframe tbody tr th:only-of-type {\n",
       "        vertical-align: middle;\n",
       "    }\n",
       "\n",
       "    .dataframe tbody tr th {\n",
       "        vertical-align: top;\n",
       "    }\n",
       "\n",
       "    .dataframe thead th {\n",
       "        text-align: right;\n",
       "    }\n",
       "</style>\n",
       "<table border=\"1\" class=\"dataframe\">\n",
       "  <thead>\n",
       "    <tr style=\"text-align: right;\">\n",
       "      <th></th>\n",
       "      <th>k</th>\n",
       "      <th>inertia</th>\n",
       "      <th>silhouette</th>\n",
       "      <th>calinski_harabaz</th>\n",
       "    </tr>\n",
       "  </thead>\n",
       "  <tbody>\n",
       "    <tr>\n",
       "      <th>0</th>\n",
       "      <td>10.0</td>\n",
       "      <td>40788.053746</td>\n",
       "      <td>0.033597</td>\n",
       "      <td>353.238513</td>\n",
       "    </tr>\n",
       "    <tr>\n",
       "      <th>1</th>\n",
       "      <td>15.0</td>\n",
       "      <td>39847.438772</td>\n",
       "      <td>0.021359</td>\n",
       "      <td>306.886076</td>\n",
       "    </tr>\n",
       "    <tr>\n",
       "      <th>2</th>\n",
       "      <td>20.0</td>\n",
       "      <td>38973.084201</td>\n",
       "      <td>0.044098</td>\n",
       "      <td>283.319072</td>\n",
       "    </tr>\n",
       "    <tr>\n",
       "      <th>3</th>\n",
       "      <td>25.0</td>\n",
       "      <td>38311.508930</td>\n",
       "      <td>0.021087</td>\n",
       "      <td>259.913217</td>\n",
       "    </tr>\n",
       "    <tr>\n",
       "      <th>4</th>\n",
       "      <td>30.0</td>\n",
       "      <td>37573.271592</td>\n",
       "      <td>0.015294</td>\n",
       "      <td>249.215633</td>\n",
       "    </tr>\n",
       "    <tr>\n",
       "      <th>5</th>\n",
       "      <td>35.0</td>\n",
       "      <td>36954.591057</td>\n",
       "      <td>0.039037</td>\n",
       "      <td>237.838553</td>\n",
       "    </tr>\n",
       "    <tr>\n",
       "      <th>6</th>\n",
       "      <td>40.0</td>\n",
       "      <td>36250.142942</td>\n",
       "      <td>0.010264</td>\n",
       "      <td>233.347041</td>\n",
       "    </tr>\n",
       "    <tr>\n",
       "      <th>7</th>\n",
       "      <td>45.0</td>\n",
       "      <td>35645.119762</td>\n",
       "      <td>0.031605</td>\n",
       "      <td>227.343461</td>\n",
       "    </tr>\n",
       "    <tr>\n",
       "      <th>8</th>\n",
       "      <td>50.0</td>\n",
       "      <td>35251.471374</td>\n",
       "      <td>0.015830</td>\n",
       "      <td>216.458895</td>\n",
       "    </tr>\n",
       "    <tr>\n",
       "      <th>9</th>\n",
       "      <td>55.0</td>\n",
       "      <td>34497.884687</td>\n",
       "      <td>0.056461</td>\n",
       "      <td>218.534812</td>\n",
       "    </tr>\n",
       "    <tr>\n",
       "      <th>10</th>\n",
       "      <td>60.0</td>\n",
       "      <td>34140.474725</td>\n",
       "      <td>0.048862</td>\n",
       "      <td>209.914820</td>\n",
       "    </tr>\n",
       "  </tbody>\n",
       "</table>\n",
       "</div>"
      ],
      "text/plain": [
       "       k       inertia  silhouette  calinski_harabaz\n",
       "0   10.0  40788.053746    0.033597        353.238513\n",
       "1   15.0  39847.438772    0.021359        306.886076\n",
       "2   20.0  38973.084201    0.044098        283.319072\n",
       "3   25.0  38311.508930    0.021087        259.913217\n",
       "4   30.0  37573.271592    0.015294        249.215633\n",
       "5   35.0  36954.591057    0.039037        237.838553\n",
       "6   40.0  36250.142942    0.010264        233.347041\n",
       "7   45.0  35645.119762    0.031605        227.343461\n",
       "8   50.0  35251.471374    0.015830        216.458895\n",
       "9   55.0  34497.884687    0.056461        218.534812\n",
       "10  60.0  34140.474725    0.048862        209.914820"
      ]
     },
     "execution_count": 77,
     "metadata": {},
     "output_type": "execute_result"
    }
   ],
   "source": [
    "km_scores_df"
   ]
  },
  {
   "cell_type": "code",
   "execution_count": 13,
   "metadata": {},
   "outputs": [
    {
     "data": {
      "text/plain": [
       "[<matplotlib.lines.Line2D at 0x7f3baa1a94a8>]"
      ]
     },
     "execution_count": 13,
     "metadata": {},
     "output_type": "execute_result"
    },
    {
     "data": {
      "image/png": "[encoded data removed]",
      "text/plain": [
       "<Figure size 432x288 with 1 Axes>"
      ]
     },
     "metadata": {},
     "output_type": "display_data"
    }
   ],
   "source": [
    "plt.plot(km_scores_df['k'], km_scores_df['inertia'])"
   ]
  },
  {
   "cell_type": "markdown",
   "metadata": {},
   "source": [
    "## Meanshift\n",
    "\n",
    "### Grid search"
   ]
  },
  {
   "cell_type": "code",
   "execution_count": 68,
   "metadata": {},
   "outputs": [
    {
     "name": "stdout",
     "output_type": "stream",
     "text": [
      "bandwidth calculation 1/28 benchmark pair (0.1, 100) finished in 0.1s\n",
      "bandwidth calculation 2/28 benchmark pair (0.1, 500) finished in 0.1s\n",
      "bandwidth calculation 3/28 benchmark pair (0.1, 1000) finished in 0.2s\n",
      "bandwidth calculation 4/28 benchmark pair (0.1, 2000) finished in 0.8s\n",
      "bandwidth calculation 5/28 benchmark pair (0.1, 3000) finished in 1.9s\n",
      "bandwidth calculation 6/28 benchmark pair (0.1, 4000) finished in 3.5s\n",
      "bandwidth calculation 7/28 benchmark pair (0.1, 5000) finished in 4.7s\n",
      "bandwidth calculation 8/28 benchmark pair (0.2, 100) finished in 0.1s\n",
      "bandwidth calculation 9/28 benchmark pair (0.2, 500) finished in 0.1s\n",
      "bandwidth calculation 10/28 benchmark pair (0.2, 1000) finished in 0.2s\n",
      "bandwidth calculation 11/28 benchmark pair (0.2, 2000) finished in 0.8s\n",
      "bandwidth calculation 12/28 benchmark pair (0.2, 3000) finished in 1.7s\n",
      "bandwidth calculation 13/28 benchmark pair (0.2, 4000) finished in 3.3s\n",
      "bandwidth calculation 14/28 benchmark pair (0.2, 5000) finished in 5.2s\n",
      "bandwidth calculation 15/28 benchmark pair (0.3, 100) finished in 0.1s\n",
      "bandwidth calculation 16/28 benchmark pair (0.3, 500) finished in 0.1s\n",
      "bandwidth calculation 17/28 benchmark pair (0.3, 1000) finished in 0.2s\n",
      "bandwidth calculation 18/28 benchmark pair (0.3, 2000) finished in 0.8s\n",
      "bandwidth calculation 19/28 benchmark pair (0.3, 3000) finished in 1.9s\n",
      "bandwidth calculation 20/28 benchmark pair (0.3, 4000) finished in 3.3s\n",
      "bandwidth calculation 21/28 benchmark pair (0.3, 5000) finished in 5.3s\n",
      "bandwidth calculation 22/28 benchmark pair (0.4, 100) finished in 0.1s\n",
      "bandwidth calculation 23/28 benchmark pair (0.4, 500) finished in 0.1s\n",
      "bandwidth calculation 24/28 benchmark pair (0.4, 1000) finished in 0.2s\n",
      "bandwidth calculation 25/28 benchmark pair (0.4, 2000) finished in 0.8s\n",
      "bandwidth calculation 26/28 benchmark pair (0.4, 3000) finished in 1.9s\n",
      "bandwidth calculation 27/28 benchmark pair (0.4, 4000) finished in 3.5s\n",
      "bandwidth calculation 28/28 benchmark pair (0.4, 5000) finished in 5.4s\n",
      "done\n"
     ]
    },
    {
     "data": {
      "text/html": [
       "<div>\n",
       "<style scoped>\n",
       "    .dataframe tbody tr th:only-of-type {\n",
       "        vertical-align: middle;\n",
       "    }\n",
       "\n",
       "    .dataframe tbody tr th {\n",
       "        vertical-align: top;\n",
       "    }\n",
       "\n",
       "    .dataframe thead th {\n",
       "        text-align: right;\n",
       "    }\n",
       "</style>\n",
       "<table border=\"1\" class=\"dataframe\">\n",
       "  <thead>\n",
       "    <tr style=\"text-align: right;\">\n",
       "      <th></th>\n",
       "      <th>n_samples</th>\n",
       "      <th>quantile</th>\n",
       "      <th>bandwidth</th>\n",
       "      <th>elapsed_time</th>\n",
       "    </tr>\n",
       "  </thead>\n",
       "  <tbody>\n",
       "    <tr>\n",
       "      <th>0</th>\n",
       "      <td>100.0</td>\n",
       "      <td>0.1</td>\n",
       "      <td>1.382410</td>\n",
       "      <td>0.111302</td>\n",
       "    </tr>\n",
       "    <tr>\n",
       "      <th>1</th>\n",
       "      <td>500.0</td>\n",
       "      <td>0.1</td>\n",
       "      <td>1.383969</td>\n",
       "      <td>0.112851</td>\n",
       "    </tr>\n",
       "    <tr>\n",
       "      <th>2</th>\n",
       "      <td>1000.0</td>\n",
       "      <td>0.1</td>\n",
       "      <td>1.383837</td>\n",
       "      <td>0.219506</td>\n",
       "    </tr>\n",
       "    <tr>\n",
       "      <th>3</th>\n",
       "      <td>2000.0</td>\n",
       "      <td>0.1</td>\n",
       "      <td>1.384616</td>\n",
       "      <td>0.832757</td>\n",
       "    </tr>\n",
       "    <tr>\n",
       "      <th>4</th>\n",
       "      <td>3000.0</td>\n",
       "      <td>0.1</td>\n",
       "      <td>1.384078</td>\n",
       "      <td>1.853399</td>\n",
       "    </tr>\n",
       "    <tr>\n",
       "      <th>5</th>\n",
       "      <td>4000.0</td>\n",
       "      <td>0.1</td>\n",
       "      <td>1.384050</td>\n",
       "      <td>3.469498</td>\n",
       "    </tr>\n",
       "    <tr>\n",
       "      <th>6</th>\n",
       "      <td>5000.0</td>\n",
       "      <td>0.1</td>\n",
       "      <td>1.384114</td>\n",
       "      <td>4.696407</td>\n",
       "    </tr>\n",
       "    <tr>\n",
       "      <th>7</th>\n",
       "      <td>100.0</td>\n",
       "      <td>0.2</td>\n",
       "      <td>1.397562</td>\n",
       "      <td>0.110983</td>\n",
       "    </tr>\n",
       "    <tr>\n",
       "      <th>8</th>\n",
       "      <td>500.0</td>\n",
       "      <td>0.2</td>\n",
       "      <td>1.397196</td>\n",
       "      <td>0.113445</td>\n",
       "    </tr>\n",
       "    <tr>\n",
       "      <th>9</th>\n",
       "      <td>1000.0</td>\n",
       "      <td>0.2</td>\n",
       "      <td>1.396986</td>\n",
       "      <td>0.216672</td>\n",
       "    </tr>\n",
       "    <tr>\n",
       "      <th>10</th>\n",
       "      <td>2000.0</td>\n",
       "      <td>0.2</td>\n",
       "      <td>1.397321</td>\n",
       "      <td>0.833600</td>\n",
       "    </tr>\n",
       "    <tr>\n",
       "      <th>11</th>\n",
       "      <td>3000.0</td>\n",
       "      <td>0.2</td>\n",
       "      <td>1.397002</td>\n",
       "      <td>1.659533</td>\n",
       "    </tr>\n",
       "    <tr>\n",
       "      <th>12</th>\n",
       "      <td>4000.0</td>\n",
       "      <td>0.2</td>\n",
       "      <td>1.396981</td>\n",
       "      <td>3.280131</td>\n",
       "    </tr>\n",
       "    <tr>\n",
       "      <th>13</th>\n",
       "      <td>5000.0</td>\n",
       "      <td>0.2</td>\n",
       "      <td>1.397016</td>\n",
       "      <td>5.150886</td>\n",
       "    </tr>\n",
       "    <tr>\n",
       "      <th>14</th>\n",
       "      <td>100.0</td>\n",
       "      <td>0.3</td>\n",
       "      <td>1.404195</td>\n",
       "      <td>0.111980</td>\n",
       "    </tr>\n",
       "    <tr>\n",
       "      <th>15</th>\n",
       "      <td>500.0</td>\n",
       "      <td>0.3</td>\n",
       "      <td>1.404011</td>\n",
       "      <td>0.115588</td>\n",
       "    </tr>\n",
       "    <tr>\n",
       "      <th>16</th>\n",
       "      <td>1000.0</td>\n",
       "      <td>0.3</td>\n",
       "      <td>1.403886</td>\n",
       "      <td>0.225711</td>\n",
       "    </tr>\n",
       "    <tr>\n",
       "      <th>17</th>\n",
       "      <td>2000.0</td>\n",
       "      <td>0.3</td>\n",
       "      <td>1.404086</td>\n",
       "      <td>0.835195</td>\n",
       "    </tr>\n",
       "    <tr>\n",
       "      <th>18</th>\n",
       "      <td>3000.0</td>\n",
       "      <td>0.3</td>\n",
       "      <td>1.403884</td>\n",
       "      <td>1.894414</td>\n",
       "    </tr>\n",
       "    <tr>\n",
       "      <th>19</th>\n",
       "      <td>4000.0</td>\n",
       "      <td>0.3</td>\n",
       "      <td>1.403883</td>\n",
       "      <td>3.282709</td>\n",
       "    </tr>\n",
       "    <tr>\n",
       "      <th>20</th>\n",
       "      <td>5000.0</td>\n",
       "      <td>0.3</td>\n",
       "      <td>1.403901</td>\n",
       "      <td>5.267261</td>\n",
       "    </tr>\n",
       "    <tr>\n",
       "      <th>21</th>\n",
       "      <td>100.0</td>\n",
       "      <td>0.4</td>\n",
       "      <td>1.408880</td>\n",
       "      <td>0.111536</td>\n",
       "    </tr>\n",
       "    <tr>\n",
       "      <th>22</th>\n",
       "      <td>500.0</td>\n",
       "      <td>0.4</td>\n",
       "      <td>1.408939</td>\n",
       "      <td>0.115566</td>\n",
       "    </tr>\n",
       "    <tr>\n",
       "      <th>23</th>\n",
       "      <td>1000.0</td>\n",
       "      <td>0.4</td>\n",
       "      <td>1.408879</td>\n",
       "      <td>0.217089</td>\n",
       "    </tr>\n",
       "    <tr>\n",
       "      <th>24</th>\n",
       "      <td>2000.0</td>\n",
       "      <td>0.4</td>\n",
       "      <td>1.408977</td>\n",
       "      <td>0.837520</td>\n",
       "    </tr>\n",
       "    <tr>\n",
       "      <th>25</th>\n",
       "      <td>3000.0</td>\n",
       "      <td>0.4</td>\n",
       "      <td>1.408854</td>\n",
       "      <td>1.891083</td>\n",
       "    </tr>\n",
       "    <tr>\n",
       "      <th>26</th>\n",
       "      <td>4000.0</td>\n",
       "      <td>0.4</td>\n",
       "      <td>1.408857</td>\n",
       "      <td>3.487636</td>\n",
       "    </tr>\n",
       "    <tr>\n",
       "      <th>27</th>\n",
       "      <td>5000.0</td>\n",
       "      <td>0.4</td>\n",
       "      <td>1.408867</td>\n",
       "      <td>5.352684</td>\n",
       "    </tr>\n",
       "  </tbody>\n",
       "</table>\n",
       "</div>"
      ],
      "text/plain": [
       "    n_samples  quantile  bandwidth  elapsed_time\n",
       "0       100.0       0.1   1.382410      0.111302\n",
       "1       500.0       0.1   1.383969      0.112851\n",
       "2      1000.0       0.1   1.383837      0.219506\n",
       "3      2000.0       0.1   1.384616      0.832757\n",
       "4      3000.0       0.1   1.384078      1.853399\n",
       "5      4000.0       0.1   1.384050      3.469498\n",
       "6      5000.0       0.1   1.384114      4.696407\n",
       "7       100.0       0.2   1.397562      0.110983\n",
       "8       500.0       0.2   1.397196      0.113445\n",
       "9      1000.0       0.2   1.396986      0.216672\n",
       "10     2000.0       0.2   1.397321      0.833600\n",
       "11     3000.0       0.2   1.397002      1.659533\n",
       "12     4000.0       0.2   1.396981      3.280131\n",
       "13     5000.0       0.2   1.397016      5.150886\n",
       "14      100.0       0.3   1.404195      0.111980\n",
       "15      500.0       0.3   1.404011      0.115588\n",
       "16     1000.0       0.3   1.403886      0.225711\n",
       "17     2000.0       0.3   1.404086      0.835195\n",
       "18     3000.0       0.3   1.403884      1.894414\n",
       "19     4000.0       0.3   1.403883      3.282709\n",
       "20     5000.0       0.3   1.403901      5.267261\n",
       "21      100.0       0.4   1.408880      0.111536\n",
       "22      500.0       0.4   1.408939      0.115566\n",
       "23     1000.0       0.4   1.408879      0.217089\n",
       "24     2000.0       0.4   1.408977      0.837520\n",
       "25     3000.0       0.4   1.408854      1.891083\n",
       "26     4000.0       0.4   1.408857      3.487636\n",
       "27     5000.0       0.4   1.408867      5.352684"
      ]
     },
     "execution_count": 68,
     "metadata": {},
     "output_type": "execute_result"
    }
   ],
   "source": [
    "# Bandwidth estimation can be a serious bottleneck, so we are checking it first. Best time vs consistent value wins\n",
    "quantiles = np.arange(0.1, 0.5, 0.1)\n",
    "n_samples = np.array([100, 500, 1000, 2000, 3000, 4000, 5000])\n",
    "bw_bench_df = pd.DataFrame(columns=('n_samples', 'quantile', 'bandwidth', 'elapsed_time'))\n",
    "iteration = 1\n",
    "\n",
    "for q in quantiles:\n",
    "    for n in n_samples:\n",
    "        t0 = time.time()\n",
    "        bw = estimate_bandwidth(tfidf_vecs, quantile=q, n_samples=n, n_jobs=4)\n",
    "        elapsed = time.time() - t0\n",
    "        bw_bench_df.loc[len(bw_bench_df)] = [n, q, bw, elapsed]\n",
    "        \n",
    "        print('bandwidth calculation %d/%d benchmark pair (%.1f, %d) finished in %.1fs' % (iteration, len(quantiles) * len(n_samples), q, n, elapsed))\n",
    "        \n",
    "        iteration += 1\n",
    "\n",
    "print('done')\n",
    "bw_bench_df"
   ]
  },
  {
   "cell_type": "code",
   "execution_count": 69,
   "metadata": {},
   "outputs": [
    {
     "data": {
      "text/plain": [
       "<matplotlib.axes._subplots.AxesSubplot at 0x7f3ba89b0320>"
      ]
     },
     "execution_count": 69,
     "metadata": {},
     "output_type": "execute_result"
    },
    {
     "data": {
      "image/png": "[encoded data removed]",
      "text/plain": [
       "<Figure size 1296x360 with 1 Axes>"
      ]
     },
     "metadata": {},
     "output_type": "display_data"
    }
   ],
   "source": [
    "# Bandwidth benchmarking plot\n",
    "bw_bench_df.boxplot(column='bandwidth', by='quantile', figsize=(18,5), showmeans=True, vert=False)"
   ]
  },
  {
   "cell_type": "markdown",
   "metadata": {},
   "source": [
    "Conclusion from this plot: visually, the number of samples did not seem to change much the calculated bandwidth. Therefore, any value with the bigest sample size which performs well in time would suffice."
   ]
  },
  {
   "cell_type": "code",
   "execution_count": 78,
   "metadata": {},
   "outputs": [
    {
     "name": "stdout",
     "output_type": "stream",
     "text": [
      "Meanshift trained with q = 0.1, bw = 1.384 in 333.5s\n",
      "Meanshift trained with q = 0.2, bw = 1.397 in 330.0s\n",
      "Meanshift trained with q = 0.3, bw = 1.404 in 310.4s\n",
      "Meanshift trained with q = 0.4, bw = 1.409 in 305.8s\n",
      "Meanshift trained with q = 0.5, bw = 1.413 in 303.0s\n",
      "done\n"
     ]
    }
   ],
   "source": [
    "quantiles = np.arange(0.1, 0.6, 0.1) # must be in [0.1, 0.5]\n",
    "ms_scores_df = pd.DataFrame(columns=('quantile', 'bandwidth', 'estimated_k', 'silhouette', 'calinski_harabaz'))\n",
    "bw_factor = 0.4\n",
    "\n",
    "for q in quantiles:\n",
    "    bw = estimate_bandwidth(tfidf_vecs, quantile=q, n_samples=1000, n_jobs=4)\n",
    "    ms = MeanShift(bandwidth=bw_factor*bw, bin_seeding=True, n_jobs=4)\n",
    "    t0 = time.time()\n",
    "    \n",
    "    ms.fit(tfidf_vecs)\n",
    "    \n",
    "    print('Meanshift trained with q = %.1f, bw = %.3f in %.1fs' % (q, bw, time.time() - t0))\n",
    "    \n",
    "    ms_scores_df.loc[len(ms_scores_df)] = [q, bw_factor*bw, len(ms.cluster_centers_),\n",
    "        silhouette_score(tfidf_vecs, ms.labels_, sample_size=200),\n",
    "        calinski_harabaz_score(tfidf_vecs, ms.labels_)]\n",
    "\n",
    "print('done')"
   ]
  },
  {
   "cell_type": "markdown",
   "metadata": {},
   "source": [
    "### Scoring\n",
    "\n",
    "The *Silhouette coefficient* goes from -1 (incorrect clustering) to +1 (high density clusters). Values near 0 indicate overlapping clusters. Favours convex clusters.\n",
    "\n",
    "The *Calinski-Harabaz index* is higher the more dense and well separated the clusters are. Also favours convex clusters."
   ]
  },
  {
   "cell_type": "code",
   "execution_count": 71,
   "metadata": {},
   "outputs": [
    {
     "data": {
      "text/html": [
       "<div>\n",
       "<style scoped>\n",
       "    .dataframe tbody tr th:only-of-type {\n",
       "        vertical-align: middle;\n",
       "    }\n",
       "\n",
       "    .dataframe tbody tr th {\n",
       "        vertical-align: top;\n",
       "    }\n",
       "\n",
       "    .dataframe thead th {\n",
       "        text-align: right;\n",
       "    }\n",
       "</style>\n",
       "<table border=\"1\" class=\"dataframe\">\n",
       "  <thead>\n",
       "    <tr style=\"text-align: right;\">\n",
       "      <th></th>\n",
       "      <th>quantile</th>\n",
       "      <th>bandwidth</th>\n",
       "      <th>estimated_k</th>\n",
       "      <th>silhouette</th>\n",
       "      <th>calinski_harabaz</th>\n",
       "    </tr>\n",
       "  </thead>\n",
       "  <tbody>\n",
       "    <tr>\n",
       "      <th>0</th>\n",
       "      <td>0.1</td>\n",
       "      <td>0.691919</td>\n",
       "      <td>12.0</td>\n",
       "      <td>-0.001175</td>\n",
       "      <td>196.708329</td>\n",
       "    </tr>\n",
       "    <tr>\n",
       "      <th>1</th>\n",
       "      <td>0.2</td>\n",
       "      <td>0.698493</td>\n",
       "      <td>11.0</td>\n",
       "      <td>0.003952</td>\n",
       "      <td>216.123668</td>\n",
       "    </tr>\n",
       "    <tr>\n",
       "      <th>2</th>\n",
       "      <td>0.3</td>\n",
       "      <td>0.701943</td>\n",
       "      <td>11.0</td>\n",
       "      <td>0.010817</td>\n",
       "      <td>216.994872</td>\n",
       "    </tr>\n",
       "    <tr>\n",
       "      <th>3</th>\n",
       "      <td>0.4</td>\n",
       "      <td>0.704440</td>\n",
       "      <td>11.0</td>\n",
       "      <td>0.007533</td>\n",
       "      <td>205.872227</td>\n",
       "    </tr>\n",
       "    <tr>\n",
       "      <th>4</th>\n",
       "      <td>0.5</td>\n",
       "      <td>0.706492</td>\n",
       "      <td>11.0</td>\n",
       "      <td>0.013630</td>\n",
       "      <td>205.389891</td>\n",
       "    </tr>\n",
       "  </tbody>\n",
       "</table>\n",
       "</div>"
      ],
      "text/plain": [
       "   quantile  bandwidth  estimated_k  silhouette  calinski_harabaz\n",
       "0       0.1   0.691919         12.0   -0.001175        196.708329\n",
       "1       0.2   0.698493         11.0    0.003952        216.123668\n",
       "2       0.3   0.701943         11.0    0.010817        216.994872\n",
       "3       0.4   0.704440         11.0    0.007533        205.872227\n",
       "4       0.5   0.706492         11.0    0.013630        205.389891"
      ]
     },
     "execution_count": 71,
     "metadata": {},
     "output_type": "execute_result"
    }
   ],
   "source": [
    "ms_scores_df"
   ]
  },
  {
   "cell_type": "markdown",
   "metadata": {},
   "source": [
    "## DBSCAN (WARN: THE GRID SEARCH IS TAKING THE WHOLE RAM!\n",
    "\n",
    "## Grid search"
   ]
  },
  {
   "cell_type": "code",
   "execution_count": null,
   "metadata": {},
   "outputs": [],
   "source": [
    "leaf_sizes = np.arange(10, 31, 10)\n",
    "eps_vals = np.arange(0.1, 0.51, 0.1)\n",
    "msamples = np.arange(10, 31, 10)\n",
    "param_grid = np.array(np.meshgrid(leaf_sizes, eps_vals, msamples)).T.reshape(-1, 3)\n",
    "db_score_df = pd.DataFrame(columns=('estimated_k', 'eps', 'min_samples', 'leaf_size', 'silhouette', 'calinski-harabaz'))\n",
    "\n",
    "for l, e, s in param_grid:\n",
    "    db = DBSCAN(eps=l, min_samples=s, metric='minkowski', p=2, algorithm='ball_tree', leaf_size=l, n_jobs=4)\n",
    "\n",
    "    t0 = time.time()\n",
    "    db.fit(tfidf_vecs)\n",
    "    \n",
    "    print('DBSCAN (leafs, eps, samples) = (%d, %.1f, %d) trained in %.1fs' % (l, e, s, time-time() - t0))\n",
    "    \n",
    "    # according to documentation:\n",
    "    n_clusters = len(set(db.labels_)) - (1 if -1 in db.labels_ else 0)\n",
    "    \n",
    "    db_score_df.loc[len(db_score_df)] = [n_clusters, e, s, l,\n",
    "        silhouette_score(tfidf_vecs, db.labels_, sample_size=200),\n",
    "        calinski_harabaz_score(tfidf_vecs, db.labels_)]\n",
    "\n",
    "print('done')"
   ]
  },
  {
   "cell_type": "code",
   "execution_count": null,
   "metadata": {},
   "outputs": [],
   "source": []
  },
  {
   "cell_type": "code",
   "execution_count": 312,
   "metadata": {},
   "outputs": [
    {
     "data": {
      "text/plain": [
       "array([1, 1, 0, 1])"
      ]
     },
     "execution_count": 312,
     "metadata": {},
     "output_type": "execute_result"
    }
   ],
   "source": []
  },
  {
   "cell_type": "markdown",
   "metadata": {},
   "source": [
    "## My clustering evaluation metric\n",
    "\"My\" as in \"I don't know if someone came up with this before, I just had this idea.\""
   ]
  },
  {
   "cell_type": "code",
   "execution_count": 72,
   "metadata": {},
   "outputs": [],
   "source": [
    "from sklearn.neighbors import KNeighborsClassifier\n",
    "\n",
    "def knn_mismatch_score(X, labels, lnorm=2, weights='uniform'):\n",
    "    '''\n",
    "    Receives a data matrix X and (supposedly) predicted labels that cluster the data in X.\n",
    "    \n",
    "    It then uses a k-NN algorithm to re-label X and calculates the score as the number of mismatches\n",
    "    between these labels and those given as parameter.\n",
    "    '''\n",
    "    unique_labels = np.unique(labels)\n",
    "    knn = KNeighborsClassifier(n_neighbors=5, algorithm='ball_tree', weights=weights, n_jobs=4, p=lnorm)\n",
    "    \n",
    "    knn.fit(X, labels)\n",
    "    \n",
    "    pred_labels = knn.predict(X)\n",
    "    \n",
    "    score = np.sum(np.equal(pred_labels, labels).astype(int)) / len(labels)\n",
    "    \n",
    "    return score\n"
   ]
  },
  {
   "cell_type": "code",
   "execution_count": 73,
   "metadata": {},
   "outputs": [
    {
     "name": "stdout",
     "output_type": "stream",
     "text": [
      "0.8958852021185097\n",
      "knn mismatch score on km finished in 333.4s\n",
      "0.8981259336381332\n",
      "knn mismatch score on ms finished in 336.5s\n"
     ]
    }
   ],
   "source": [
    "# a 5-minute test on predicted labels by a km and ms using UNIFORM weights\n",
    "t0 = time.time()\n",
    "\n",
    "print(knn_mismatch_score(tfidf_vecs, km.labels_, weights='uniform'))\n",
    "print('knn mismatch score on km finished in %.1fs' % (time.time() - t0))\n",
    "\n",
    "t0 = time.time()\n",
    "\n",
    "print(knn_mismatch_score(tfidf_vecs, ms.labels_, weights='uniform'))\n",
    "print('knn mismatch score on ms finished in %.1fs' % (time.time() - t0))"
   ]
  },
  {
   "cell_type": "code",
   "execution_count": 74,
   "metadata": {},
   "outputs": [
    {
     "name": "stdout",
     "output_type": "stream",
     "text": [
      "1.0\n",
      "knn mismatch score on km finished in 332.5s\n",
      "1.0\n",
      "knn mismatch score on ms finished in 341.8s\n"
     ]
    }
   ],
   "source": [
    "# a 5-minute test on predicted labels by a km and ms using INVERSE DISTANCE weights\n",
    "t0 = time.time()\n",
    "\n",
    "print(knn_mismatch_score(tfidf_vecs, km.labels_, weights='distance'))\n",
    "print('knn mismatch score on km finished in %.1fs' % (time.time() - t0))\n",
    "\n",
    "t0 = time.time()\n",
    "\n",
    "print(knn_mismatch_score(tfidf_vecs, ms.labels_, weights='distance'))\n",
    "print('knn mismatch score on ms finished in %.1fs' % (time.time() - t0))"
   ]
  },
  {
   "cell_type": "code",
   "execution_count": null,
   "metadata": {},
   "outputs": [],
   "source": []
  }
 ],
 "metadata": {
  "kernelspec": {
   "display_name": "Python 3",
   "language": "python",
   "name": "python3"
  },
  "language_info": {
   "codemirror_mode": {
    "name": "ipython",
    "version": 3
   },
   "file_extension": ".py",
   "mimetype": "text/x-python",
   "name": "python",
   "nbconvert_exporter": "python",
   "pygments_lexer": "ipython3",
   "version": "3.6.5"
  }
 },
 "nbformat": 4,
 "nbformat_minor": 2
}
