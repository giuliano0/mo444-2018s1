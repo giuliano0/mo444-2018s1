{
 "cells": [
  {
   "cell_type": "code",
   "execution_count": 29,
   "metadata": {},
   "outputs": [],
   "source": [
    "import numpy as np\n",
    "import pandas as pd\n",
    "import string\n",
    "import nltk\n",
    "import time\n",
    "import datetime\n",
    "\n",
    "from collections import Counter\n",
    "\n",
    "from matplotlib import pyplot as plt\n",
    "\n",
    "from scipy import sparse\n",
    "\n",
    "from scipy.stats import wasserstein_distance # earth-mover distance\n",
    "from scipy.interpolate import BSpline, splrep\n",
    "\n",
    "from nltk.text import Text\n",
    "from nltk.tokenize import word_tokenize\n",
    "from nltk.corpus import stopwords\n",
    "from nltk.util import ngrams\n",
    "from nltk.stem import SnowballStemmer, WordNetLemmatizer\n",
    "\n",
    "from sklearn.cluster import KMeans, MiniBatchKMeans, MeanShift, DBSCAN, estimate_bandwidth\n",
    "from sklearn.model_selection import GridSearchCV\n",
    "from sklearn.decomposition import TruncatedSVD, LatentDirichletAllocation, NMF\n",
    "from sklearn.preprocessing import Normalizer\n",
    "from sklearn.pipeline import make_pipeline\n",
    "from sklearn.feature_extraction.text import TfidfTransformer, TfidfVectorizer\n",
    "from sklearn.feature_extraction.text import CountVectorizer\n",
    "from sklearn.metrics import silhouette_score, calinski_harabaz_score\n",
    "from sklearn.manifold import TSNE\n",
    "\n",
    "rng = np.random"
   ]
  },
  {
   "cell_type": "code",
   "execution_count": 2,
   "metadata": {},
   "outputs": [
    {
     "name": "stdout",
     "output_type": "stream",
     "text": [
      "[nltk_data] Downloading package stopwords to\n",
      "[nltk_data]     /home/giuliano/nltk_data...\n",
      "[nltk_data]   Package stopwords is already up-to-date!\n",
      "[nltk_data] Error loading punkd: Package 'punkd' not found in index\n",
      "[nltk_data] Downloading package wordnet to /home/giuliano/nltk_data...\n",
      "[nltk_data]   Package wordnet is already up-to-date!\n"
     ]
    },
    {
     "data": {
      "text/plain": [
       "True"
      ]
     },
     "execution_count": 2,
     "metadata": {},
     "output_type": "execute_result"
    }
   ],
   "source": [
    "# NLTK mandatory downloads for the applications of this NB\n",
    "nltk.download('stopwords')\n",
    "nltk.download('punkd')\n",
    "nltk.download('wordnet')\n"
   ]
  },
  {
   "cell_type": "code",
   "execution_count": 76,
   "metadata": {},
   "outputs": [],
   "source": [
    "# This is for pandas to write the whole strings\n",
    "pd.options.display.max_colwidth = 200"
   ]
  },
  {
   "cell_type": "code",
   "execution_count": 3,
   "metadata": {},
   "outputs": [
    {
     "name": "stdout",
     "output_type": "stream",
     "text": [
      "Total rows: 1000001\n",
      "10 random rows:\n"
     ]
    },
    {
     "data": {
      "text/html": [
       "<div>\n",
       "<style scoped>\n",
       "    .dataframe tbody tr th:only-of-type {\n",
       "        vertical-align: middle;\n",
       "    }\n",
       "\n",
       "    .dataframe tbody tr th {\n",
       "        vertical-align: top;\n",
       "    }\n",
       "\n",
       "    .dataframe thead th {\n",
       "        text-align: right;\n",
       "    }\n",
       "</style>\n",
       "<table border=\"1\" class=\"dataframe\">\n",
       "  <thead>\n",
       "    <tr style=\"text-align: right;\">\n",
       "      <th></th>\n",
       "      <th>publish_date</th>\n",
       "      <th>headline_text</th>\n",
       "    </tr>\n",
       "  </thead>\n",
       "  <tbody>\n",
       "    <tr>\n",
       "      <th>815763</th>\n",
       "      <td>2014-04-26</td>\n",
       "      <td>28 killed in attack on shiite political rally ...</td>\n",
       "    </tr>\n",
       "    <tr>\n",
       "      <th>462901</th>\n",
       "      <td>2009-02-23</td>\n",
       "      <td>funds performance not so super</td>\n",
       "    </tr>\n",
       "    <tr>\n",
       "      <th>849181</th>\n",
       "      <td>2015-06-05</td>\n",
       "      <td>gillard discusses concerns about rudd with ton...</td>\n",
       "    </tr>\n",
       "    <tr>\n",
       "      <th>462660</th>\n",
       "      <td>2009-12-29</td>\n",
       "      <td>gayle to boost warriors chase</td>\n",
       "    </tr>\n",
       "    <tr>\n",
       "      <th>368631</th>\n",
       "      <td>2008-11-06</td>\n",
       "      <td>nz unemployment hits five year high</td>\n",
       "    </tr>\n",
       "    <tr>\n",
       "      <th>760175</th>\n",
       "      <td>2013-10-29</td>\n",
       "      <td>asic head calls for tougher white collar crime...</td>\n",
       "    </tr>\n",
       "    <tr>\n",
       "      <th>649992</th>\n",
       "      <td>2012-01-24</td>\n",
       "      <td>gangland figure to deny murder conspiracy</td>\n",
       "    </tr>\n",
       "    <tr>\n",
       "      <th>289970</th>\n",
       "      <td>2007-07-16</td>\n",
       "      <td>cold wet weather brings livestock losses</td>\n",
       "    </tr>\n",
       "    <tr>\n",
       "      <th>921088</th>\n",
       "      <td>2016-12-10</td>\n",
       "      <td>man charged with murder of eaton woman tanya b...</td>\n",
       "    </tr>\n",
       "    <tr>\n",
       "      <th>299352</th>\n",
       "      <td>2007-10-20</td>\n",
       "      <td>motorcyclist badly injured in smash</td>\n",
       "    </tr>\n",
       "  </tbody>\n",
       "</table>\n",
       "</div>"
      ],
      "text/plain": [
       "       publish_date                                      headline_text\n",
       "815763   2014-04-26  28 killed in attack on shiite political rally ...\n",
       "462901   2009-02-23                     funds performance not so super\n",
       "849181   2015-06-05  gillard discusses concerns about rudd with ton...\n",
       "462660   2009-12-29                      gayle to boost warriors chase\n",
       "368631   2008-11-06                nz unemployment hits five year high\n",
       "760175   2013-10-29  asic head calls for tougher white collar crime...\n",
       "649992   2012-01-24          gangland figure to deny murder conspiracy\n",
       "289970   2007-07-16           cold wet weather brings livestock losses\n",
       "921088   2016-12-10  man charged with murder of eaton woman tanya b...\n",
       "299352   2007-10-20                motorcyclist badly injured in smash"
      ]
     },
     "execution_count": 3,
     "metadata": {},
     "output_type": "execute_result"
    }
   ],
   "source": [
    "df = pd.read_csv('../data/news_headlines.csv', parse_dates=[0], infer_datetime_format=True)\n",
    "\n",
    "print('Total rows: %d\\n10 random rows:' % (len(df)))\n",
    "df.sample(10)"
   ]
  },
  {
   "cell_type": "code",
   "execution_count": 4,
   "metadata": {},
   "outputs": [],
   "source": [
    "def preproc(single_headline, reduce='lemmatise', retain='all'):\n",
    "    '''\n",
    "    Helper function to use w/ DataFrame.apply that pre-processes\n",
    "    a headline into its feature-extraction-ready form.\n",
    "    \n",
    "    - reduce: lemmatise (default) or stemmise\n",
    "    - retain: all (default, alphanumeric) or alpha (only alphabetic)\n",
    "    '''\n",
    "    words = word_tokenize(single_headline)\n",
    "    sanitised = []\n",
    "    reduced = []\n",
    "    \n",
    "    # Stop word removal\n",
    "    for w in words:\n",
    "        if w not in preproc.en_sw:\n",
    "            if retain == 'alpha' and w.isalpha():\n",
    "                sanitised.append(w)\n",
    "            else:\n",
    "                sanitised.append(w)\n",
    "    \n",
    "    # Stemming/Lemmatising\n",
    "    if reduce == 'lemmatise':\n",
    "        reduced = [preproc.wnl.lemmatize(w) for w in sanitised]\n",
    "    elif reduce == 'stemmise':\n",
    "        reduced = [preproc.stemmer.stem(w) for w in sanitised]\n",
    "\n",
    "    return ' '.join(reduced)\n",
    "\n",
    "preproc.en_sw = set(stopwords.words('english'))\n",
    "preproc.wnl = WordNetLemmatizer()\n",
    "preproc.stemmer = SnowballStemmer('english')"
   ]
  },
  {
   "cell_type": "code",
   "execution_count": 5,
   "metadata": {},
   "outputs": [
    {
     "data": {
      "text/html": [
       "<div>\n",
       "<style scoped>\n",
       "    .dataframe tbody tr th:only-of-type {\n",
       "        vertical-align: middle;\n",
       "    }\n",
       "\n",
       "    .dataframe tbody tr th {\n",
       "        vertical-align: top;\n",
       "    }\n",
       "\n",
       "    .dataframe thead th {\n",
       "        text-align: right;\n",
       "    }\n",
       "</style>\n",
       "<table border=\"1\" class=\"dataframe\">\n",
       "  <thead>\n",
       "    <tr style=\"text-align: right;\">\n",
       "      <th></th>\n",
       "      <th>publish_date</th>\n",
       "      <th>headline_text</th>\n",
       "      <th>headline_pprocd</th>\n",
       "    </tr>\n",
       "  </thead>\n",
       "  <tbody>\n",
       "    <tr>\n",
       "      <th>776656</th>\n",
       "      <td>2014-06-13</td>\n",
       "      <td>emmerson secures joint venture for tennant cre...</td>\n",
       "      <td>emmerson secures joint venture tennant creek g...</td>\n",
       "    </tr>\n",
       "    <tr>\n",
       "      <th>121360</th>\n",
       "      <td>2004-11-03</td>\n",
       "      <td>stone argues against restricting abortion</td>\n",
       "      <td>stone argues restricting abortion</td>\n",
       "    </tr>\n",
       "    <tr>\n",
       "      <th>313864</th>\n",
       "      <td>2007-01-23</td>\n",
       "      <td>opposition criticises amount of water extracted</td>\n",
       "      <td>opposition criticises amount water extracted</td>\n",
       "    </tr>\n",
       "    <tr>\n",
       "      <th>140283</th>\n",
       "      <td>2005-04-18</td>\n",
       "      <td>algal bloom raises shellfish poisoning fears</td>\n",
       "      <td>algal bloom raise shellfish poisoning fear</td>\n",
       "    </tr>\n",
       "    <tr>\n",
       "      <th>998313</th>\n",
       "      <td>2017-06-25</td>\n",
       "      <td>evolution torres strait masks exhibit on natio...</td>\n",
       "      <td>evolution torres strait mask exhibit national ...</td>\n",
       "    </tr>\n",
       "    <tr>\n",
       "      <th>903147</th>\n",
       "      <td>2015-09-11</td>\n",
       "      <td>noodle guilty</td>\n",
       "      <td>noodle guilty</td>\n",
       "    </tr>\n",
       "    <tr>\n",
       "      <th>804364</th>\n",
       "      <td>2014-12-15</td>\n",
       "      <td>myefo commodity prices senate blocks only part...</td>\n",
       "      <td>myefo commodity price senate block part budget...</td>\n",
       "    </tr>\n",
       "    <tr>\n",
       "      <th>189413</th>\n",
       "      <td>2005-07-07</td>\n",
       "      <td>opposition sounds warning over upper house mak...</td>\n",
       "      <td>opposition sound warning upper house makeover</td>\n",
       "    </tr>\n",
       "    <tr>\n",
       "      <th>640328</th>\n",
       "      <td>2012-02-14</td>\n",
       "      <td>gillard talks to am</td>\n",
       "      <td>gillard talk</td>\n",
       "    </tr>\n",
       "    <tr>\n",
       "      <th>441108</th>\n",
       "      <td>2009-03-05</td>\n",
       "      <td>costello tanner set to slug it out on economy</td>\n",
       "      <td>costello tanner set slug economy</td>\n",
       "    </tr>\n",
       "  </tbody>\n",
       "</table>\n",
       "</div>"
      ],
      "text/plain": [
       "       publish_date                                      headline_text  \\\n",
       "776656   2014-06-13  emmerson secures joint venture for tennant cre...   \n",
       "121360   2004-11-03          stone argues against restricting abortion   \n",
       "313864   2007-01-23    opposition criticises amount of water extracted   \n",
       "140283   2005-04-18       algal bloom raises shellfish poisoning fears   \n",
       "998313   2017-06-25  evolution torres strait masks exhibit on natio...   \n",
       "903147   2015-09-11                                      noodle guilty   \n",
       "804364   2014-12-15  myefo commodity prices senate blocks only part...   \n",
       "189413   2005-07-07  opposition sounds warning over upper house mak...   \n",
       "640328   2012-02-14                                gillard talks to am   \n",
       "441108   2009-03-05      costello tanner set to slug it out on economy   \n",
       "\n",
       "                                          headline_pprocd  \n",
       "776656  emmerson secures joint venture tennant creek g...  \n",
       "121360                  stone argues restricting abortion  \n",
       "313864       opposition criticises amount water extracted  \n",
       "140283         algal bloom raise shellfish poisoning fear  \n",
       "998313  evolution torres strait mask exhibit national ...  \n",
       "903147                                      noodle guilty  \n",
       "804364  myefo commodity price senate block part budget...  \n",
       "189413      opposition sound warning upper house makeover  \n",
       "640328                                       gillard talk  \n",
       "441108                   costello tanner set slug economy  "
      ]
     },
     "execution_count": 5,
     "metadata": {},
     "output_type": "execute_result"
    }
   ],
   "source": [
    "df['headline_pprocd'] = df['headline_text'].apply(lambda s: preproc(s))\n",
    "\n",
    "df.sample(10)"
   ]
  },
  {
   "cell_type": "code",
   "execution_count": 6,
   "metadata": {},
   "outputs": [
    {
     "name": "stdout",
     "output_type": "stream",
     "text": [
      "min date = 2003-02-19 00:00:00\n",
      "max date = 2017-12-31 00:00:00\n",
      "year 2003 length = 125152\n",
      "year 2004 length = 132216\n",
      "year 2005 length = 127798\n",
      "year 2006 length = 130835\n",
      "year 2007 length = 140822\n",
      "year 2008 length = 140271\n",
      "year 2009 length = 136412\n",
      "year 2010 length = 137557\n",
      "year 2011 length = 148276\n",
      "year 2012 length = 159428\n",
      "year 2013 length = 154233\n",
      "year 2014 length = 143226\n",
      "year 2015 length = 122101\n",
      "year 2016 length = 96284\n",
      "year 2017 length = 44182\n"
     ]
    },
    {
     "data": {
      "text/plain": [
       "dict_keys([2003, 2004, 2005, 2006, 2007, 2008, 2009, 2010, 2011, 2012, 2013, 2014, 2015, 2016, 2017])"
      ]
     },
     "execution_count": 6,
     "metadata": {},
     "output_type": "execute_result"
    }
   ],
   "source": [
    "# break dataset by year\n",
    "print('min date = %s\\nmax date = %s' % (np.min(df['publish_date']), np.max(df['publish_date'])))\n",
    "\n",
    "df_year = {}\n",
    "\n",
    "for y in np.arange(2003, 2018):\n",
    "    subdf = df[(df['publish_date'] >= datetime.date(y, 1, 1)) & (df['publish_date'] < datetime.date(y+1, 12, 31))]\n",
    "    df_year[y] = subdf\n",
    "    \n",
    "    print('year %d length = %d' % (y, len(subdf)))\n",
    "\n",
    "df_year.keys()"
   ]
  },
  {
   "cell_type": "markdown",
   "metadata": {},
   "source": [
    "## NLTK Text"
   ]
  },
  {
   "cell_type": "code",
   "execution_count": 125,
   "metadata": {},
   "outputs": [
    {
     "name": "stdout",
     "output_type": "stream",
     "text": [
      "Raw text lexical richness: 0.013\n",
      "Pproced text lexical richness: 0.014\n"
     ]
    }
   ],
   "source": [
    "txt1 = Text(word_tokenize(' '.join(df['headline_text'])))\n",
    "txt2 = Text(word_tokenize(' '.join(df['headline_pprocd'])))\n",
    "\n",
    "print('Raw text lexical richness: %.3f' % (len(set(txt1)) / len(txt1)))\n",
    "print('Pproced text lexical richness: %.3f' % (len(set(txt2)) / len(txt2)))"
   ]
  },
  {
   "cell_type": "code",
   "execution_count": null,
   "metadata": {},
   "outputs": [],
   "source": [
    "# run this to alleaviate RAM usage\n",
    "del txt1, txt2"
   ]
  },
  {
   "cell_type": "markdown",
   "metadata": {},
   "source": [
    "The basics:\n",
    "- Tokenise\n",
    "- Remove stop words\n",
    "- **Remove numbers?**\n",
    "- Remove punctuation (contains '!', '$' and '&')\n",
    "- Remove prefixes and suffixes (lemmatise vs stemmise)\n",
    "\n",
    "Wonders:\n",
    "- Can I use a synonym dictionary to identify equivalence between words? What about each word being synonym of 2 semantically different words? Any examples?\n"
   ]
  },
  {
   "cell_type": "markdown",
   "metadata": {},
   "source": [
    "## Configuration (aka globals)"
   ]
  },
  {
   "cell_type": "code",
   "execution_count": 7,
   "metadata": {},
   "outputs": [],
   "source": [
    "n_comps = 1000\n",
    "l_norm = 'l2'\n",
    "metric = 'minkowski'\n",
    "p = 2 # for Minkowski metric\n",
    "stop_words = 'english'\n",
    "\n",
    "n_topics = 20\n",
    "subsample_ratio = 0.1\n",
    "subsample_size = int(subsample_ratio * len(df['headline_pprocd']))\n",
    "\n",
    "data_year = 2017"
   ]
  },
  {
   "cell_type": "markdown",
   "metadata": {},
   "source": [
    "# Feature extraction\n",
    "\n",
    "## n-grams and TF-IDF\n",
    "The code below is almost a copy-paste from [this sklearn example](http://scikit-learn.org/stable/auto_examples/text/document_clustering.html#sphx-glr-auto-examples-text-document-clustering-py)"
   ]
  },
  {
   "cell_type": "code",
   "execution_count": 171,
   "metadata": {},
   "outputs": [],
   "source": [
    "counter = CountVectorizer(ngram_range=(1,2), max_features=5000)\n",
    "tfidft = TfidfTransformer(smooth_idf=False)\n",
    "nmf = NMF(n_components=20, init='nndsvd')\n"
   ]
  },
  {
   "cell_type": "code",
   "execution_count": 172,
   "metadata": {},
   "outputs": [],
   "source": [
    "#data = df_year[data_year]['headline_pprocd']\n",
    "data = df['headline_pprocd']"
   ]
  },
  {
   "cell_type": "code",
   "execution_count": 173,
   "metadata": {},
   "outputs": [
    {
     "data": {
      "text/plain": [
       "(1000001, 5000)"
      ]
     },
     "execution_count": 173,
     "metadata": {},
     "output_type": "execute_result"
    }
   ],
   "source": [
    "term_matrix = counter.fit_transform(data)\n",
    "\n",
    "term_matrix.shape"
   ]
  },
  {
   "cell_type": "code",
   "execution_count": 174,
   "metadata": {},
   "outputs": [
    {
     "data": {
      "text/plain": [
       "(1000001, 5000)"
      ]
     },
     "execution_count": 174,
     "metadata": {},
     "output_type": "execute_result"
    }
   ],
   "source": [
    "tfidf_feats = tfidft.fit_transform(term_matrix)\n",
    "\n",
    "tfidf_feats.shape"
   ]
  },
  {
   "cell_type": "code",
   "execution_count": 175,
   "metadata": {},
   "outputs": [
    {
     "name": "stdout",
     "output_type": "stream",
     "text": [
      "NMF finished in 137.6s\n"
     ]
    },
    {
     "data": {
      "text/plain": [
       "(1000001, 20)"
      ]
     },
     "execution_count": 175,
     "metadata": {},
     "output_type": "execute_result"
    }
   ],
   "source": [
    "t0 = time.time()\n",
    "nmf_feats = nmf.fit_transform(tfidf_feats)\n",
    "\n",
    "print('NMF finished in %.1fs' % (time.time() - t0))\n",
    "nmf_feats.shape"
   ]
  },
  {
   "cell_type": "code",
   "execution_count": null,
   "metadata": {},
   "outputs": [],
   "source": [
    "# if RAM is needed\n",
    "del counter, tfidft, term_matrix, tfidf_feats\n",
    "gc.collect()"
   ]
  },
  {
   "cell_type": "markdown",
   "metadata": {},
   "source": [
    "## LDA (Latent Dirichlet Allocation)"
   ]
  },
  {
   "cell_type": "code",
   "execution_count": 409,
   "metadata": {},
   "outputs": [
    {
     "name": "stdout",
     "output_type": "stream",
     "text": [
      "LDA model trained in 0.6s (Counter) + 160.8s (LDA) = 161.5s\n"
     ]
    },
    {
     "data": {
      "text/plain": [
       "(100000, 10)"
      ]
     },
     "execution_count": 409,
     "metadata": {},
     "output_type": "execute_result"
    }
   ],
   "source": [
    "# data declaration\n",
    "data = df['headline_pprocd'].sample(subsample_size)\n",
    "\n",
    "# feature extractors declaration\n",
    "lda_counter = CountVectorizer(ngram_range=(1, 1), max_features=30000)\n",
    "lda = LatentDirichletAllocation(n_components=n_topics, learning_method='online', n_jobs=4, batch_size=512)\n",
    "\n",
    "# execution\n",
    "t0 = time.time()\n",
    "lda_term_matrix = lda_counter.fit_transform(data)\n",
    "t1 = time.time() - t0\n",
    "\n",
    "t0 = time.time()\n",
    "lda_topic_matrix = lda.fit_transform(lda_term_matrix)\n",
    "t2 = time.time() - t0\n",
    "\n",
    "print('LDA model trained in %.1fs (Counter) + %.1fs (LDA) = %.1fs' % (t1, t2, t1+t2))\n",
    "lda_topic_matrix.shape"
   ]
  },
  {
   "cell_type": "code",
   "execution_count": 410,
   "metadata": {},
   "outputs": [
    {
     "name": "stdout",
     "output_type": "stream",
     "text": [
      "Topic 0:  interview day election lead power flood qld dead fund future\n",
      "Topic 1:  new job charge police price australia union court high cut\n",
      "Topic 2:  say rate government help council get police talk coast report\n",
      "Topic 3:  fire crash car man police south dy hit home boost\n",
      "Topic 4:  call face test say court guilty record indigenous show warning\n",
      "Topic 5:  govt council market call say water change green fear worker\n",
      "Topic 6:  cup world back attack killed service road health say plan\n",
      "Topic 7:  nsw rural hospital abc north asylum farmer protest island move\n",
      "Topic 8:  win set plan first open action back sale police tiger\n",
      "Topic 9:  man police charged woman murder missing court found drug country\n"
     ]
    }
   ],
   "source": [
    "lda_keys = get_keys(lda_topic_matrix)\n",
    "lda_categories, lda_counts = keys_to_counts(lda_keys)\n",
    "top_n_words_lda = get_top_n_words(10, lda_keys, lda_term_matrix, lda_counter)\n",
    "\n",
    "for i in range(len(top_n_words_lda)):\n",
    "    print(\"Topic {}: \".format(i), top_n_words_lda[i])"
   ]
  },
  {
   "cell_type": "code",
   "execution_count": 371,
   "metadata": {},
   "outputs": [],
   "source": [
    "def get_top_n_words(n, keys, document_term_matrix, count_vectorizer):\n",
    "    '''\n",
    "    Returns a list of n_topic strings, where each string contains the\n",
    "    n most common words in a predicted category, in order'''\n",
    "    top_word_indices = []\n",
    "    \n",
    "    for topic in range(n_topics):\n",
    "        temp_vector_sum = 0\n",
    "        for i in range(len(keys)):\n",
    "            if keys[i] == topic:\n",
    "                temp_vector_sum += document_term_matrix[i]\n",
    "        temp_vector_sum = temp_vector_sum.toarray()\n",
    "        top_n_word_indices = np.flip(np.argsort(temp_vector_sum)[0][-n:],0)\n",
    "        top_word_indices.append(top_n_word_indices) \n",
    "    \n",
    "    top_words = []\n",
    "    \n",
    "    for topic in top_word_indices:\n",
    "        topic_words = []\n",
    "        for index in topic:\n",
    "            temp_word_vector = np.zeros((1,document_term_matrix.shape[1]))\n",
    "            temp_word_vector[:,index] = 1\n",
    "            the_word = count_vectorizer.inverse_transform(temp_word_vector)[0][0]\n",
    "            topic_words.append(the_word.encode('ascii').decode('utf-8'))\n",
    "        top_words.append(\" \".join(topic_words))         \n",
    "    return top_words\n",
    "\n",
    "# def get_top_n_words(n_top_words, count_vectorizer, text_data):\n",
    "#     '''\n",
    "#     Returns a tuple of the top n words in a sample and their accompanying\n",
    "#     counts, given a CountVectorizer object and text sample\n",
    "#     '''\n",
    "#     vectorized_headlines = count_vectorizer.fit_transform(text_data.as_matrix())\n",
    "    \n",
    "#     vectorized_total = np.sum(vectorized_headlines, axis=0)\n",
    "#     word_indices = np.flip(np.argsort(vectorized_total)[0,:], 1)\n",
    "#     word_values = np.flip(np.sort(vectorized_total)[0,:],1)\n",
    "    \n",
    "#     word_vectors = np.zeros((n_top_words, vectorized_headlines.shape[1]))\n",
    "    \n",
    "#     for i in range(n_top_words):\n",
    "#         word_vectors[i,word_indices[0,i]] = 1\n",
    "\n",
    "#     words = [word[0].encode('ascii').decode('utf-8') for word in count_vectorizer.inverse_transform(word_vectors)]\n",
    "\n",
    "#     return (words, word_values[0,:n_top_words].tolist()[0])\n"
   ]
  },
  {
   "cell_type": "code",
   "execution_count": 360,
   "metadata": {},
   "outputs": [],
   "source": [
    "def get_keys(topic_matrix):\n",
    "    '''\n",
    "    Returns an integer list of predicted topic\n",
    "    categories for a given topic matrix\n",
    "    '''\n",
    "    keys = []\n",
    "    \n",
    "    for i in range(topic_matrix.shape[0]):\n",
    "        keys.append(topic_matrix[i].argmax())\n",
    "        \n",
    "    return keys\n",
    "\n",
    "def keys_to_counts(keys):\n",
    "    '''\n",
    "    Returns a tuple of topic categories and their\n",
    "    accompanying magnitudes for a given list of keys\n",
    "    '''\n",
    "    count_pairs = Counter(keys).items()\n",
    "    categories = [pair[0] for pair in count_pairs]\n",
    "    counts = [pair[1] for pair in count_pairs]\n",
    "    return (categories, counts)\n"
   ]
  },
  {
   "cell_type": "markdown",
   "metadata": {},
   "source": [
    "### Dimensionality reduction evaluation by PCA/SVD variance (BEFORE actual reduction)"
   ]
  },
  {
   "cell_type": "code",
   "execution_count": 177,
   "metadata": {},
   "outputs": [
    {
     "name": "stdout",
     "output_type": "stream",
     "text": [
      "SVD finished in 275.8s\n"
     ]
    }
   ],
   "source": [
    "# WARNING: this might use ALL THE RAM for high values (5k+?), and like 10 GB at 4000\n",
    "# Also, 4k comps takes 5 mins to finish. Not advised\n",
    "tsvd = TruncatedSVD(n_components=4000)\n",
    "\n",
    "t0 = time.time()\n",
    "tsvd.fit(tfidf_vecs)\n",
    "\n",
    "print('SVD finished in %.1fs' % (time.time() - t0))\n"
   ]
  },
  {
   "cell_type": "code",
   "execution_count": 178,
   "metadata": {},
   "outputs": [
    {
     "data": {
      "image/png": "[encoded data removed]",
      "text/plain": [
       "<Figure size 1080x360 with 1 Axes>"
      ]
     },
     "metadata": {},
     "output_type": "display_data"
    },
    {
     "data": {
      "text/plain": [
       "0.783907308841533"
      ]
     },
     "execution_count": 178,
     "metadata": {},
     "output_type": "execute_result"
    }
   ],
   "source": [
    "plt.figure(figsize=(15, 5))\n",
    "plt.fill_between(np.arange(len(tsvd.explained_variance_[:500])), np.cumsum(tsvd.explained_variance_[:500]), alpha=0.6, color='green', zorder=2)\n",
    "plt.fill_between(np.arange(len(tsvd.explained_variance_)), np.cumsum(tsvd.explained_variance_), alpha=0.4, color='blue', zorder=1)\n",
    "plt.title('SVD Cumulative variance 500 vs many dims')\n",
    "plt.show()\n",
    "\n",
    "np.sum(tsvd.explained_variance_)"
   ]
  },
  {
   "cell_type": "code",
   "execution_count": 179,
   "metadata": {},
   "outputs": [
    {
     "data": {
      "image/png": "[encoded data removed]",
      "text/plain": [
       "<Figure size 1008x288 with 1 Axes>"
      ]
     },
     "metadata": {},
     "output_type": "display_data"
    }
   ],
   "source": [
    "x = np.arange(len(tsvd.explained_variance_))\n",
    "y_cdf = np.cumsum(tsvd.explained_variance_)\n",
    "\n",
    "[c1, c2] = np.polyfit(np.log(1 + x), y_cdf, 1)\n",
    "\n",
    "y_fit = c1 * np.log(1+x) + c2\n",
    "\n",
    "plt.figure(figsize=(14,4))\n",
    "plt.fill_between(x, y_cdf, color='green', alpha=0.4, label='truth')\n",
    "plt.plot(x, y_fit, color='red', label='log fit')\n",
    "plt.ylim(0, 0.9)\n",
    "plt.title('SVD cumulative variance versus log fit')\n",
    "plt.legend(loc='upper left')\n",
    "plt.show()\n"
   ]
  },
  {
   "cell_type": "markdown",
   "metadata": {},
   "source": [
    "The meaning of this plot: too little energy per dimension. This cumulative sucks. TD-IDF does not seem to be working well enough.\n",
    "\n",
    "The other plot only says the cumulative energy has even worse behaviour than expected by a log fit."
   ]
  },
  {
   "cell_type": "markdown",
   "metadata": {},
   "source": [
    "### Dimensionality reduction (LSA) and normalisation"
   ]
  },
  {
   "cell_type": "code",
   "execution_count": 343,
   "metadata": {},
   "outputs": [
    {
     "data": {
      "text/plain": [
       "(100000, 71030)"
      ]
     },
     "execution_count": 343,
     "metadata": {},
     "output_type": "execute_result"
    }
   ],
   "source": [
    "idx = rng.choice(term_matrix.shape[0], int(0.1 * term_matrix.shape[0]))\n",
    "subsample = term_matrix[idx, :]\n",
    "\n",
    "subsample.shape"
   ]
  },
  {
   "cell_type": "code",
   "execution_count": 344,
   "metadata": {},
   "outputs": [
    {
     "name": "stdout",
     "output_type": "stream",
     "text": [
      "Dimensionality reduction finished after 100.0s\n"
     ]
    }
   ],
   "source": [
    "trunc = TruncatedSVD(n_components=n_comps)\n",
    "norm = Normalizer(norm=l_norm)\n",
    "lsa_pipe = make_pipeline(trunc, norm)\n",
    "data = subsample\n",
    "\n",
    "t0 = time.time()\n",
    "term_matrix = lsa_pipe.fit_transform(data)\n",
    "\n",
    "print('Dimensionality reduction finished after %.1fs' % (time.time() - t0))\n"
   ]
  },
  {
   "cell_type": "markdown",
   "metadata": {},
   "source": [
    "# Clustering\n",
    "\n",
    "## k-Means\n",
    "\n",
    "### Grid search"
   ]
  },
  {
   "cell_type": "code",
   "execution_count": 176,
   "metadata": {},
   "outputs": [],
   "source": [
    "# statistical results dict\n",
    "# each array stores score entries for a certain number of clusters (in k_values)\n",
    "km_scores_acc = {\n",
    "    'inertia': [],\n",
    "    'silhouette': [],\n",
    "    'calinski_harabaz': []\n",
    "}\n",
    "\n",
    "# number of runs. Updated each time the next cell runs, used to average results later\n",
    "n_runs = 50"
   ]
  },
  {
   "cell_type": "code",
   "execution_count": 177,
   "metadata": {},
   "outputs": [
    {
     "name": "stdout",
     "output_type": "stream",
     "text": [
      "Starting run #50\n",
      "k-Means trained with k = 4 in 0.8s\n",
      "k-Means trained with k = 6 in 0.5s\n",
      "k-Means trained with k = 8 in 0.6s\n",
      "k-Means trained with k = 10 in 1.0s\n",
      "k-Means trained with k = 12 in 1.1s\n",
      "k-Means trained with k = 14 in 0.7s\n",
      "k-Means trained with k = 16 in 0.7s\n",
      "k-Means trained with k = 18 in 1.1s\n",
      "k-Means trained with k = 20 in 1.0s\n",
      "k-Means trained with k = 22 in 0.9s\n",
      "k-Means trained with k = 24 in 1.9s\n",
      "k-Means trained with k = 26 in 0.9s\n",
      "k-Means trained with k = 28 in 1.9s\n",
      "k-Means trained with k = 30 in 1.2s\n",
      "k-Means trained with k = 32 in 1.4s\n",
      "k-Means trained with k = 34 in 2.0s\n",
      "k-Means trained with k = 36 in 1.2s\n",
      "k-Means trained with k = 38 in 1.3s\n",
      "k-Means trained with k = 40 in 1.9s\n",
      "k-Means trained with k = 42 in 1.9s\n",
      "k-Means trained with k = 44 in 1.4s\n",
      "k-Means trained with k = 46 in 1.5s\n",
      "k-Means trained with k = 48 in 3.1s\n",
      "k-Means trained with k = 50 in 2.8s\n",
      "k-Means trained with k = 52 in 2.1s\n",
      "k-Means trained with k = 54 in 1.6s\n",
      "k-Means trained with k = 56 in 2.5s\n",
      "k-Means trained with k = 58 in 2.4s\n",
      "k-Means trained with k = 60 in 4.0s\n",
      "Finished run #50\n",
      "done\n"
     ]
    }
   ],
   "source": [
    "k_values = np.arange(4, 61, 2)\n",
    "batch_size = 20000\n",
    "km_scores_df = pd.DataFrame(columns=('k', 'inertia', 'silhouette', 'calinski_harabaz'))\n",
    "data = nmf_feats\n",
    "\n",
    "from IPython.display import clear_output\n",
    "\n",
    "for i in range(n_runs):\n",
    "    clear_output()\n",
    "    print('Starting run #%d' % (i+1))\n",
    "    \n",
    "    for k in k_values:\n",
    "        km = MiniBatchKMeans(n_clusters=k, batch_size=batch_size)\n",
    "        t0 = time.time()\n",
    "\n",
    "        km.fit(data)\n",
    "\n",
    "        print('k-Means trained with k = %d in %.1fs' % (k, time.time() - t0))\n",
    "\n",
    "        s_score = silhouette_score(data, km.labels_, metric='euclidean', sample_size=200)\n",
    "        ch_score = calinski_harabaz_score(data, km.labels_)\n",
    "\n",
    "        km_scores_df.loc[len(km_scores_df)] = [k, km.inertia_, s_score, ch_score]\n",
    "\n",
    "    # adds the current score series to the accumulator\n",
    "    km_scores_acc['inertia'].append(list(km_scores_df['inertia']))\n",
    "    km_scores_acc['silhouette'].append(list(km_scores_df['silhouette']))\n",
    "    km_scores_acc['calinski_harabaz'].append(list(km_scores_df['calinski_harabaz']))\n",
    "\n",
    "    print('Finished run #%d' % (i+1))\n",
    "\n",
    "print('done')"
   ]
  },
  {
   "cell_type": "markdown",
   "metadata": {},
   "source": [
    "### Scoring"
   ]
  },
  {
   "cell_type": "code",
   "execution_count": null,
   "metadata": {},
   "outputs": [],
   "source": [
    "km_scores_df"
   ]
  },
  {
   "cell_type": "code",
   "execution_count": 178,
   "metadata": {},
   "outputs": [],
   "source": [
    "km_score_stats = {}\n",
    "\n",
    "# processes the score accumulator\n",
    "score_avg_df = km_scores_df.groupby('k').mean()\n",
    "score_std_df = km_scores_df.groupby('k').std()\n",
    "\n",
    "for metric in ('inertia', 'silhouette', 'calinski_harabaz'):\n",
    "    km_score_stats[metric] = [score_avg_df[metric], score_std_df[metric]]\n"
   ]
  },
  {
   "cell_type": "code",
   "execution_count": 179,
   "metadata": {},
   "outputs": [
    {
     "data": {
      "image/png": "[encoded data removed]",
      "text/plain": [
       "<Figure size 1584x288 with 3 Axes>"
      ]
     },
     "metadata": {},
     "output_type": "display_data"
    }
   ],
   "source": [
    "plt.figure(figsize=(22, 4))\n",
    "\n",
    "for i, metric in enumerate(('inertia', 'silhouette', 'calinski_harabaz')):\n",
    "    metric_avg = km_score_stats[metric][0]\n",
    "    metric_std = km_score_stats[metric][1]\n",
    "    \n",
    "    plt.subplot(1, 3, i+1)\n",
    "    plt.plot(k_values, metric_avg, linewidth=2)\n",
    "    plt.fill_between(k_values, metric_avg - metric_std, metric_avg + metric_std, facecolor='red', alpha=0.2, interpolate=True)\n",
    "    plt.fill_between(k_values, metric_avg - 2*metric_std, metric_avg + 2*metric_std, facecolor='red', alpha=0.05, interpolate=True)\n",
    "    plt.title(metric)\n",
    "\n",
    "plt.show()"
   ]
  },
  {
   "cell_type": "code",
   "execution_count": 180,
   "metadata": {},
   "outputs": [
    {
     "data": {
      "image/png": "[encoded data removed]",
      "text/plain": [
       "<Figure size 1584x288 with 3 Axes>"
      ]
     },
     "metadata": {},
     "output_type": "display_data"
    }
   ],
   "source": [
    "plt.figure(figsize=(22, 4))\n",
    "\n",
    "for i, metric in enumerate(('inertia', 'silhouette', 'calinski_harabaz')):\n",
    "    metric_avg = km_score_stats[metric][0]\n",
    "    metric_std = km_score_stats[metric][1]\n",
    "    \n",
    "    # interpolate the error curve\n",
    "    newx = np.linspace(k_values.min(), k_values.max(), 10 * (k_values.max() - k_values.min()))\n",
    "    ta, ca, ka = splrep(k_values, metric_avg, s=0, k=5)\n",
    "    ts, cs, ks = splrep(k_values, metric_std, s=0, k=5)\n",
    "    spl_avg = BSpline(ta, ca, ka)\n",
    "    spl_std = BSpline(ts, cs, ks)\n",
    "    \n",
    "    avg_smooth = spl_avg(newx)\n",
    "    std_smooth = spl_std(newx)\n",
    "    \n",
    "    plt.subplot(1, 3, i+1)\n",
    "    plt.plot(newx, avg_smooth, linewidth=2)\n",
    "    plt.fill_between(newx, avg_smooth - std_smooth, avg_smooth + std_smooth, facecolor='red', alpha=0.2, interpolate=True)\n",
    "    plt.fill_between(newx, avg_smooth - 2*std_smooth, avg_smooth + 2*std_smooth, facecolor='red', alpha=0.05, interpolate=True)\n",
    "    plt.title(metric)\n",
    "\n",
    "plt.show()"
   ]
  },
  {
   "cell_type": "markdown",
   "metadata": {},
   "source": [
    "## k-Means final training\n",
    "\n",
    "### Decide k"
   ]
  },
  {
   "cell_type": "code",
   "execution_count": 181,
   "metadata": {},
   "outputs": [
    {
     "data": {
      "image/png": "[encoded data removed]",
      "text/plain": [
       "<Figure size 1008x720 with 2 Axes>"
      ]
     },
     "metadata": {},
     "output_type": "display_data"
    }
   ],
   "source": [
    "plt.figure(figsize=(14, 10))\n",
    "\n",
    "# get place where silhouette/cal-hara is max and a small neighbourhood\n",
    "# fill that place in the plot\n",
    "\n",
    "for i, metric in enumerate(('silhouette', 'calinski_harabaz')):\n",
    "    metric_avg = km_score_stats[metric][0]\n",
    "    metric_std = km_score_stats[metric][1]\n",
    "    \n",
    "    # interpolate the error curve\n",
    "    newx = np.linspace(k_values.min(), k_values.max(), 10 * (k_values.max() - k_values.min()))\n",
    "    ta, ca, ka = splrep(k_values, metric_avg, s=0, k=5)\n",
    "    ts, cs, ks = splrep(k_values, metric_std, s=0, k=5)\n",
    "    spl_avg = BSpline(ta, ca, ka)\n",
    "    spl_std = BSpline(ts, cs, ks)\n",
    "    \n",
    "    avg_smooth = spl_avg(newx)\n",
    "    std_smooth = spl_std(newx)\n",
    "    \n",
    "    max_idx = int(metric_avg.index[metric_avg == metric_avg.max()][0])\n",
    "    max_neigh = [max_idx - 5, max_idx + 5]\n",
    "    \n",
    "    plt.subplot(2, 1, i+1)\n",
    "    plt.plot(newx, avg_smooth, linewidth=2)\n",
    "    plt.fill_between(newx, avg_smooth - std_smooth, avg_smooth + std_smooth, facecolor='red', alpha=0.2, interpolate=True)\n",
    "    plt.fill_between(newx, avg_smooth - 2*std_smooth, avg_smooth + 2*std_smooth, facecolor='red', alpha=0.05, interpolate=True)\n",
    "    plt.axvspan(max_neigh[0], max_neigh[1], alpha=0.2, color='green')\n",
    "    plt.axvline(max_idx, color='green')\n",
    "    plt.annotate(str(int(max_idx)), (max_idx+1, metric_avg[max_idx]))\n",
    "    plt.title(metric.capitalize() + ' versus number of clusters')\n",
    "\n",
    "plt.show()\n"
   ]
  },
  {
   "cell_type": "code",
   "execution_count": 182,
   "metadata": {},
   "outputs": [],
   "source": [
    "# for inertia, we gotta do a double linear fit to decide the centre of the neighbourhood\n",
    "\n",
    "from scipy.stats import linregress\n",
    "\n",
    "lines = []\n",
    "\n",
    "for mid in np.arange(8, len(k_values) - 1):\n",
    "    x1 = k_values[0:mid]\n",
    "    x2 = k_values[mid:]\n",
    "    y1 = km_score_stats['inertia'][0][x1]\n",
    "    y2 = km_score_stats['inertia'][0][x2]\n",
    "    \n",
    "    a1, b1, rv1, _, _ = linregress(x1, y1)\n",
    "    a2, b2, rv2, _, _ = linregress(x2, y2)\n",
    "    \n",
    "    rv = np.mean([rv1**2, rv2**2])\n",
    "    \n",
    "    lines.append([a1, b1, a2, b2, rv1**2, rv2**2, rv, mid])\n"
   ]
  },
  {
   "cell_type": "code",
   "execution_count": 183,
   "metadata": {},
   "outputs": [
    {
     "data": {
      "text/html": [
       "<div>\n",
       "<style scoped>\n",
       "    .dataframe tbody tr th:only-of-type {\n",
       "        vertical-align: middle;\n",
       "    }\n",
       "\n",
       "    .dataframe tbody tr th {\n",
       "        vertical-align: top;\n",
       "    }\n",
       "\n",
       "    .dataframe thead th {\n",
       "        text-align: right;\n",
       "    }\n",
       "</style>\n",
       "<table border=\"1\" class=\"dataframe\">\n",
       "  <thead>\n",
       "    <tr style=\"text-align: right;\">\n",
       "      <th></th>\n",
       "      <th>a1</th>\n",
       "      <th>b1</th>\n",
       "      <th>b2</th>\n",
       "      <th>b2</th>\n",
       "      <th>rv1</th>\n",
       "      <th>rv2</th>\n",
       "      <th>rv</th>\n",
       "      <th>mid</th>\n",
       "    </tr>\n",
       "  </thead>\n",
       "  <tbody>\n",
       "    <tr>\n",
       "      <th>2</th>\n",
       "      <td>-32.994679</td>\n",
       "      <td>828.266479</td>\n",
       "      <td>-1.494438</td>\n",
       "      <td>175.572479</td>\n",
       "      <td>0.972598</td>\n",
       "      <td>0.94854</td>\n",
       "      <td>0.960569</td>\n",
       "      <td>10.0</td>\n",
       "    </tr>\n",
       "  </tbody>\n",
       "</table>\n",
       "</div>"
      ],
      "text/plain": [
       "          a1          b1        b2          b2       rv1      rv2        rv  \\\n",
       "2 -32.994679  828.266479 -1.494438  175.572479  0.972598  0.94854  0.960569   \n",
       "\n",
       "    mid  \n",
       "2  10.0  "
      ]
     },
     "execution_count": 183,
     "metadata": {},
     "output_type": "execute_result"
    }
   ],
   "source": [
    "lines_df = pd.DataFrame(np.matrix(lines), columns=('a1', 'b1', 'b2', 'b2', 'rv1', 'rv2', 'rv', 'mid'))\n",
    "\n",
    "best = lines_df[lines_df['rv'] == lines_df['rv'].max()]\n",
    "\n",
    "best"
   ]
  },
  {
   "cell_type": "code",
   "execution_count": 184,
   "metadata": {},
   "outputs": [
    {
     "data": {
      "image/png": "[encoded data removed]",
      "text/plain": [
       "<Figure size 864x360 with 1 Axes>"
      ]
     },
     "metadata": {},
     "output_type": "display_data"
    }
   ],
   "source": [
    "plt.figure(figsize=(12, 5))\n",
    "\n",
    "metric_avg = km_score_stats['inertia'][0]\n",
    "metric_std = km_score_stats['inertia'][1]\n",
    "\n",
    "# interpolate the error curve\n",
    "newx = np.linspace(k_values.min(), k_values.max(), 10 * (k_values.max() - k_values.min()))\n",
    "ta, ca, ka = splrep(k_values, metric_avg, s=0, k=5)\n",
    "ts, cs, ks = splrep(k_values, metric_std, s=0, k=5)\n",
    "spl_avg = BSpline(ta, ca, ka)\n",
    "spl_std = BSpline(ts, cs, ks)\n",
    "\n",
    "avg_smooth = spl_avg(newx)\n",
    "std_smooth = spl_std(newx)\n",
    "best = k_values[int(best['mid'])]\n",
    "\n",
    "plt.plot(newx, avg_smooth, linewidth=2)\n",
    "plt.fill_between(newx, avg_smooth - std_smooth, avg_smooth + std_smooth, facecolor='red', alpha=0.2, interpolate=True)\n",
    "plt.fill_between(newx, avg_smooth - 2*std_smooth, avg_smooth + 2*std_smooth, facecolor='red', alpha=0.05, interpolate=True)\n",
    "plt.axvspan(best - 5, best + 5, alpha=0.2, color='green')\n",
    "plt.axvline(best, color='green')\n",
    "plt.annotate(str(best), (max_idx+1, metric_avg[max_idx]))\n",
    "plt.title(metric)\n",
    "\n",
    "plt.title('Inertia versus number of clusters')\n",
    "plt.show()"
   ]
  },
  {
   "cell_type": "markdown",
   "metadata": {},
   "source": [
    "### Fit k-Means"
   ]
  },
  {
   "cell_type": "code",
   "execution_count": 185,
   "metadata": {},
   "outputs": [
    {
     "name": "stdout",
     "output_type": "stream",
     "text": [
      "k-Means trained in 69.5s\n"
     ]
    },
    {
     "data": {
      "text/plain": [
       "163.8289939691475"
      ]
     },
     "execution_count": 185,
     "metadata": {},
     "output_type": "execute_result"
    }
   ],
   "source": [
    "km = KMeans(n_clusters=21, n_jobs=4, n_init=20, max_iter=500, algorithm='full')\n",
    "data = nmf_feats\n",
    "\n",
    "t0 = time.time()\n",
    "km.fit(data)\n",
    "\n",
    "print('k-Means trained in %.1fs' % (time.time() - t0))\n",
    "km.inertia_"
   ]
  },
  {
   "cell_type": "code",
   "execution_count": 186,
   "metadata": {},
   "outputs": [
    {
     "data": {
      "text/html": [
       "<div>\n",
       "<style scoped>\n",
       "    .dataframe tbody tr th:only-of-type {\n",
       "        vertical-align: middle;\n",
       "    }\n",
       "\n",
       "    .dataframe tbody tr th {\n",
       "        vertical-align: top;\n",
       "    }\n",
       "\n",
       "    .dataframe thead th {\n",
       "        text-align: right;\n",
       "    }\n",
       "</style>\n",
       "<table border=\"1\" class=\"dataframe\">\n",
       "  <thead>\n",
       "    <tr style=\"text-align: right;\">\n",
       "      <th></th>\n",
       "      <th>publish_date</th>\n",
       "      <th>headline_text</th>\n",
       "      <th>headline_pprocd</th>\n",
       "      <th>cluster_id</th>\n",
       "    </tr>\n",
       "  </thead>\n",
       "  <tbody>\n",
       "    <tr>\n",
       "      <th>146477</th>\n",
       "      <td>2005-03-27</td>\n",
       "      <td>hawks get off to horror start</td>\n",
       "      <td>hawk get horror start</td>\n",
       "      <td>1</td>\n",
       "    </tr>\n",
       "    <tr>\n",
       "      <th>113429</th>\n",
       "      <td>2004-10-19</td>\n",
       "      <td>australia joins exercise off japan despite n korea</td>\n",
       "      <td>australia join exercise japan despite n korea</td>\n",
       "      <td>4</td>\n",
       "    </tr>\n",
       "    <tr>\n",
       "      <th>235472</th>\n",
       "      <td>2006-03-22</td>\n",
       "      <td>new board to give youth a say</td>\n",
       "      <td>new board give youth say</td>\n",
       "      <td>10</td>\n",
       "    </tr>\n",
       "    <tr>\n",
       "      <th>345426</th>\n",
       "      <td>2008-05-15</td>\n",
       "      <td>budget reply to test nelsons leadership</td>\n",
       "      <td>budget reply test nelson leadership</td>\n",
       "      <td>1</td>\n",
       "    </tr>\n",
       "    <tr>\n",
       "      <th>350091</th>\n",
       "      <td>2008-02-24</td>\n",
       "      <td>mcleods daughters attracts jillaroos to the bush</td>\n",
       "      <td>mcleods daughter attracts jillaroos bush</td>\n",
       "      <td>1</td>\n",
       "    </tr>\n",
       "    <tr>\n",
       "      <th>139161</th>\n",
       "      <td>2005-08-07</td>\n",
       "      <td>coonan sees learning curve for telstra boss</td>\n",
       "      <td>coonan see learning curve telstra bos</td>\n",
       "      <td>1</td>\n",
       "    </tr>\n",
       "    <tr>\n",
       "      <th>647814</th>\n",
       "      <td>2012-06-10</td>\n",
       "      <td>the hit up</td>\n",
       "      <td>hit</td>\n",
       "      <td>1</td>\n",
       "    </tr>\n",
       "    <tr>\n",
       "      <th>62796</th>\n",
       "      <td>2004-10-02</td>\n",
       "      <td>phallic political artwork raises eyebrows</td>\n",
       "      <td>phallic political artwork raise eyebrow</td>\n",
       "      <td>1</td>\n",
       "    </tr>\n",
       "    <tr>\n",
       "      <th>663847</th>\n",
       "      <td>2012-09-10</td>\n",
       "      <td>a long wait for new tanami tenements</td>\n",
       "      <td>long wait new tanami tenement</td>\n",
       "      <td>6</td>\n",
       "    </tr>\n",
       "    <tr>\n",
       "      <th>555921</th>\n",
       "      <td>2011-07-08</td>\n",
       "      <td>chaplain says heyward was mistreated</td>\n",
       "      <td>chaplain say heyward mistreated</td>\n",
       "      <td>10</td>\n",
       "    </tr>\n",
       "  </tbody>\n",
       "</table>\n",
       "</div>"
      ],
      "text/plain": [
       "       publish_date                                       headline_text  \\\n",
       "146477   2005-03-27                       hawks get off to horror start   \n",
       "113429   2004-10-19  australia joins exercise off japan despite n korea   \n",
       "235472   2006-03-22                       new board to give youth a say   \n",
       "345426   2008-05-15             budget reply to test nelsons leadership   \n",
       "350091   2008-02-24    mcleods daughters attracts jillaroos to the bush   \n",
       "139161   2005-08-07         coonan sees learning curve for telstra boss   \n",
       "647814   2012-06-10                                          the hit up   \n",
       "62796    2004-10-02           phallic political artwork raises eyebrows   \n",
       "663847   2012-09-10                a long wait for new tanami tenements   \n",
       "555921   2011-07-08                chaplain says heyward was mistreated   \n",
       "\n",
       "                                      headline_pprocd  cluster_id  \n",
       "146477                          hawk get horror start           1  \n",
       "113429  australia join exercise japan despite n korea           4  \n",
       "235472                       new board give youth say          10  \n",
       "345426            budget reply test nelson leadership           1  \n",
       "350091       mcleods daughter attracts jillaroos bush           1  \n",
       "139161          coonan see learning curve telstra bos           1  \n",
       "647814                                            hit           1  \n",
       "62796         phallic political artwork raise eyebrow           1  \n",
       "663847                  long wait new tanami tenement           6  \n",
       "555921                chaplain say heyward mistreated          10  "
      ]
     },
     "execution_count": 186,
     "metadata": {},
     "output_type": "execute_result"
    }
   ],
   "source": [
    "# Now praying that order was preserved throughout the\n",
    "# feature extraction pipeline, we call upon this:\n",
    "\n",
    "cluster_df = df[['publish_date', 'headline_text', 'headline_pprocd']].copy()\n",
    "\n",
    "cluster_df['cluster_id'] = pd.Series(km.labels_)\n",
    "\n",
    "cluster_df.sample(10)"
   ]
  },
  {
   "cell_type": "code",
   "execution_count": 187,
   "metadata": {},
   "outputs": [],
   "source": [
    "# need most common words in each cluster\n",
    "def get_n_most_freq_words(corpus, n):\n",
    "    cluster_counter = CountVectorizer(ngram_range=(1, 1))\n",
    "    bow = cluster_counter.fit_transform(corpus)\n",
    "    word_count = bow.sum(axis=0)\n",
    "    total = np.sum(word_count)\n",
    "    words_freq = [(word, word_count[0, idx] / total) for word, idx in cluster_counter.vocabulary_.items()]\n",
    "    words_freq = sorted(words_freq, key = lambda x: x[1], reverse=True)\n",
    "    \n",
    "    return words_freq[:n]\n"
   ]
  },
  {
   "cell_type": "code",
   "execution_count": 189,
   "metadata": {},
   "outputs": [
    {
     "data": {
      "text/plain": [
       "[[('police', 0.17763291139240506),\n",
       "  ('man', 0.014481012658227849),\n",
       "  ('probe', 0.009582278481012658),\n",
       "  ('investigate', 0.009012658227848101),\n",
       "  ('missing', 0.008151898734177215)],\n",
       " [('council', 0.17995724080308653),\n",
       "  ('plan', 0.014130194382326199),\n",
       "  ('new', 0.006929938810114762),\n",
       "  ('rate', 0.006549037918069447),\n",
       "  ('seek', 0.0056397906273806305)],\n",
       " [('new', 0.16786101742448284),\n",
       "  ('zealand', 0.007070162879430845),\n",
       "  ('year', 0.006273109026634883),\n",
       "  ('law', 0.006243588513568366),\n",
       "  ('get', 0.004250953881578462)],\n",
       " [('win', 0.17205723217506314),\n",
       "  ('award', 0.007988991757177401),\n",
       "  ('title', 0.006345771044580712),\n",
       "  ('gold', 0.0060652211668203015),\n",
       "  ('cup', 0.005423964303367935)],\n",
       " [('plan', 0.17408133707591547),\n",
       "  ('govt', 0.00743389600235834),\n",
       "  ('new', 0.00695966470565617),\n",
       "  ('group', 0.003998923366785865),\n",
       "  ('health', 0.00364004562874098)]]"
      ]
     },
     "execution_count": 189,
     "metadata": {},
     "output_type": "execute_result"
    }
   ],
   "source": [
    "freq = []\n",
    "\n",
    "for i in (4, 6, 7, 12, 21):\n",
    "    subdf = cluster_df[cluster_df['cluster_id'] == i-1]['headline_pprocd']\n",
    "    freq.append(get_n_most_freq_words(subdf, 5))\n",
    "\n",
    "freq"
   ]
  },
  {
   "cell_type": "code",
   "execution_count": 191,
   "metadata": {},
   "outputs": [
    {
     "data": {
      "text/plain": [
       "[935117    police defend questioning paddington restaurant over wine list\n",
       " 986347           facebook post from tas police after driver lucky escape\n",
       " 68783                      police investigate fatal hit and run accident\n",
       " 31019                            wa police praise well behaved schoolies\n",
       " 255257                police seeking three others heyward murder hearing\n",
       " Name: headline_text, dtype: object,\n",
       " 928619    buloke shire maitreya festival decision sparks council tilt\n",
       " 120259               albany council to discuss marina recommendations\n",
       " 823409                 council flags hope for development of dunes 18\n",
       " 496898                        council drops plans to sell crematorium\n",
       " 509945                                  mayor attacks council bashing\n",
       " Name: headline_text, dtype: object,\n",
       " 410148                 darwin elects new deputy lord mayor\n",
       " 496132                 tim mathieson new patron of gallery\n",
       " 425275      riverina enters new year with relatively quiet\n",
       " 719715    new book reveals unrecognised acts of courage by\n",
       " 545990           union attacks hasty move to new work camp\n",
       " Name: headline_text, dtype: object,\n",
       " 145500          appleby still a chance of californian win\n",
       " 538138            spain beats swiss to win euro u21 final\n",
       " 719748      cheetahs leave it late for fifth straight win\n",
       " 6802      springboks out to win hearts as well as matches\n",
       " 199891                        proteas post impressive win\n",
       " Name: headline_text, dtype: object,\n",
       " 855539    footscray to become university town under 10 year plan\n",
       " 423413                  government questions land sell off plans\n",
       " 90361            carr health reform plans vindicates oppositions\n",
       " 483954         company promises environment studies on port plan\n",
       " 67666                award recognises great lakes catchment plan\n",
       " Name: headline_text, dtype: object]"
      ]
     },
     "execution_count": 191,
     "metadata": {},
     "output_type": "execute_result"
    }
   ],
   "source": [
    "sentences = []\n",
    "\n",
    "for i in (4, 6, 7, 12, 21):\n",
    "    subdf = cluster_df[cluster_df['cluster_id'] == i-1]['headline_text'].sample(5)\n",
    "    sentences.append(subdf)\n",
    "\n",
    "sentences"
   ]
  },
  {
   "cell_type": "code",
   "execution_count": null,
   "metadata": {},
   "outputs": [],
   "source": []
  },
  {
   "cell_type": "code",
   "execution_count": 79,
   "metadata": {},
   "outputs": [
    {
     "data": {
      "text/plain": [
       "879088             taxi industry green paper not yet discussed nalder says\n",
       "902184         plans for act public housing overhaul to go ahead barr says\n",
       "871843       growers say canola production down in sa due to gm moratorium\n",
       "842366        finks bikie eating pie at time of alleged attack lawyer says\n",
       "898309                   east timors former president says west papua part\n",
       "841534         malcolm turnbull says federal election around sept oct 2016\n",
       "902631                                            boom imminent says agent\n",
       "870814                   queensland budget mean and tricky opposition says\n",
       "900900          scott morrison says he knows whether people smugglers paid\n",
       "887483    clear vision needed before se qld bid for 2028 olympics qtic say\n",
       "898051       gm crop fight farmers say heartache could have been prevented\n",
       "853738              poland co responsible for wwii says russian ambassador\n",
       "886215                 bolt says pms knightmare could be politically fatal\n",
       "898190            egg farmers say a new code will fix free range confusion\n",
       "891218    eidsvold earthquake could have been devastating seismologist say\n",
       "888401                agriculture ready for digital innovation says expert\n",
       "870321                                glen ryan says giveaway sparked glut\n",
       "857269         star wars the force awakens seven things harrison ford says\n",
       "854648       east west link funding promise broken in budget victoria says\n",
       "857647           spend more on child health not elderly says john elferink\n",
       "Name: headline_text, dtype: object"
      ]
     },
     "execution_count": 79,
     "metadata": {},
     "output_type": "execute_result"
    }
   ],
   "source": [
    "date_idx = (cluster_df['publish_date'] >= '2015-01-01') & (cluster_df['publish_date'] < '2016-01-01')\n",
    "cluster_df[date_idx & (cluster_df['cluster_id'] == 1)]['headline_text'].sample(20)"
   ]
  },
  {
   "cell_type": "code",
   "execution_count": 61,
   "metadata": {},
   "outputs": [
    {
     "data": {
      "text/plain": [
       "2003"
      ]
     },
     "execution_count": 61,
     "metadata": {},
     "output_type": "execute_result"
    }
   ],
   "source": []
  },
  {
   "cell_type": "markdown",
   "metadata": {},
   "source": [
    "### t-SNE sucked"
   ]
  },
  {
   "cell_type": "code",
   "execution_count": 49,
   "metadata": {},
   "outputs": [
    {
     "name": "stdout",
     "output_type": "stream",
     "text": [
      "[t-SNE] Computing 91 nearest neighbors...\n",
      "[t-SNE] Indexed 10000 samples in 0.011s...\n",
      "[t-SNE] Computed neighbors for 10000 samples in 2.711s...\n",
      "[t-SNE] Computed conditional probabilities for sample 1000 / 10000\n",
      "[t-SNE] Computed conditional probabilities for sample 2000 / 10000\n",
      "[t-SNE] Computed conditional probabilities for sample 3000 / 10000\n",
      "[t-SNE] Computed conditional probabilities for sample 4000 / 10000\n",
      "[t-SNE] Computed conditional probabilities for sample 5000 / 10000\n",
      "[t-SNE] Computed conditional probabilities for sample 6000 / 10000\n",
      "[t-SNE] Computed conditional probabilities for sample 7000 / 10000\n",
      "[t-SNE] Computed conditional probabilities for sample 8000 / 10000\n",
      "[t-SNE] Computed conditional probabilities for sample 9000 / 10000\n",
      "[t-SNE] Computed conditional probabilities for sample 10000 / 10000\n",
      "[t-SNE] Mean sigma: 0.000000\n",
      "[t-SNE] KL divergence after 250 iterations with early exaggeration: 77.501312\n",
      "[t-SNE] Error after 1000 iterations: 1.149340\n"
     ]
    }
   ],
   "source": [
    "idx = rng.choice(term_matrix.shape[0], int(0.01 * term_matrix.shape[0]))\n",
    "subsample = nmf_feats[idx, :]\n",
    "\n",
    "tsne_nme = TSNE(n_components=2, verbose=1).fit_transform(subsample)"
   ]
  },
  {
   "cell_type": "code",
   "execution_count": 43,
   "metadata": {},
   "outputs": [],
   "source": [
    "colormap = np.array([\n",
    "    \"#1f77b4\", \"#aec7e8\", \"#ff7f0e\", \"#ffbb78\", \"#2ca02c\",\n",
    "    \"#98df8a\", \"#d62728\", \"#ff9896\", \"#9467bd\", \"#c5b0d5\",\n",
    "    \"#8c564b\", \"#c49c94\", \"#e377c2\", \"#f7b6d2\", \"#7f7f7f\",\n",
    "    \"#c7c7c7\", \"#bcbd22\", \"#dbdb8d\", \"#17becf\", \"#9edae5\" ])\n",
    "#colormap = colormap[:21]"
   ]
  },
  {
   "cell_type": "code",
   "execution_count": 50,
   "metadata": {},
   "outputs": [
    {
     "data": {
      "text/plain": [
       "<matplotlib.collections.PathCollection at 0x7ff3e8c4e160>"
      ]
     },
     "execution_count": 50,
     "metadata": {},
     "output_type": "execute_result"
    },
    {
     "data": {
      "image/png": "[encoded data removed]",
      "text/plain": [
       "<Figure size 432x288 with 1 Axes>"
      ]
     },
     "metadata": {},
     "output_type": "display_data"
    }
   ],
   "source": [
    "plt.scatter(tsne_nme[:,0], tsne_nme[:,1], c=km.labels_[idx], marker='.')"
   ]
  },
  {
   "cell_type": "markdown",
   "metadata": {},
   "source": [
    "### Evaluate terms found inside calculated clusters"
   ]
  },
  {
   "cell_type": "code",
   "execution_count": 33,
   "metadata": {},
   "outputs": [
    {
     "data": {
      "text/plain": [
       "21.25"
      ]
     },
     "execution_count": 33,
     "metadata": {},
     "output_type": "execute_result"
    }
   ],
   "source": [
    "(1.5*24 + 1.5*22 + 16)/4"
   ]
  },
  {
   "cell_type": "markdown",
   "metadata": {},
   "source": [
    "## Meanshift\n",
    "\n",
    "### Grid search"
   ]
  },
  {
   "cell_type": "code",
   "execution_count": null,
   "metadata": {},
   "outputs": [],
   "source": [
    "# Bandwidth estimation can be a serious bottleneck, so we are checking it first. Best time vs consistent value wins\n",
    "quantiles = np.arange(0.1, 0.5, 0.1)\n",
    "n_samples = np.array([100, 500, 1000, 2000, 3000, 4000, 5000])\n",
    "bw_bench_df = pd.DataFrame(columns=('n_samples', 'quantile', 'bandwidth', 'elapsed_time'))\n",
    "iteration = 1\n",
    "data = term_matrix\n",
    "\n",
    "for q in quantiles:\n",
    "    for n in n_samples:\n",
    "        t0 = time.time()\n",
    "        bw = estimate_bandwidth(data, quantile=q, n_samples=n, n_jobs=4)\n",
    "        elapsed = time.time() - t0\n",
    "        bw_bench_df.loc[len(bw_bench_df)] = [n, q, bw, elapsed]\n",
    "        \n",
    "        print('bandwidth calculation %d/%d benchmark pair (%.1f, %d) finished in %.1fs' % (iteration, \n",
    "            len(quantiles) * len(n_samples), q, n, elapsed))\n",
    "        \n",
    "        iteration += 1\n",
    "\n",
    "print('done')\n",
    "bw_bench_df"
   ]
  },
  {
   "cell_type": "code",
   "execution_count": 193,
   "metadata": {},
   "outputs": [
    {
     "data": {
      "text/plain": [
       "<matplotlib.axes._subplots.AxesSubplot at 0x7fa262610438>"
      ]
     },
     "execution_count": 193,
     "metadata": {},
     "output_type": "execute_result"
    },
    {
     "data": {
      "image/png": "[encoded data removed]",
      "text/plain": [
       "<Figure size 1296x360 with 1 Axes>"
      ]
     },
     "metadata": {},
     "output_type": "display_data"
    }
   ],
   "source": [
    "# Bandwidth benchmarking plot\n",
    "bw_bench_df.boxplot(column='bandwidth', by='quantile', figsize=(18,5), showmeans=True, vert=False)"
   ]
  },
  {
   "cell_type": "markdown",
   "metadata": {},
   "source": [
    "Conclusion from this plot: visually, the number of samples did not seem to change much the calculated bandwidth. Therefore, any value with the bigest sample size which performs well in time would suffice."
   ]
  },
  {
   "cell_type": "code",
   "execution_count": 285,
   "metadata": {},
   "outputs": [
    {
     "name": "stdout",
     "output_type": "stream",
     "text": [
      "Meanshift trained with bw = 0.500 * 1.398 = 0.699 in 212.9s\n",
      "Meanshift trained with bw = 0.500 * 1.409 = 0.705 in 204.3s\n",
      "Meanshift trained with bw = 0.500 * 1.413 = 0.706 in 202.9s\n",
      "Meanshift trained with bw = 0.600 * 1.398 = 0.839 in 73.7s\n",
      "Meanshift trained with bw = 0.600 * 1.409 = 0.845 in 70.7s\n",
      "Meanshift trained with bw = 0.600 * 1.413 = 0.848 in 70.8s\n",
      "done\n"
     ]
    }
   ],
   "source": [
    "ms_scores_df = pd.DataFrame(columns=('bw_factor', 'bandwidth', 'estimated_k', 'silhouette', 'calinski_harabaz'))\n",
    "bw_values = [np.min(bw_bench_df['bandwidth']), np.median(bw_bench_df['bandwidth']), np.max(bw_bench_df['bandwidth'])]\n",
    "bw_factors = [0.5, 0.6]\n",
    "bw_grid = np.array(np.meshgrid(bw_factors, bw_values)).T.reshape(-1, 2)\n",
    "data = term_matrix\n",
    "\n",
    "for bwf, bwv in bw_grid:\n",
    "    ms = MeanShift(bandwidth=bwf * bwv, bin_seeding=True, n_jobs=4)\n",
    "    t0 = time.time()\n",
    "    \n",
    "    ms.fit(data)\n",
    "    \n",
    "    print('Meanshift trained with bw = %.3f * %.3f = %.3f in %.1fs' % (bwf, bwv,\n",
    "        bwf * bwv, time.time() - t0))\n",
    "    \n",
    "    if len(ms.cluster_centers_) == 1:\n",
    "        print('Ignoring this training, it found only 1 cluster')\n",
    "        continue\n",
    "    \n",
    "    ms_scores_df.loc[len(ms_scores_df)] = [bwf, bwf * bwv, len(ms.cluster_centers_),\n",
    "        silhouette_score(data, ms.labels_, sample_size=200),\n",
    "        calinski_harabaz_score(data, ms.labels_)]\n",
    "\n",
    "print('done')"
   ]
  },
  {
   "cell_type": "code",
   "execution_count": 240,
   "metadata": {},
   "outputs": [
    {
     "data": {
      "text/plain": [
       "MeanShift(bandwidth=0.8389402997744785, bin_seeding=True, cluster_all=True,\n",
       "     min_bin_freq=1, n_jobs=4, seeds=None)"
      ]
     },
     "execution_count": 240,
     "metadata": {},
     "output_type": "execute_result"
    }
   ],
   "source": [
    "ms = MeanShift(bandwidth=0.6*bw_values[0], bin_seeding=True, n_jobs=4)\n",
    "t0 = time.time()\n",
    "ms.fit(term_matrix)\n",
    "ms.cluster_centers_.shape"
   ]
  },
  {
   "cell_type": "markdown",
   "metadata": {},
   "source": [
    "### Scoring\n",
    "\n",
    "The *Silhouette coefficient* goes from -1 (incorrect clustering) to +1 (high density clusters). Values near 0 indicate overlapping clusters. Favours convex clusters.\n",
    "\n",
    "The *Calinski-Harabaz index* is higher the more dense and well separated the clusters are. Also favours convex clusters."
   ]
  },
  {
   "cell_type": "code",
   "execution_count": 286,
   "metadata": {},
   "outputs": [
    {
     "data": {
      "text/html": [
       "<div>\n",
       "<style scoped>\n",
       "    .dataframe tbody tr th:only-of-type {\n",
       "        vertical-align: middle;\n",
       "    }\n",
       "\n",
       "    .dataframe tbody tr th {\n",
       "        vertical-align: top;\n",
       "    }\n",
       "\n",
       "    .dataframe thead th {\n",
       "        text-align: right;\n",
       "    }\n",
       "</style>\n",
       "<table border=\"1\" class=\"dataframe\">\n",
       "  <thead>\n",
       "    <tr style=\"text-align: right;\">\n",
       "      <th></th>\n",
       "      <th>bw_factor</th>\n",
       "      <th>bandwidth</th>\n",
       "      <th>estimated_k</th>\n",
       "      <th>silhouette</th>\n",
       "      <th>calinski_harabaz</th>\n",
       "    </tr>\n",
       "  </thead>\n",
       "  <tbody>\n",
       "    <tr>\n",
       "      <th>0</th>\n",
       "      <td>0.5</td>\n",
       "      <td>0.699117</td>\n",
       "      <td>12.0</td>\n",
       "      <td>0.001680</td>\n",
       "      <td>189.415253</td>\n",
       "    </tr>\n",
       "    <tr>\n",
       "      <th>1</th>\n",
       "      <td>0.5</td>\n",
       "      <td>0.704553</td>\n",
       "      <td>13.0</td>\n",
       "      <td>0.006606</td>\n",
       "      <td>190.361021</td>\n",
       "    </tr>\n",
       "    <tr>\n",
       "      <th>2</th>\n",
       "      <td>0.5</td>\n",
       "      <td>0.706322</td>\n",
       "      <td>13.0</td>\n",
       "      <td>0.015255</td>\n",
       "      <td>189.369235</td>\n",
       "    </tr>\n",
       "    <tr>\n",
       "      <th>3</th>\n",
       "      <td>0.6</td>\n",
       "      <td>0.838940</td>\n",
       "      <td>24.0</td>\n",
       "      <td>0.015247</td>\n",
       "      <td>164.997519</td>\n",
       "    </tr>\n",
       "    <tr>\n",
       "      <th>4</th>\n",
       "      <td>0.6</td>\n",
       "      <td>0.845464</td>\n",
       "      <td>23.0</td>\n",
       "      <td>0.009237</td>\n",
       "      <td>167.991600</td>\n",
       "    </tr>\n",
       "    <tr>\n",
       "      <th>5</th>\n",
       "      <td>0.6</td>\n",
       "      <td>0.847586</td>\n",
       "      <td>23.0</td>\n",
       "      <td>0.017852</td>\n",
       "      <td>169.265285</td>\n",
       "    </tr>\n",
       "  </tbody>\n",
       "</table>\n",
       "</div>"
      ],
      "text/plain": [
       "   bw_factor  bandwidth  estimated_k  silhouette  calinski_harabaz\n",
       "0        0.5   0.699117         12.0    0.001680        189.415253\n",
       "1        0.5   0.704553         13.0    0.006606        190.361021\n",
       "2        0.5   0.706322         13.0    0.015255        189.369235\n",
       "3        0.6   0.838940         24.0    0.015247        164.997519\n",
       "4        0.6   0.845464         23.0    0.009237        167.991600\n",
       "5        0.6   0.847586         23.0    0.017852        169.265285"
      ]
     },
     "execution_count": 286,
     "metadata": {},
     "output_type": "execute_result"
    }
   ],
   "source": [
    "ms_scores_df"
   ]
  },
  {
   "cell_type": "code",
   "execution_count": 287,
   "metadata": {},
   "outputs": [
    {
     "data": {
      "image/png": "[encoded data removed]",
      "text/plain": [
       "<Figure size 1584x288 with 2 Axes>"
      ]
     },
     "metadata": {},
     "output_type": "display_data"
    }
   ],
   "source": [
    "plt.figure(figsize=(22,4))\n",
    "plt.subplot(1, 2, 1)\n",
    "plt.plot(ms_scores_df['bandwidth'], ms_scores_df['silhouette'])\n",
    "plt.title('silhouette')\n",
    "plt.subplot(1, 2, 2)\n",
    "plt.plot(ms_scores_df['bandwidth'], ms_scores_df['calinski_harabaz'])\n",
    "plt.title('calinski-harabasz')\n",
    "plt.show()"
   ]
  },
  {
   "cell_type": "markdown",
   "metadata": {},
   "source": [
    "## DBSCAN (WARN: THE GRID SEARCH IS TAKING THE WHOLE RAM!\n",
    "\n",
    "## Grid search"
   ]
  },
  {
   "cell_type": "code",
   "execution_count": null,
   "metadata": {},
   "outputs": [],
   "source": [
    "leaf_sizes = np.arange(10, 31, 10)\n",
    "eps_vals = np.arange(0.1, 0.51, 0.1)\n",
    "msamples = np.arange(10, 31, 10)\n",
    "param_grid = np.array(np.meshgrid(leaf_sizes, eps_vals, msamples)).T.reshape(-1, 3)\n",
    "db_score_df = pd.DataFrame(columns=('estimated_k', 'eps', 'min_samples', 'leaf_size', 'silhouette', 'calinski-harabaz'))\n",
    "data = term_matrix\n",
    "\n",
    "for l, e, s in param_grid:\n",
    "    db = DBSCAN(eps=l, min_samples=s, metric='minkowski', p=2, algorithm='ball_tree', leaf_size=l, n_jobs=4)\n",
    "\n",
    "    t0 = time.time()\n",
    "    db.fit(data)\n",
    "    \n",
    "    print('DBSCAN (leafs, eps, samples) = (%d, %.1f, %d) trained in %.1fs' % (l, e, s, time-time() - t0))\n",
    "    \n",
    "    # according to documentation:\n",
    "    n_clusters = len(set(db.labels_)) - (1 if -1 in db.labels_ else 0)\n",
    "    \n",
    "    db_score_df.loc[len(db_score_df)] = [n_clusters, e, s, l,\n",
    "        silhouette_score(data, db.labels_, sample_size=200),\n",
    "        calinski_harabaz_score(data, db.labels_)]\n",
    "\n",
    "print('done')"
   ]
  },
  {
   "cell_type": "code",
   "execution_count": null,
   "metadata": {},
   "outputs": [],
   "source": []
  },
  {
   "cell_type": "code",
   "execution_count": 312,
   "metadata": {},
   "outputs": [
    {
     "data": {
      "text/plain": [
       "array([1, 1, 0, 1])"
      ]
     },
     "execution_count": 312,
     "metadata": {},
     "output_type": "execute_result"
    }
   ],
   "source": []
  },
  {
   "cell_type": "markdown",
   "metadata": {},
   "source": [
    "## My clustering evaluation metric\n",
    "\"My\" as in \"I don't know if someone came up with this before, I just had this idea.\""
   ]
  },
  {
   "cell_type": "code",
   "execution_count": 72,
   "metadata": {},
   "outputs": [],
   "source": [
    "from sklearn.neighbors import KNeighborsClassifier\n",
    "\n",
    "def knn_mismatch_score(X, labels, lnorm=2, weights='uniform'):\n",
    "    '''\n",
    "    Receives a data matrix X and (supposedly) predicted labels that cluster the data in X.\n",
    "    \n",
    "    It then uses a k-NN algorithm to re-label X and calculates the score as the number of mismatches\n",
    "    between these labels and those given as parameter.\n",
    "    '''\n",
    "    unique_labels = np.unique(labels)\n",
    "    knn = KNeighborsClassifier(n_neighbors=5, algorithm='ball_tree', weights=weights, n_jobs=4, p=lnorm)\n",
    "    \n",
    "    knn.fit(X, labels)\n",
    "    \n",
    "    pred_labels = knn.predict(X)\n",
    "    \n",
    "    score = np.sum(np.equal(pred_labels, labels).astype(int)) / len(labels)\n",
    "    \n",
    "    return score\n"
   ]
  },
  {
   "cell_type": "code",
   "execution_count": 73,
   "metadata": {},
   "outputs": [
    {
     "name": "stdout",
     "output_type": "stream",
     "text": [
      "0.8958852021185097\n",
      "knn mismatch score on km finished in 333.4s\n",
      "0.8981259336381332\n",
      "knn mismatch score on ms finished in 336.5s\n"
     ]
    }
   ],
   "source": [
    "# a 5-minute test on predicted labels by a km and ms using UNIFORM weights\n",
    "t0 = time.time()\n",
    "\n",
    "print(knn_mismatch_score(tfidf_vecs, km.labels_, weights='uniform'))\n",
    "print('knn mismatch score on km finished in %.1fs' % (time.time() - t0))\n",
    "\n",
    "t0 = time.time()\n",
    "\n",
    "print(knn_mismatch_score(tfidf_vecs, ms.labels_, weights='uniform'))\n",
    "print('knn mismatch score on ms finished in %.1fs' % (time.time() - t0))"
   ]
  },
  {
   "cell_type": "code",
   "execution_count": 74,
   "metadata": {},
   "outputs": [
    {
     "name": "stdout",
     "output_type": "stream",
     "text": [
      "1.0\n",
      "knn mismatch score on km finished in 332.5s\n",
      "1.0\n",
      "knn mismatch score on ms finished in 341.8s\n"
     ]
    }
   ],
   "source": [
    "# a 5-minute test on predicted labels by a km and ms using INVERSE DISTANCE weights\n",
    "t0 = time.time()\n",
    "\n",
    "print(knn_mismatch_score(tfidf_vecs, km.labels_, weights='distance'))\n",
    "print('knn mismatch score on km finished in %.1fs' % (time.time() - t0))\n",
    "\n",
    "t0 = time.time()\n",
    "\n",
    "print(knn_mismatch_score(tfidf_vecs, ms.labels_, weights='distance'))\n",
    "print('knn mismatch score on ms finished in %.1fs' % (time.time() - t0))"
   ]
  },
  {
   "cell_type": "code",
   "execution_count": null,
   "metadata": {},
   "outputs": [],
   "source": []
  }
 ],
 "metadata": {
  "kernelspec": {
   "display_name": "Python 3",
   "language": "python",
   "name": "python3"
  },
  "language_info": {
   "codemirror_mode": {
    "name": "ipython",
    "version": 3
   },
   "file_extension": ".py",
   "mimetype": "text/x-python",
   "name": "python",
   "nbconvert_exporter": "python",
   "pygments_lexer": "ipython3",
   "version": "3.6.5"
  }
 },
 "nbformat": 4,
 "nbformat_minor": 2
}
