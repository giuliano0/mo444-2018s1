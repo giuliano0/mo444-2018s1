{
 "cells": [
  {
   "cell_type": "code",
   "execution_count": 9,
   "metadata": {},
   "outputs": [],
   "source": [
    "import numpy as np\n",
    "import pandas as pd\n",
    "import string\n",
    "import nltk\n",
    "import time\n",
    "\n",
    "from matplotlib import pyplot as plt\n",
    "\n",
    "from nltk.tokenize import word_tokenize\n",
    "from nltk.corpus import stopwords\n",
    "from nltk.util import ngrams\n",
    "\n",
    "from sklearn.cluster import KMeans, DBSCAN\n",
    "from sklearn.model_selection import GridSearchCV\n",
    "\n",
    "rng = np.random"
   ]
  },
  {
   "cell_type": "code",
   "execution_count": 10,
   "metadata": {},
   "outputs": [
    {
     "name": "stdout",
     "output_type": "stream",
     "text": [
      "Total rows: 1000001\n",
      "10 random rows:\n"
     ]
    },
    {
     "data": {
      "text/html": [
       "<div>\n",
       "<style scoped>\n",
       "    .dataframe tbody tr th:only-of-type {\n",
       "        vertical-align: middle;\n",
       "    }\n",
       "\n",
       "    .dataframe tbody tr th {\n",
       "        vertical-align: top;\n",
       "    }\n",
       "\n",
       "    .dataframe thead th {\n",
       "        text-align: right;\n",
       "    }\n",
       "</style>\n",
       "<table border=\"1\" class=\"dataframe\">\n",
       "  <thead>\n",
       "    <tr style=\"text-align: right;\">\n",
       "      <th></th>\n",
       "      <th>publish_date</th>\n",
       "      <th>headline_text</th>\n",
       "    </tr>\n",
       "  </thead>\n",
       "  <tbody>\n",
       "    <tr>\n",
       "      <th>943277</th>\n",
       "      <td>20160120</td>\n",
       "      <td>sharemarket closes near lowest level in two years</td>\n",
       "    </tr>\n",
       "    <tr>\n",
       "      <th>748610</th>\n",
       "      <td>20130617</td>\n",
       "      <td>bennett praises losing knights</td>\n",
       "    </tr>\n",
       "    <tr>\n",
       "      <th>629880</th>\n",
       "      <td>20120202</td>\n",
       "      <td>more time comment intervention replacement laws</td>\n",
       "    </tr>\n",
       "    <tr>\n",
       "      <th>151503</th>\n",
       "      <td>20050713</td>\n",
       "      <td>health inquiry head gets standing ovation</td>\n",
       "    </tr>\n",
       "    <tr>\n",
       "      <th>651381</th>\n",
       "      <td>20120823</td>\n",
       "      <td>women lead truckies annual reunion</td>\n",
       "    </tr>\n",
       "    <tr>\n",
       "      <th>895307</th>\n",
       "      <td>20150511</td>\n",
       "      <td>couple charged with not sending son to school ...</td>\n",
       "    </tr>\n",
       "    <tr>\n",
       "      <th>568196</th>\n",
       "      <td>20110527</td>\n",
       "      <td>clinton urges crackdown on pakistan militants</td>\n",
       "    </tr>\n",
       "    <tr>\n",
       "      <th>170071</th>\n",
       "      <td>20050508</td>\n",
       "      <td>police investigate fatal car crash</td>\n",
       "    </tr>\n",
       "    <tr>\n",
       "      <th>962006</th>\n",
       "      <td>20170615</td>\n",
       "      <td>eto nabuli named to make wallabies test debut ...</td>\n",
       "    </tr>\n",
       "    <tr>\n",
       "      <th>368099</th>\n",
       "      <td>20081216</td>\n",
       "      <td>cousins given afl lifeline</td>\n",
       "    </tr>\n",
       "  </tbody>\n",
       "</table>\n",
       "</div>"
      ],
      "text/plain": [
       "        publish_date                                      headline_text\n",
       "943277      20160120  sharemarket closes near lowest level in two years\n",
       "748610      20130617                     bennett praises losing knights\n",
       "629880      20120202    more time comment intervention replacement laws\n",
       "151503      20050713          health inquiry head gets standing ovation\n",
       "651381      20120823                 women lead truckies annual reunion\n",
       "895307      20150511  couple charged with not sending son to school ...\n",
       "568196      20110527      clinton urges crackdown on pakistan militants\n",
       "170071      20050508                 police investigate fatal car crash\n",
       "962006      20170615  eto nabuli named to make wallabies test debut ...\n",
       "368099      20081216                         cousins given afl lifeline"
      ]
     },
     "execution_count": 10,
     "metadata": {},
     "output_type": "execute_result"
    }
   ],
   "source": [
    "df = pd.read_csv('../data/news_headlines.csv')\n",
    "\n",
    "print('Total rows: %d\\n10 random rows:' % (len(df)))\n",
    "df.iloc[rng.choice(np.arange(len(df)), 10), :]"
   ]
  },
  {
   "cell_type": "code",
   "execution_count": 11,
   "metadata": {},
   "outputs": [
    {
     "name": "stdout",
     "output_type": "stream",
     "text": [
      "min date = 20030219\n",
      "max date = 20171231\n",
      "year 2003 length = 59343\n",
      "year 2004 length = 65975\n",
      "year 2005 length = 66320\n",
      "year 2006 length = 61568\n",
      "year 2007 length = 69431\n",
      "year 2008 length = 71591\n",
      "year 2009 length = 68867\n",
      "year 2010 length = 67715\n",
      "year 2011 length = 69919\n",
      "year 2012 length = 78547\n",
      "year 2013 length = 81016\n",
      "year 2014 length = 73361\n",
      "year 2015 length = 70004\n",
      "year 2016 length = 52162\n",
      "year 2017 length = 44182\n"
     ]
    },
    {
     "data": {
      "text/plain": [
       "dict_keys([2003, 2004, 2005, 2006, 2007, 2008, 2009, 2010, 2011, 2012, 2013, 2014, 2015, 2016, 2017])"
      ]
     },
     "execution_count": 11,
     "metadata": {},
     "output_type": "execute_result"
    }
   ],
   "source": [
    "# break dataset by year\n",
    "print('min date = %d\\nmax date = %d' % (np.min(df['publish_date']), np.max(df['publish_date'])))\n",
    "\n",
    "df_year = {}\n",
    "\n",
    "for y in np.arange(2003, 2018):\n",
    "    subdf = df[(df['publish_date'] >= y * 1e4) & (df['publish_date'] < (y + 1) * 1e4)]\n",
    "    df_year[y] = subdf\n",
    "    \n",
    "    print('year %d length = %d' % (y, len(subdf)))\n",
    "\n",
    "df_year.keys()"
   ]
  },
  {
   "cell_type": "markdown",
   "metadata": {},
   "source": [
    "total unique words in entire corpus (takes a bit to process): **80570**\n",
    "\n",
    "``` Python\n",
    "len(np.unique(word_tokenize(' '.join(df['headline_text']))))\n",
    "```"
   ]
  },
  {
   "cell_type": "code",
   "execution_count": 12,
   "metadata": {},
   "outputs": [],
   "source": [
    "# This one takes a little while\n",
    "def sanitise_words(a):\n",
    "    '''\n",
    "    Receives a array of words and sanitises it,\n",
    "    removing stop words, punctuation and numbers\n",
    "    (if that is the case).\n",
    "    '''\n",
    "    en_stopwords = set(stopwords.words('english'))\n",
    "    sanitised = []\n",
    "    \n",
    "    for w in a:\n",
    "        # stopwords do not include punctuation\n",
    "        # isalpha() is also excluding numbers\n",
    "        # use and (w.isalpha() or w.isnumeric)\n",
    "        if not w in en_stopwords and w.isalpha():\n",
    "            sanitised.append(w)\n",
    "    \n",
    "    return sanitised\n"
   ]
  },
  {
   "cell_type": "code",
   "execution_count": 13,
   "metadata": {},
   "outputs": [],
   "source": [
    "def word_histogram(df):\n",
    "    '''\n",
    "    Receives a pandas DataFrame as input (SHOULD RECEIVE AN ARRAY)\n",
    "    that may be formed by either words or sentences and caculates\n",
    "    a word histogram considering the whole of its corpus.\n",
    "    '''\n",
    "    words = np.array(df['headline_text'])\n",
    "    words = ' '.join(words)\n",
    "    words = word_tokenize(words)\n",
    "    words = sanitise_words(words)\n",
    "    word_hist = {}\n",
    "    \n",
    "    for w in words:\n",
    "        word_hist[w] = (word_hist.get(w) or 0) + 1\n",
    "        \n",
    "    return word_hist\n"
   ]
  },
  {
   "cell_type": "code",
   "execution_count": null,
   "metadata": {},
   "outputs": [],
   "source": [
    "whist = word_histogram(df)\n",
    "\n",
    "dfhist = pd.DataFrame.from_dict(whist, orient='index')\n",
    "dfhist.columns = ['count']\n",
    "dfhist = dfhist.sort_values('count', ascending=False)"
   ]
  },
  {
   "cell_type": "code",
   "execution_count": null,
   "metadata": {},
   "outputs": [],
   "source": [
    "# plots a line+stem plot with most common words across a dfhist\n",
    "\n",
    "years = np.arange(2003, 2018)\n",
    "fig, axes = plt.subplots(len(years), 1, figsize=(18,4 * len(years)))\n",
    "\n",
    "for i in range(len(years)):\n",
    "    axes[i].plot(dfhist.iloc[0:40,:], 'o-')\n",
    "    axes[i].stem(dfhist.iloc[0:40,:])\n",
    "    axes[i].xticks(rotation=60)\n",
    "\n",
    "plt.show()"
   ]
  },
  {
   "cell_type": "code",
   "execution_count": 35,
   "metadata": {},
   "outputs": [],
   "source": [
    "inertias = []\n",
    "n_clusters = np.arange(5, 31)\n",
    "\n",
    "for k in n_clusters:\n",
    "    km = KMeans(n_clusters=k, n_jobs=4, max_iter=300)\n",
    "    km.fit(data)\n",
    "    \n",
    "    inertias.append(km.inertia_)\n"
   ]
  },
  {
   "cell_type": "code",
   "execution_count": null,
   "metadata": {},
   "outputs": [],
   "source": [
    "KMeans?"
   ]
  },
  {
   "cell_type": "code",
   "execution_count": 2,
   "metadata": {},
   "outputs": [],
   "source": [
    "from nltk.cluster import KMeansClusterer"
   ]
  },
  {
   "cell_type": "code",
   "execution_count": 72,
   "metadata": {},
   "outputs": [
    {
     "data": {
      "text/plain": [
       "<matplotlib.collections.PolyCollection at 0x1a1c518978>"
      ]
     },
     "execution_count": 72,
     "metadata": {},
     "output_type": "execute_result"
    },
    {
     "data": {
      "image/png": "[encoded data removed]",
      "text/plain": [
       "<matplotlib.figure.Figure at 0x1a343d0208>"
      ]
     },
     "metadata": {},
     "output_type": "display_data"
    }
   ],
   "source": [
    "x = np.arange(0, 100, 1)\n",
    "y = (100 + rng.normal(20, 20, (100,)) + rng.normal(40, 40, (100,)) + rng.normal(60, 60, (100,)) + rng.normal(80, 80, (100,))) / 4\n",
    "\n",
    "\n",
    "fig, ax = plt.subplots(figsize=(4, 2))\n",
    "ax.set_xticks([])\n",
    "ax.set_yticks([])\n",
    "ax.plot(x, y)\n",
    "ax.fill_between(x, 0, y, alpha=0.6, clip_on=True)"
   ]
  },
  {
   "cell_type": "markdown",
   "metadata": {},
   "source": [
    "The basics:\n",
    "- Tokenise\n",
    "- Remove stop words\n",
    "- **Remove numbers?**\n",
    "- Remove punctuation\n",
    "- Remove prefixes and suffixes\n",
    "\n",
    "Wonders:\n",
    "- Can I use a synonym dictionary to identify equivalence between words? What about each word being synonym of 2 semantically different words? Any examples?\n"
   ]
  },
  {
   "cell_type": "code",
   "execution_count": 51,
   "metadata": {},
   "outputs": [
    {
     "data": {
      "text/plain": [
       "array([], dtype=float64)"
      ]
     },
     "execution_count": 51,
     "metadata": {},
     "output_type": "execute_result"
    }
   ],
   "source": [
    "y[y<0]"
   ]
  },
  {
   "cell_type": "code",
   "execution_count": 54,
   "metadata": {},
   "outputs": [
    {
     "data": {
      "text/plain": [
       "\u001b[0;31mSignature:\u001b[0m \u001b[0max\u001b[0m\u001b[0;34m.\u001b[0m\u001b[0mfill_between\u001b[0m\u001b[0;34m(\u001b[0m\u001b[0mx\u001b[0m\u001b[0;34m,\u001b[0m \u001b[0my1\u001b[0m\u001b[0;34m,\u001b[0m \u001b[0my2\u001b[0m\u001b[0;34m=\u001b[0m\u001b[0;36m0\u001b[0m\u001b[0;34m,\u001b[0m \u001b[0mwhere\u001b[0m\u001b[0;34m=\u001b[0m\u001b[0;32mNone\u001b[0m\u001b[0;34m,\u001b[0m \u001b[0minterpolate\u001b[0m\u001b[0;34m=\u001b[0m\u001b[0;32mFalse\u001b[0m\u001b[0;34m,\u001b[0m \u001b[0mstep\u001b[0m\u001b[0;34m=\u001b[0m\u001b[0;32mNone\u001b[0m\u001b[0;34m,\u001b[0m \u001b[0;34m*\u001b[0m\u001b[0;34m,\u001b[0m \u001b[0mdata\u001b[0m\u001b[0;34m=\u001b[0m\u001b[0;32mNone\u001b[0m\u001b[0;34m,\u001b[0m \u001b[0;34m**\u001b[0m\u001b[0mkwargs\u001b[0m\u001b[0;34m)\u001b[0m\u001b[0;34m\u001b[0m\u001b[0m\n",
       "\u001b[0;31mDocstring:\u001b[0m\n",
       "Make filled polygons between two curves.\n",
       "\n",
       "\n",
       "Create a :class:`~matplotlib.collections.PolyCollection`\n",
       "filling the regions between *y1* and *y2* where\n",
       "``where==True``\n",
       "\n",
       "Parameters\n",
       "----------\n",
       "x : array\n",
       "    An N-length array of the x data\n",
       "\n",
       "y1 : array\n",
       "    An N-length array (or scalar) of the y data\n",
       "\n",
       "y2 : array\n",
       "    An N-length array (or scalar) of the y data\n",
       "\n",
       "where : array, optional\n",
       "    If `None`, default to fill between everywhere.  If not `None`,\n",
       "    it is an N-length numpy boolean array and the fill will\n",
       "    only happen over the regions where ``where==True``.\n",
       "\n",
       "interpolate : bool, optional\n",
       "    If `True`, interpolate between the two lines to find the\n",
       "    precise point of intersection.  Otherwise, the start and\n",
       "    end points of the filled region will only occur on explicit\n",
       "    values in the *x* array.\n",
       "\n",
       "step : {'pre', 'post', 'mid'}, optional\n",
       "    If not None, fill with step logic.\n",
       "\n",
       "\n",
       "Notes\n",
       "-----\n",
       "\n",
       "Additional Keyword args passed on to the\n",
       ":class:`~matplotlib.collections.PolyCollection`.\n",
       "\n",
       "kwargs control the :class:`~matplotlib.patches.Polygon` properties:\n",
       "\n",
       "  agg_filter: a filter function, which takes a (m, n, 3) float array and a dpi value, and returns a (m, n, 3) array \n",
       "  alpha: float or None \n",
       "  animated: bool \n",
       "  antialiased or antialiaseds: Boolean or sequence of booleans \n",
       "  array: ndarray\n",
       "  clim: a length 2 sequence of floats \n",
       "  clip_box: a `~.Bbox` instance \n",
       "  clip_on: bool \n",
       "  clip_path: [(`~matplotlib.path.Path`, `~.Transform`) | `~.Patch` | None] \n",
       "  cmap: a colormap or registered colormap name \n",
       "  color: matplotlib color arg or sequence of rgba tuples\n",
       "  contains: a callable function \n",
       "  edgecolor or edgecolors: matplotlib color spec or sequence of specs \n",
       "  facecolor or facecolors: matplotlib color spec or sequence of specs \n",
       "  figure: a `~.Figure` instance \n",
       "  gid: an id string \n",
       "  hatch: [ '/' | '\\\\' | '|' | '-' | '+' | 'x' | 'o' | 'O' | '.' | '*' ] \n",
       "  label: object \n",
       "  linestyle or dashes or linestyles: ['solid' | 'dashed', 'dashdot', 'dotted' | (offset, on-off-dash-seq) | ``'-'`` | ``'--'`` | ``'-.'`` | ``':'`` | ``'None'`` | ``' '`` | ``''``]\n",
       "  linewidth or linewidths or lw: float or sequence of floats \n",
       "  norm: `~.Normalize`\n",
       "  offset_position: [ 'screen' | 'data' ] \n",
       "  offsets: float or sequence of floats \n",
       "  path_effects: `~.AbstractPathEffect` \n",
       "  picker: [None | bool | float | callable] \n",
       "  pickradius: float distance in points\n",
       "  rasterized: bool or None \n",
       "  sketch_params: (scale: float, length: float, randomness: float) \n",
       "  snap: bool or None \n",
       "  transform: `~.Transform` \n",
       "  url: a url string \n",
       "  urls: List[str] or None \n",
       "  visible: bool \n",
       "  zorder: float \n",
       "\n",
       "See Also\n",
       "--------\n",
       "\n",
       "    :meth:`fill_betweenx`\n",
       "        for filling between two sets of x-values\n",
       "\n",
       ".. note::\n",
       "    In addition to the above described arguments, this function can take a\n",
       "    **data** keyword argument. If such a **data** argument is given, the\n",
       "    following arguments are replaced by **data[<arg>]**:\n",
       "\n",
       "    * All arguments with the following names: 'where', 'x', 'y1', 'y2'.\n",
       "\u001b[0;31mFile:\u001b[0m      ~/anaconda3/lib/python3.6/site-packages/matplotlib/axes/_axes.py\n",
       "\u001b[0;31mType:\u001b[0m      method\n"
      ]
     },
     "metadata": {},
     "output_type": "display_data"
    }
   ],
   "source": [
    "ax.fill_between?"
   ]
  }
 ],
 "metadata": {
  "kernelspec": {
   "display_name": "Python 3",
   "language": "python",
   "name": "python3"
  },
  "language_info": {
   "codemirror_mode": {
    "name": "ipython",
    "version": 3
   },
   "file_extension": ".py",
   "mimetype": "text/x-python",
   "name": "python",
   "nbconvert_exporter": "python",
   "pygments_lexer": "ipython3",
   "version": "3.6.4"
  }
 },
 "nbformat": 4,
 "nbformat_minor": 2
}
