{
 "cells": [
  {
   "cell_type": "code",
   "execution_count": 66,
   "metadata": {},
   "outputs": [],
   "source": [
    "import numpy as np\n",
    "import pandas as pd\n",
    "import string\n",
    "import nltk\n",
    "import time\n",
    "\n",
    "from matplotlib import pyplot as plt\n",
    "\n",
    "from nltk.tokenize import word_tokenize\n",
    "from nltk.corpus import stopwords\n",
    "from nltk.util import ngrams\n",
    "\n",
    "from sklearn.cluster import KMeans, DBSCAN\n",
    "from sklearn.model_selection import GridSearchCV\n",
    "\n",
    "rng = np.random"
   ]
  },
  {
   "cell_type": "code",
   "execution_count": 3,
   "metadata": {},
   "outputs": [
    {
     "name": "stdout",
     "output_type": "stream",
     "text": [
      "Total rows: 1000001\n",
      "10 random rows:\n"
     ]
    },
    {
     "data": {
      "text/html": [
       "<div>\n",
       "<style scoped>\n",
       "    .dataframe tbody tr th:only-of-type {\n",
       "        vertical-align: middle;\n",
       "    }\n",
       "\n",
       "    .dataframe tbody tr th {\n",
       "        vertical-align: top;\n",
       "    }\n",
       "\n",
       "    .dataframe thead th {\n",
       "        text-align: right;\n",
       "    }\n",
       "</style>\n",
       "<table border=\"1\" class=\"dataframe\">\n",
       "  <thead>\n",
       "    <tr style=\"text-align: right;\">\n",
       "      <th></th>\n",
       "      <th>publish_date</th>\n",
       "      <th>headline_text</th>\n",
       "    </tr>\n",
       "  </thead>\n",
       "  <tbody>\n",
       "    <tr>\n",
       "      <th>133823</th>\n",
       "      <td>20050122</td>\n",
       "      <td>storms hit nsw wine harvest</td>\n",
       "    </tr>\n",
       "    <tr>\n",
       "      <th>427061</th>\n",
       "      <td>20090206</td>\n",
       "      <td>encouraging employment</td>\n",
       "    </tr>\n",
       "    <tr>\n",
       "      <th>909431</th>\n",
       "      <td>20160419</td>\n",
       "      <td>paul dimattina fined 500 for punching bar manager</td>\n",
       "    </tr>\n",
       "    <tr>\n",
       "      <th>11016</th>\n",
       "      <td>20030319</td>\n",
       "      <td>public urged to back australian troops</td>\n",
       "    </tr>\n",
       "    <tr>\n",
       "      <th>123737</th>\n",
       "      <td>20040429</td>\n",
       "      <td>former longreach rouseabout becomes priest</td>\n",
       "    </tr>\n",
       "    <tr>\n",
       "      <th>556662</th>\n",
       "      <td>20110604</td>\n",
       "      <td>indian yoga guru hungry for justice</td>\n",
       "    </tr>\n",
       "    <tr>\n",
       "      <th>819668</th>\n",
       "      <td>20140110</td>\n",
       "      <td>lake tyers threaten court action over new mana...</td>\n",
       "    </tr>\n",
       "    <tr>\n",
       "      <th>315262</th>\n",
       "      <td>20070419</td>\n",
       "      <td>japan mulls beefing up gun laws</td>\n",
       "    </tr>\n",
       "    <tr>\n",
       "      <th>543341</th>\n",
       "      <td>20111107</td>\n",
       "      <td>group kept in the dark on memorial decision</td>\n",
       "    </tr>\n",
       "    <tr>\n",
       "      <th>231913</th>\n",
       "      <td>20060717</td>\n",
       "      <td>israel to continue offensive</td>\n",
       "    </tr>\n",
       "  </tbody>\n",
       "</table>\n",
       "</div>"
      ],
      "text/plain": [
       "        publish_date                                      headline_text\n",
       "133823      20050122                        storms hit nsw wine harvest\n",
       "427061      20090206                             encouraging employment\n",
       "909431      20160419  paul dimattina fined 500 for punching bar manager\n",
       "11016       20030319             public urged to back australian troops\n",
       "123737      20040429         former longreach rouseabout becomes priest\n",
       "556662      20110604                indian yoga guru hungry for justice\n",
       "819668      20140110  lake tyers threaten court action over new mana...\n",
       "315262      20070419                    japan mulls beefing up gun laws\n",
       "543341      20111107        group kept in the dark on memorial decision\n",
       "231913      20060717                       israel to continue offensive"
      ]
     },
     "execution_count": 3,
     "metadata": {},
     "output_type": "execute_result"
    }
   ],
   "source": [
    "df = pd.read_csv('../data/news_headlines.csv')\n",
    "\n",
    "print('Total rows: %d\\n10 random rows:' % (len(df)))\n",
    "df.iloc[rng.choice(np.arange(len(df)), 10), :]"
   ]
  },
  {
   "cell_type": "code",
   "execution_count": 19,
   "metadata": {},
   "outputs": [
    {
     "name": "stdout",
     "output_type": "stream",
     "text": [
      "min date = 20030219\n",
      "max date = 20171231\n",
      "year 2003 length = 59343\n",
      "year 2004 length = 65975\n",
      "year 2005 length = 66320\n",
      "year 2006 length = 61568\n",
      "year 2007 length = 69431\n",
      "year 2008 length = 71591\n",
      "year 2009 length = 68867\n",
      "year 2010 length = 67715\n",
      "year 2011 length = 69919\n",
      "year 2012 length = 78547\n",
      "year 2013 length = 81016\n",
      "year 2014 length = 73361\n",
      "year 2015 length = 70004\n",
      "year 2016 length = 52162\n",
      "year 2017 length = 44182\n"
     ]
    },
    {
     "data": {
      "text/plain": [
       "dict_keys([2003, 2004, 2005, 2006, 2007, 2008, 2009, 2010, 2011, 2012, 2013, 2014, 2015, 2016, 2017])"
      ]
     },
     "execution_count": 19,
     "metadata": {},
     "output_type": "execute_result"
    }
   ],
   "source": [
    "# break dataset by year\n",
    "print('min date = %d\\nmax date = %d' % (np.min(df['publish_date']), np.max(df['publish_date'])))\n",
    "\n",
    "df_year = {}\n",
    "\n",
    "for y in np.arange(2003, 2018):\n",
    "    subdf = df[(df['publish_date'] >= y * 1e4) & (df['publish_date'] < (y + 1) * 1e4)]\n",
    "    df_year[y] = subdf\n",
    "    \n",
    "    print('year %d length = %d' % (y, len(subdf)))\n",
    "\n",
    "df_year.keys()"
   ]
  },
  {
   "cell_type": "markdown",
   "metadata": {},
   "source": [
    "total unique words in entire corpus (takes a bit to process): **80570**\n",
    "\n",
    "``` Python\n",
    "len(np.unique(word_tokenize(' '.join(df['headline_text']))))\n",
    "```"
   ]
  },
  {
   "cell_type": "code",
   "execution_count": 75,
   "metadata": {},
   "outputs": [],
   "source": [
    "# This one takes a little while\n",
    "def sanitise_words(a):\n",
    "    en_stopwords = set(stopwords.words('english'))\n",
    "    sanitised = []\n",
    "    \n",
    "    for w in a:\n",
    "        # stopwords do not include punctuation\n",
    "        # isalpha() is also excluding numbers\n",
    "        # use and (w.isalpha() or w.isnumeric)\n",
    "        if not w in en_stopwords and w.isalpha():\n",
    "            sanitised.append(w)\n",
    "    \n",
    "    return sanitised\n"
   ]
  },
  {
   "cell_type": "code",
   "execution_count": 76,
   "metadata": {},
   "outputs": [],
   "source": [
    "# Let's histogram the entire corpus. Get all headlines, sanitise and histogram\n",
    "def word_histogram(df):\n",
    "    headlines = np.array(df['headline_text'])\n",
    "    headlines = ' '.join(headlines)\n",
    "    headlines = word_tokenize(headlines)\n",
    "    headlines = sanitise_words(headlines)\n",
    "    word_hist = {}\n",
    "    \n",
    "    for w in headlines:\n",
    "        word_hist[w] = (word_hist.get(w) or 0) + 1\n",
    "        \n",
    "    return word_hist\n"
   ]
  },
  {
   "cell_type": "code",
   "execution_count": 100,
   "metadata": {},
   "outputs": [],
   "source": [
    "whist = word_histogram(df)\n",
    "\n",
    "dfhist = pd.DataFrame.from_dict(whist, orient='index')\n",
    "dfhist.columns = ['count']\n",
    "dfhist = dfhist.sort_values('count', ascending=False)"
   ]
  },
  {
   "cell_type": "code",
   "execution_count": 104,
   "metadata": {},
   "outputs": [
    {
     "data": {
      "image/png": "[encoded data removed]",
      "text/plain": [
       "<Figure size 1440x288 with 1 Axes>"
      ]
     },
     "metadata": {},
     "output_type": "display_data"
    }
   ],
   "source": [
    "# plots a line+stem plot with most common words across a dfhist\n",
    "plt.figure(figsize=(20,4))\n",
    "plt.plot(dfhist.iloc[0:40,:], 'o-')\n",
    "plt.stem(dfhist.iloc[0:40,:])\n",
    "plt.xticks(rotation=60)\n",
    "plt.show()"
   ]
  },
  {
   "cell_type": "code",
   "execution_count": 35,
   "metadata": {},
   "outputs": [],
   "source": [
    "inertias = []\n",
    "n_clusters = np.arange(5, 31)\n",
    "\n",
    "for k in n_clusters:\n",
    "    km = KMeans(n_clusters=k, n_jobs=4, max_iter=300)\n",
    "    km.fit(data)\n",
    "    \n",
    "    inertias.append(km.inertia_)\n"
   ]
  },
  {
   "cell_type": "code",
   "execution_count": null,
   "metadata": {},
   "outputs": [],
   "source": [
    "KMeans?"
   ]
  },
  {
   "cell_type": "code",
   "execution_count": 79,
   "metadata": {},
   "outputs": [
    {
     "data": {
      "text/plain": [
       "False"
      ]
     },
     "execution_count": 79,
     "metadata": {},
     "output_type": "execute_result"
    }
   ],
   "source": [
    "'...'.isalpha()"
   ]
  }
 ],
 "metadata": {
  "kernelspec": {
   "display_name": "Python 3",
   "language": "python",
   "name": "python3"
  },
  "language_info": {
   "codemirror_mode": {
    "name": "ipython",
    "version": 3
   },
   "file_extension": ".py",
   "mimetype": "text/x-python",
   "name": "python",
   "nbconvert_exporter": "python",
   "pygments_lexer": "ipython3",
   "version": "3.6.5"
  }
 },
 "nbformat": 4,
 "nbformat_minor": 2
}
